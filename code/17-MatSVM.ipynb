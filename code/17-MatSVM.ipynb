{
 "cells": [
  {
   "cell_type": "markdown",
   "metadata": {},
   "source": [
    "Import libraries"
   ]
  },
  {
   "cell_type": "code",
   "execution_count": 1,
   "metadata": {
    "collapsed": true
   },
   "outputs": [],
   "source": [
    "import numpy as np\n",
    "import pandas as pd\n",
    "\n",
    "import itertools\n",
    "\n",
    "import matplotlib.pyplot as plt\n",
    "from mpl_toolkits.axes_grid1 import make_axes_locatable\n",
    "\n",
    "from sklearn import svm\n",
    "from sklearn.model_selection import train_test_split, cross_val_score\n",
    "from sklearn.metrics import confusion_matrix, accuracy_score"
   ]
  },
  {
   "cell_type": "markdown",
   "metadata": {},
   "source": [
    "Read csv file"
   ]
  },
  {
   "cell_type": "code",
   "execution_count": 2,
   "metadata": {
    "collapsed": false,
    "scrolled": false
   },
   "outputs": [],
   "source": [
    "df = pd.read_csv(\"../data/student/student-mat-categorized.csv\")\n",
    "\n",
    "header = list(df)"
   ]
  },
  {
   "cell_type": "markdown",
   "metadata": {},
   "source": [
    "Convert text to dummy variables"
   ]
  },
  {
   "cell_type": "code",
   "execution_count": 3,
   "metadata": {
    "collapsed": true
   },
   "outputs": [],
   "source": [
    "original = []\n",
    "for attr in header:\n",
    "    counts = df[attr].value_counts()\n",
    "    original.append(counts.index.tolist())\n",
    "    \n",
    "    for i in range(len(df)):\n",
    "        value = df.get_value(i, attr)\n",
    "        new = counts.index.tolist().index(value)\n",
    "        df.set_value(i, attr, new)"
   ]
  },
  {
   "cell_type": "markdown",
   "metadata": {},
   "source": [
    "To plot confusion matrix"
   ]
  },
  {
   "cell_type": "code",
   "execution_count": 4,
   "metadata": {
    "collapsed": true
   },
   "outputs": [],
   "source": [
    "def rearrangeMatrix(matrix):\n",
    "    matrix[:,[0, 1, 2, 3, 4]] = matrix[:,[3, 4, 0, 1, 2]]\n",
    "    matrix[[0, 1, 2, 3, 4], :] = matrix[[3, 4, 0, 1, 2], :]\n",
    "\n",
    "def plot_confusion_matrix(cm, classes=np.arange(5), title='Confusion matrix', cmap=plt.cm.Blues):\n",
    "    \"\"\"\n",
    "    Print and plot the confusion matrix. Normalization can be applied by setting `normalize=True`.\n",
    "    \"\"\"\n",
    "    \n",
    "    rearrangeMatrix(cm)\n",
    "    \n",
    "    fig = plt.figure(figsize=(12, 6))\n",
    "    \n",
    "    tick_marks = np.arange(len(classes))\n",
    "    \n",
    "    \"\"\"\n",
    "    Without Normalization\n",
    "    \"\"\"\n",
    "    \n",
    "    ax1 = fig.add_subplot(121)\n",
    "    \n",
    "    divider = make_axes_locatable(ax1)\n",
    "    cax = divider.append_axes('right', size='5%', pad=0.05)\n",
    "    im = ax1.imshow(cm, interpolation='nearest', cmap=cmap)\n",
    "    fig.colorbar(im, cax = cax, orientation='vertical')\n",
    "    \n",
    "    ax1.set_title(title + \", without normalization\")\n",
    "    ax1.set_xticks(np.arange(len(classes)))\n",
    "    ax1.set_xticklabels(classes)\n",
    "    ax1.set_yticks(np.arange(len(classes)))\n",
    "    ax1.set_yticklabels(classes)\n",
    "    np.set_printoptions(precision=2)\n",
    "    \n",
    "    thresh = cm.max() / 2.\n",
    "    for i, j in itertools.product(range(cm.shape[0]), range(cm.shape[1])):\n",
    "        val = cm[i, j]\n",
    "        ax1.annotate(val, xy=(j, i), ha=\"center\", color=\"white\" if val > thresh else \"black\")\n",
    "        \n",
    "    ax1.set_ylabel('True label')\n",
    "    ax1.set_xlabel('Predicted label')\n",
    "    \n",
    "   \n",
    "    \"\"\"\n",
    "    With Normalization\n",
    "    \"\"\"\n",
    "\n",
    "    ax2 = fig.add_subplot(122)\n",
    "    \n",
    "    cm = cm.astype('float') / cm.sum(axis=1)[:, np.newaxis]\n",
    "    \n",
    "    divider = make_axes_locatable(ax2)\n",
    "    cax = divider.append_axes('right', size='5%', pad=0.05)\n",
    "    im = ax2.imshow(cm, interpolation='nearest', cmap=cmap)\n",
    "    fig.colorbar(im, cax = cax, orientation='vertical')\n",
    "    \n",
    "    ax2.set_title(title + \", with normalization\")\n",
    "    ax2.set_xticks(np.arange(len(classes)))\n",
    "    ax2.set_xticklabels(classes)\n",
    "    ax2.set_yticks(np.arange(len(classes)))\n",
    "    ax2.set_yticklabels(classes)\n",
    "    np.set_printoptions(precision=2)\n",
    "    \n",
    "    thresh = cm.max() / 2.\n",
    "    for i, j in itertools.product(range(cm.shape[0]), range(cm.shape[1])):\n",
    "        val = round(cm[i, j], 2)\n",
    "        ax2.annotate(val, xy=(j, i), ha=\"center\", color=\"white\" if val > thresh else \"black\")\n",
    "        \n",
    "    ax2.set_ylabel('True label')\n",
    "    ax2.set_xlabel('Predicted label')\n",
    "    \n",
    "    plt.tight_layout()\n",
    "    plt.show()"
   ]
  },
  {
   "cell_type": "markdown",
   "metadata": {},
   "source": [
    "y data, always same"
   ]
  },
  {
   "cell_type": "code",
   "execution_count": 5,
   "metadata": {
    "collapsed": true
   },
   "outputs": [],
   "source": [
    "y = pd.DataFrame.copy(df.iloc[:, -1])"
   ]
  },
  {
   "cell_type": "markdown",
   "metadata": {},
   "source": [
    "No test scores"
   ]
  },
  {
   "cell_type": "code",
   "execution_count": 6,
   "metadata": {
    "collapsed": false
   },
   "outputs": [
    {
     "data": {
      "text/plain": [
       "array([ 0.43209877,  0.40740741,  0.41772152,  0.41558442,  0.41558442])"
      ]
     },
     "execution_count": 6,
     "metadata": {},
     "output_type": "execute_result"
    }
   ],
   "source": [
    "X = pd.DataFrame.copy(df.iloc[:, :-3])\n",
    "\n",
    "svmc = svm.SVC(kernel='linear', C=0.01)\n",
    "scores = cross_val_score(svmc, X, y, cv=5, scoring='accuracy')\n",
    "scores"
   ]
  },
  {
   "cell_type": "code",
   "execution_count": 7,
   "metadata": {
    "collapsed": false
   },
   "outputs": [
    {
     "data": {
      "text/plain": [
       "0.41767930459913583"
      ]
     },
     "execution_count": 7,
     "metadata": {},
     "output_type": "execute_result"
    }
   ],
   "source": [
    "scores.mean()"
   ]
  },
  {
   "cell_type": "code",
   "execution_count": 8,
   "metadata": {
    "collapsed": false
   },
   "outputs": [
    {
     "data": {
      "text/plain": [
       "0.41139240506329117"
      ]
     },
     "execution_count": 8,
     "metadata": {},
     "output_type": "execute_result"
    }
   ],
   "source": [
    "X_train, X_test, y_train, y_test= train_test_split(X, y, test_size= 0.4)\n",
    "\n",
    "svmc.fit(X_train, y_train) \n",
    "pred = svmc.predict(X_test)\n",
    "accuracy = accuracy_score(y_test, pred)\n",
    "accuracy"
   ]
  },
  {
   "cell_type": "code",
   "execution_count": 9,
   "metadata": {
    "collapsed": false
   },
   "outputs": [
    {
     "data": {
      "text/plain": [
       "<matplotlib.figure.Figure at 0x118c585f8>"
      ]
     },
     "metadata": {},
     "output_type": "display_data"
    },
    {
     "data": {
      "image/png": "[encoded data removed]",
      "text/plain": [
       "<matplotlib.figure.Figure at 0x118c583c8>"
      ]
     },
     "metadata": {},
     "output_type": "display_data"
    }
   ],
   "source": [
    "cnf_matrix = confusion_matrix(y_test, pred)\n",
    "plt.figure()\n",
    "plot_confusion_matrix(cnf_matrix, title='Confusion matrix for SVM')"
   ]
  },
  {
   "cell_type": "markdown",
   "metadata": {},
   "source": [
    "Both test scores"
   ]
  },
  {
   "cell_type": "code",
   "execution_count": 10,
   "metadata": {
    "collapsed": false
   },
   "outputs": [
    {
     "data": {
      "text/plain": [
       "array([ 0.6 ,  0.58,  0.59,  0.7 ,  0.53])"
      ]
     },
     "execution_count": 10,
     "metadata": {},
     "output_type": "execute_result"
    }
   ],
   "source": [
    "X = pd.DataFrame.copy(df.iloc[:, :-1])\n",
    "\n",
    "svmc = svm.SVC(kernel='linear', C=0.01)\n",
    "scores = cross_val_score(svmc, X, y, cv=5, scoring='accuracy')\n",
    "scores"
   ]
  },
  {
   "cell_type": "code",
   "execution_count": 11,
   "metadata": {
    "collapsed": false
   },
   "outputs": [
    {
     "data": {
      "text/plain": [
       "0.60277762556243564"
      ]
     },
     "execution_count": 11,
     "metadata": {},
     "output_type": "execute_result"
    }
   ],
   "source": [
    "scores.mean()"
   ]
  },
  {
   "cell_type": "code",
   "execution_count": 12,
   "metadata": {
    "collapsed": false
   },
   "outputs": [
    {
     "data": {
      "text/plain": [
       "0.50632911392405067"
      ]
     },
     "execution_count": 12,
     "metadata": {},
     "output_type": "execute_result"
    }
   ],
   "source": [
    "X_train, X_test, y_train, y_test= train_test_split(X, y, test_size= 0.4)\n",
    "\n",
    "svmc.fit(X_train, y_train) \n",
    "pred = svmc.predict(X_test)\n",
    "accuracy = accuracy_score(y_test, pred)\n",
    "accuracy"
   ]
  },
  {
   "cell_type": "code",
   "execution_count": 13,
   "metadata": {
    "collapsed": false
   },
   "outputs": [
    {
     "data": {
      "text/plain": [
       "<matplotlib.figure.Figure at 0x11c0b4128>"
      ]
     },
     "metadata": {},
     "output_type": "display_data"
    },
    {
     "data": {
      "image/png": "[encoded data removed]",
      "text/plain": [
       "<matplotlib.figure.Figure at 0x11c10c0b8>"
      ]
     },
     "metadata": {},
     "output_type": "display_data"
    }
   ],
   "source": [
    "cnf_matrix = confusion_matrix(y_test, pred)\n",
    "plt.figure()\n",
    "plot_confusion_matrix(cnf_matrix, title='Confusion matrix for SVM')"
   ]
  },
  {
   "cell_type": "code",
   "execution_count": null,
   "metadata": {
    "collapsed": true
   },
   "outputs": [],
   "source": []
  }
 ],
 "metadata": {
  "kernelspec": {
   "display_name": "Python 3",
   "language": "python",
   "name": "python3"
  },
  "language_info": {
   "codemirror_mode": {
    "name": "ipython",
    "version": 3
   },
   "file_extension": ".py",
   "mimetype": "text/x-python",
   "name": "python",
   "nbconvert_exporter": "python",
   "pygments_lexer": "ipython3",
   "version": "3.6.0"
  }
 },
 "nbformat": 4,
 "nbformat_minor": 2
}
