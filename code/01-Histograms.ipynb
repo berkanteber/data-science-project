{
 "cells": [
  {
   "cell_type": "markdown",
   "metadata": {},
   "source": [
    "Import libraries"
   ]
  },
  {
   "cell_type": "code",
   "execution_count": 1,
   "metadata": {
    "collapsed": true
   },
   "outputs": [],
   "source": [
    "from matplotlib import pyplot as plt\n",
    "import numpy as np\n",
    "import pandas as pd"
   ]
  },
  {
   "cell_type": "markdown",
   "metadata": {},
   "source": [
    "Read data from .csv files"
   ]
  },
  {
   "cell_type": "code",
   "execution_count": 2,
   "metadata": {
    "collapsed": false
   },
   "outputs": [],
   "source": [
    "edu_spending_DF = pd.read_csv(\"../data/oecd_education_spending.csv\")\n",
    "edu_private_DF = pd.read_csv(\"../data/oecd_private_spending_on_education.csv\")\n",
    "edu_public_DF = pd.read_csv(\"../data/oecd_public_spending_on_education.csv\")\n",
    "edu_tertiary_DF = pd.read_csv(\"../data/oecd_spending_on_tertiary_education.csv\")\n",
    "\n",
    "pisa_reading_DF = pd.read_csv(\"../data/oecd_pisa_reading.csv\")\n",
    "pisa_math_DF = pd.read_csv(\"../data/oecd_pisa_math.csv\")\n",
    "pisa_science_DF = pd.read_csv(\"../data/oecd_pisa_science.csv\")\n",
    "\n",
    "researchers_rd_DF = pd.read_csv(\"../data/wb_researchers_in_rd.csv\")\n",
    "rd_expenditure_DF = pd.read_csv(\"../data/wb_rd_expenditure.csv\")\n",
    "\n",
    "high_tech_exports_DF = pd.read_csv(\"../data/wb_high_technology_exports.csv\")\n",
    "\n",
    "population_DF = pd.read_csv(\"../data/wb_population_total.csv\")\n",
    "patent_res_DF = pd.read_csv(\"../data/wb_patent_applications_residents.csv\")\n",
    "patent_nres_DF = pd.read_csv(\"../data/wb_patent_applications_nonresidents.csv\")\n",
    "\n",
    "gini_DF = pd.read_csv(\"../data/wb_gini_index.csv\")\n",
    "gdp_percapita_DF = pd.read_csv(\"../data/wb_gdp_per_capita.csv\")"
   ]
  },
  {
   "cell_type": "markdown",
   "metadata": {},
   "source": [
    "Convert data frames into lists"
   ]
  },
  {
   "cell_type": "code",
   "execution_count": 3,
   "metadata": {
    "collapsed": false
   },
   "outputs": [],
   "source": [
    "edu_spending = edu_spending_DF.values\n",
    "edu_private = edu_private_DF.values\n",
    "edu_public = edu_public_DF.values\n",
    "edu_tertiary = edu_tertiary_DF.values\n",
    "\n",
    "pisa_reading = pisa_reading_DF.values\n",
    "pisa_math = pisa_math_DF.values\n",
    "pisa_science = pisa_science_DF.values\n",
    "\n",
    "researchers_rd = researchers_rd_DF.values\n",
    "rd_expenditure = rd_expenditure_DF.values\n",
    "\n",
    "high_tech_exports = high_tech_exports_DF.values\n",
    "\n",
    "population = population_DF.values\n",
    "patent_res = patent_res_DF.values\n",
    "patent_nres = patent_nres_DF.values\n",
    "\n",
    "gini = gini_DF.values\n",
    "gdp_percapita = gdp_percapita_DF.values"
   ]
  },
  {
   "cell_type": "markdown",
   "metadata": {},
   "source": [
    "Data: Education Spending (% of GDP) -- Primary to Non-Tertiary\n",
    "Source: OECD\n",
    "\n",
    "(I used the latest data available for each country)"
   ]
  },
  {
   "cell_type": "code",
   "execution_count": 4,
   "metadata": {
    "collapsed": false
   },
   "outputs": [
    {
     "data": {
      "image/png": "[encoded data removed]",
      "text/plain": [
       "<matplotlib.figure.Figure at 0x114413668>"
      ]
     },
     "metadata": {},
     "output_type": "display_data"
    }
   ],
   "source": [
    "edu_spending_pryntry = [[x[0], x[5], x[6]] for x in edu_spending if x[0] != \"OAVG\" and x[2] == \"PRY_NTRY\" and ~np.isnan(x[6])]\n",
    "\n",
    "### get latest data\n",
    "edu_spending_pryntry_latest = []\n",
    "for i in range(len(edu_spending_pryntry) - 1):\n",
    "    if edu_spending_pryntry[i][0] != edu_spending_pryntry[i + 1][0]:\n",
    "        edu_spending_pryntry_latest.append(edu_spending_pryntry[i])\n",
    "edu_spending_pryntry_latest.append(edu_spending_pryntry[-1])\n",
    "\n",
    "edu_spending_pryntry_latest = np.matrix(edu_spending_pryntry_latest)\n",
    "\n",
    "hist, bins = np.histogram(edu_spending_pryntry_latest[:, 2].astype(np.float), bins = 15, range = (0, 6))\n",
    "\n",
    "width = 0.8 * (bins[1] - bins[0])\n",
    "center = (bins[:-1] + bins[1:]) / 2\n",
    "plt.bar(center, hist, align='center', width=width)\n",
    "plt.xlim(0, 6)\n",
    "plt.xticks(bins)\n",
    "plt.xlabel(\"% of GDP\")\n",
    "plt.title(\"Education Spending (Primary to Non-Tertiary)\")\n",
    "plt.show()"
   ]
  },
  {
   "cell_type": "markdown",
   "metadata": {},
   "source": [
    "Data: Education Spending (% of GDP) -- Tertiary\n",
    "Source: OECD\n",
    "    \n",
    "(I used the latest data available for each country)"
   ]
  },
  {
   "cell_type": "code",
   "execution_count": 5,
   "metadata": {
    "collapsed": false
   },
   "outputs": [
    {
     "data": {
      "image/png": "[encoded data removed]",
      "text/plain": [
       "<matplotlib.figure.Figure at 0x1177ff828>"
      ]
     },
     "metadata": {},
     "output_type": "display_data"
    }
   ],
   "source": [
    "edu_spending_try = [[x[0], x[5], x[6]] for x in edu_spending if x[0] != \"OAVG\" and x[2] == \"TRY\" and ~np.isnan(x[6])]\n",
    "\n",
    "### get latest data\n",
    "edu_spending_try_latest = []\n",
    "for i in range(len(edu_spending_try) - 1):\n",
    "    if edu_spending_try[i][0] != edu_spending_try[i + 1][0]:\n",
    "        edu_spending_try_latest.append(edu_spending_try[i])\n",
    "edu_spending_try_latest.append(edu_spending_try[-1])\n",
    "\n",
    "edu_spending_try_latest = np.matrix(edu_spending_try_latest)\n",
    "\n",
    "hist, bins = np.histogram(edu_spending_try_latest[:, 2].astype(np.float), bins = 15, range = (0, 3))\n",
    "\n",
    "width = 0.8 * (bins[1] - bins[0])\n",
    "center = (bins[:-1] + bins[1:]) / 2\n",
    "plt.bar(center, hist, align='center', width=width)\n",
    "plt.xlim(0, 3)\n",
    "plt.xticks(bins)\n",
    "plt.xlabel(\"% of GDP\")\n",
    "plt.title(\"Education Spending (Tertiary)\")\n",
    "plt.show()"
   ]
  },
  {
   "cell_type": "markdown",
   "metadata": {},
   "source": [
    "Data: Education Spending (% of GDP) -- Total\n",
    "Source: OECD\n",
    "    \n",
    "(I used the latest data available for each country)"
   ]
  },
  {
   "cell_type": "code",
   "execution_count": 6,
   "metadata": {
    "collapsed": false
   },
   "outputs": [
    {
     "data": {
      "image/png": "[encoded data removed]",
      "text/plain": [
       "<matplotlib.figure.Figure at 0x117912f28>"
      ]
     },
     "metadata": {},
     "output_type": "display_data"
    }
   ],
   "source": [
    "edu_spending_total_latest = []\n",
    "\n",
    "### add 2 data\n",
    "for i in range(len(edu_spending_pryntry_latest)):\n",
    "    name = edu_spending_pryntry_latest[i, 0]\n",
    "    year = edu_spending_pryntry_latest[i, 1]\n",
    "    total = edu_spending_pryntry_latest[i, 2].astype(np.float) + edu_spending_try_latest[i, 2].astype(np.float)\n",
    "    edu_spending_total_latest.append([name, year, total])\n",
    "\n",
    "edu_spending_total_latest = np.matrix(edu_spending_total_latest)\n",
    "\n",
    "hist, bins = np.histogram(edu_spending_total_latest[:, 2].astype(np.float), bins = 15, range = (0, 9))\n",
    "\n",
    "width = 0.8 * (bins[1] - bins[0])\n",
    "center = (bins[:-1] + bins[1:]) / 2\n",
    "plt.bar(center, hist, align='center', width=width)\n",
    "plt.xlim(0, 9)\n",
    "plt.xticks(bins)\n",
    "plt.xlabel(\"% of GDP\")\n",
    "plt.title(\"Education Spending (Total)\")\n",
    "plt.show()"
   ]
  },
  {
   "cell_type": "markdown",
   "metadata": {},
   "source": [
    "Data: Private Spending on Education (% of GDP) -- Primary to Tertiary\n",
    "Source: OECD\n",
    "    \n",
    "(I used the latest data available for each country)"
   ]
  },
  {
   "cell_type": "code",
   "execution_count": 7,
   "metadata": {
    "collapsed": false
   },
   "outputs": [
    {
     "data": {
      "image/png": "[encoded data removed]",
      "text/plain": [
       "<matplotlib.figure.Figure at 0x117918e48>"
      ]
     },
     "metadata": {},
     "output_type": "display_data"
    }
   ],
   "source": [
    "edu_private_total = [[x[0], x[5], x[6]] for x in edu_private if x[0] != \"OAVG\" and x[2] == \"PRY_TRY\" and ~np.isnan(x[6])]\n",
    "\n",
    "### get latest data\n",
    "edu_private_total_latest = []\n",
    "for i in range(len(edu_private_total) - 1):\n",
    "    if edu_private_total[i][0] != edu_private_total[i + 1][0]:\n",
    "        edu_private_total_latest.append(edu_private_total[i])\n",
    "edu_private_total_latest.append(edu_private_total[-1])\n",
    "\n",
    "edu_private_total_latest = np.matrix(edu_private_total_latest)\n",
    "\n",
    "hist, bins = np.histogram(edu_private_total_latest[:, 2].astype(np.float), bins = 15, range = (0, 9))\n",
    "\n",
    "width = 0.8 * (bins[1] - bins[0])\n",
    "center = (bins[:-1] + bins[1:]) / 2\n",
    "plt.bar(center, hist, align='center', width=width)\n",
    "plt.xlim(0, 9)\n",
    "plt.xticks(bins)\n",
    "plt.xlabel(\"% of GDP\")\n",
    "plt.title(\"Private Education Spending (Primary to Tertiary)\")\n",
    "plt.show()"
   ]
  },
  {
   "cell_type": "markdown",
   "metadata": {},
   "source": [
    "Data: Public Spending on Education (% of Public Spending) -- Primary to Tertiary\n",
    "Source: OECD\n",
    "    \n",
    "(I used the latest data available for each country)"
   ]
  },
  {
   "cell_type": "code",
   "execution_count": 8,
   "metadata": {
    "collapsed": false
   },
   "outputs": [
    {
     "data": {
      "image/png": "[encoded data removed]",
      "text/plain": [
       "<matplotlib.figure.Figure at 0x1177ff390>"
      ]
     },
     "metadata": {},
     "output_type": "display_data"
    }
   ],
   "source": [
    "edu_public_total = [[x[0], x[5], x[6]] for x in edu_public if x[0] != \"OAVG\" and x[2] == \"PRY_TRY\" and ~np.isnan(x[6])]\n",
    "\n",
    "### get latest data\n",
    "edu_public_total_latest = []\n",
    "for i in range(len(edu_public_total) - 1):\n",
    "    if edu_public_total[i][0] != edu_public_total[i + 1][0]:\n",
    "        edu_public_total_latest.append(edu_public_total[i])\n",
    "edu_public_total_latest.append(edu_public_total[-1])\n",
    "\n",
    "edu_public_total_latest = np.matrix(edu_public_total_latest)\n",
    "\n",
    "hist, bins = np.histogram(edu_public_total_latest[:, 2].astype(np.float), bins = 15, range = (0, 9))\n",
    "\n",
    "width = 0.8 * (bins[1] - bins[0])\n",
    "center = (bins[:-1] + bins[1:]) / 2\n",
    "plt.bar(center, hist, align='center', width=width)\n",
    "plt.xlim(0, 9)\n",
    "plt.xticks(bins)\n",
    "plt.xlabel(\"% of Public Spending\")\n",
    "plt.title(\"Public Education Spending (Primary to Tertiary)\")\n",
    "plt.show()"
   ]
  },
  {
   "cell_type": "markdown",
   "metadata": {},
   "source": [
    "Data: Public Spending on Tertiary Education (Public / Total)\n",
    "Source: OECD\n",
    "    \n",
    "(I used the latest data available for each country)"
   ]
  },
  {
   "cell_type": "code",
   "execution_count": 9,
   "metadata": {
    "collapsed": false,
    "scrolled": true
   },
   "outputs": [
    {
     "data": {
      "image/png": "[encoded data removed]",
      "text/plain": [
       "<matplotlib.figure.Figure at 0x1179f60f0>"
      ]
     },
     "metadata": {},
     "output_type": "display_data"
    }
   ],
   "source": [
    "edu_tertiary_public = [[x[0], x[5], x[6]] for x in edu_tertiary if x[0] != \"OAVG\" and x[2] == \"PUB\" and ~np.isnan(x[6])]\n",
    "\n",
    "### get latest data\n",
    "edu_tertiary_public_latest = []\n",
    "for i in range(len(edu_tertiary_public) - 1):\n",
    "    if edu_tertiary_public[i][0] != edu_tertiary_public[i + 1][0]:\n",
    "        edu_tertiary_public_latest.append(edu_tertiary_public[i])\n",
    "edu_tertiary_public_latest.append(edu_tertiary_public[-1])\n",
    "\n",
    "edu_tertiary_public_latest = np.matrix(edu_tertiary_public_latest)\n",
    "\n",
    "hist, bins = np.histogram(edu_tertiary_public_latest[:, 2].astype(np.float), bins = 20, range = (0, 100))\n",
    "\n",
    "width = 0.8 * (bins[1] - bins[0])\n",
    "center = (bins[:-1] + bins[1:]) / 2\n",
    "plt.bar(center, hist, align='center', width=width)\n",
    "plt.xlim(0, 100)\n",
    "plt.xticks(bins)\n",
    "plt.xlabel(\"% of Tertiary Education\")\n",
    "plt.title(\"Tertiary Education (Public)\")\n",
    "plt.show()"
   ]
  },
  {
   "cell_type": "markdown",
   "metadata": {},
   "source": [
    "Data: Private Spending on Tertiary Education (Private / Total)\n",
    "Source: OECD\n",
    "    \n",
    "(I used the latest data available for each country)"
   ]
  },
  {
   "cell_type": "code",
   "execution_count": 10,
   "metadata": {
    "collapsed": false
   },
   "outputs": [
    {
     "data": {
      "image/png": "[encoded data removed]",
      "text/plain": [
       "<matplotlib.figure.Figure at 0x1178bb7f0>"
      ]
     },
     "metadata": {},
     "output_type": "display_data"
    }
   ],
   "source": [
    "edu_tertiary_private = [[x[0], x[5], x[6]] for x in edu_tertiary if x[0] != \"OAVG\" and x[2] == \"PRIV\" and ~np.isnan(x[6])]\n",
    "\n",
    "### get latest data\n",
    "edu_tertiary_private_latest = []\n",
    "for i in range(len(edu_tertiary_private) - 1):\n",
    "    if edu_tertiary_private[i][0] != edu_tertiary_private[i + 1][0]:\n",
    "        edu_tertiary_private_latest.append(edu_tertiary_private[i])\n",
    "edu_tertiary_private_latest.append(edu_tertiary_private[-1])\n",
    "\n",
    "edu_tertiary_private_latest = np.matrix(edu_tertiary_private_latest)\n",
    "\n",
    "hist, bins = np.histogram(edu_tertiary_private_latest[:, 2].astype(np.float), bins = 20, range = (0, 100))\n",
    "\n",
    "width = 0.8 * (bins[1] - bins[0])\n",
    "center = (bins[:-1] + bins[1:]) / 2\n",
    "plt.bar(center, hist, align='center', width=width)\n",
    "plt.xlim(0, 100)\n",
    "plt.xticks(bins)\n",
    "plt.xlabel(\"% of Tertiary Education\")\n",
    "plt.title(\"Tertiary Education (Private)\")\n",
    "plt.show()"
   ]
  },
  {
   "cell_type": "markdown",
   "metadata": {},
   "source": [
    "Data: PISA Scores (Reading)\n",
    "Source: OECD\n",
    "    \n",
    "(I used the latest data available for each country)"
   ]
  },
  {
   "cell_type": "code",
   "execution_count": 11,
   "metadata": {
    "collapsed": false
   },
   "outputs": [
    {
     "data": {
      "image/png": "[encoded data removed]",
      "text/plain": [
       "<matplotlib.figure.Figure at 0x117a6b8d0>"
      ]
     },
     "metadata": {},
     "output_type": "display_data"
    }
   ],
   "source": [
    "pisa_read_total = [[x[0], x[5], x[6]] for x in pisa_reading if x[0] != \"OAVG\" and x[2] == \"TOT\" and ~np.isnan(x[6])]\n",
    "\n",
    "### get latest data\n",
    "pisa_read_total_latest = []\n",
    "for i in range(len(pisa_read_total) - 1):\n",
    "    if pisa_read_total[i][0] != pisa_read_total[i + 1][0]:\n",
    "        pisa_read_total_latest.append(pisa_read_total[i])\n",
    "pisa_read_total_latest.append(pisa_read_total[-1])\n",
    "\n",
    "pisa_read_total_latest = np.matrix(pisa_read_total_latest)\n",
    "\n",
    "hist, bins = np.histogram(pisa_read_total_latest[:, 2].astype(np.float), bins = 15, range = (390, 540))\n",
    "\n",
    "width = 0.8 * (bins[1] - bins[0])\n",
    "center = (bins[:-1] + bins[1:]) / 2\n",
    "plt.bar(center, hist, align='center', width=width)\n",
    "plt.xlim(390, 540)\n",
    "plt.xticks(bins)\n",
    "plt.xlabel(\"Score\")\n",
    "plt.title(\"PISA (Reading)\")\n",
    "plt.show()"
   ]
  },
  {
   "cell_type": "markdown",
   "metadata": {},
   "source": [
    "Data: PISA Scores (Mathematics)\n",
    "Source: OECD\n",
    "    \n",
    "(I used the latest data available for each country)"
   ]
  },
  {
   "cell_type": "code",
   "execution_count": 12,
   "metadata": {
    "collapsed": false
   },
   "outputs": [
    {
     "data": {
      "image/png": "[encoded data removed]",
      "text/plain": [
       "<matplotlib.figure.Figure at 0x117d69e10>"
      ]
     },
     "metadata": {},
     "output_type": "display_data"
    }
   ],
   "source": [
    "pisa_math_total = [[x[0], x[5], x[6]] for x in pisa_math if x[0] != \"OAVG\" and x[2] == \"TOT\" and ~np.isnan(x[6])]\n",
    "\n",
    "### get latest data\n",
    "pisa_math_total_latest = []\n",
    "for i in range(len(pisa_math_total) - 1):\n",
    "    if pisa_math_total[i][0] != pisa_math_total[i + 1][0]:\n",
    "        pisa_math_total_latest.append(pisa_math_total[i])\n",
    "pisa_math_total_latest.append(pisa_math_total[-1])\n",
    "\n",
    "pisa_math_total_latest = np.matrix(pisa_math_total_latest)\n",
    "\n",
    "hist, bins = np.histogram(pisa_math_total_latest[:, 2].astype(np.float), bins = 15, range = (360, 585))\n",
    "\n",
    "width = 0.8 * (bins[1] - bins[0])\n",
    "center = (bins[:-1] + bins[1:]) / 2\n",
    "plt.bar(center, hist, align='center', width=width)\n",
    "plt.xlim(360, 585)\n",
    "plt.xticks(bins)\n",
    "plt.xlabel(\"Score\")\n",
    "plt.title(\"PISA (Mathematics)\")\n",
    "plt.show()"
   ]
  },
  {
   "cell_type": "markdown",
   "metadata": {},
   "source": [
    "Data: PISA Scores (Science)\n",
    "Source: OECD\n",
    "    \n",
    "(I used the latest data avilable for each country)"
   ]
  },
  {
   "cell_type": "code",
   "execution_count": 13,
   "metadata": {
    "collapsed": false
   },
   "outputs": [
    {
     "data": {
      "image/png": "[encoded data removed]",
      "text/plain": [
       "<matplotlib.figure.Figure at 0x117abc9e8>"
      ]
     },
     "metadata": {},
     "output_type": "display_data"
    }
   ],
   "source": [
    "pisa_science_total = [[x[0], x[5], x[6]] for x in pisa_science if x[0] != \"OAVG\" and x[2] == \"TOT\" and ~np.isnan(x[6])]\n",
    "\n",
    "### get latest data\n",
    "pisa_science_total_latest = []\n",
    "for i in range(len(pisa_science_total) - 1):\n",
    "    if pisa_science_total[i][0] != pisa_science_total[i + 1][0]:\n",
    "        pisa_science_total_latest.append(pisa_science_total[i])\n",
    "pisa_science_total_latest.append(pisa_science_total[-1])\n",
    "\n",
    "pisa_science_total_latest = np.matrix(pisa_science_total_latest)\n",
    "\n",
    "hist, bins = np.histogram(pisa_science_total_latest[:, 2].astype(np.float), bins = 15, range = (360, 585))\n",
    "\n",
    "width = 0.8 * (bins[1] - bins[0])\n",
    "center = (bins[:-1] + bins[1:]) / 2\n",
    "plt.bar(center, hist, align='center', width=width)\n",
    "plt.xlim(360, 585)\n",
    "plt.xticks(bins)\n",
    "plt.xlabel(\"Score\")\n",
    "plt.title(\"PISA (Science)\")\n",
    "plt.show()"
   ]
  },
  {
   "cell_type": "markdown",
   "metadata": {},
   "source": [
    "Data: Research and Development Expenditures (% of GDP)\n",
    "Source: World Bank\n",
    "    \n",
    "(I used the latest data available for each country)\n",
    "(There are some averages in data, I didn't excluded them)"
   ]
  },
  {
   "cell_type": "code",
   "execution_count": 14,
   "metadata": {
    "collapsed": false
   },
   "outputs": [
    {
     "data": {
      "image/png": "[encoded data removed]",
      "text/plain": [
       "<matplotlib.figure.Figure at 0x117be6128>"
      ]
     },
     "metadata": {},
     "output_type": "display_data"
    }
   ],
   "source": [
    "### get latest data\n",
    "rd_expenditure_latest = []\n",
    "for x in rd_expenditure:\n",
    "    for i in range(len(x) - 4):\n",
    "        if x[-i-1] == x[-i-1]:\n",
    "            rd_expenditure_latest.append([x[0], str(2017 - i), x[-i-1]])\n",
    "            break\n",
    "\n",
    "rd_expenditure_latest = np.matrix(rd_expenditure_latest)\n",
    "\n",
    "hist, bins = np.histogram(rd_expenditure_latest[:, 2].astype(np.float), bins = 15, range = (0, 4.5))\n",
    "\n",
    "width = 0.8 * (bins[1] - bins[0])\n",
    "center = (bins[:-1] + bins[1:]) / 2\n",
    "plt.bar(center, hist, align='center', width=width)\n",
    "plt.xlim(0, 4.5)\n",
    "plt.xticks(bins)\n",
    "plt.xlabel(\"% of GDP\")\n",
    "plt.title(\"R&D Expenditure\")\n",
    "plt.show()"
   ]
  },
  {
   "cell_type": "markdown",
   "metadata": {},
   "source": [
    "Data: Researchers in R&D (per million people)\n",
    "Source: World Bank\n",
    "    \n",
    "(I used the latest data available for each country)\n",
    "(There are some averages in data, I didn't excluded them)"
   ]
  },
  {
   "cell_type": "code",
   "execution_count": 15,
   "metadata": {
    "collapsed": false
   },
   "outputs": [
    {
     "data": {
      "image/png": "[encoded data removed]",
      "text/plain": [
       "<matplotlib.figure.Figure at 0x117a19860>"
      ]
     },
     "metadata": {},
     "output_type": "display_data"
    }
   ],
   "source": [
    "### get latest data\n",
    "researchers_rd_latest = []\n",
    "for x in researchers_rd:\n",
    "    for i in range(len(x) - 4):\n",
    "        if x[-i-1] == x[-i-1]:\n",
    "            researchers_rd_latest.append([x[0], str(2017 - i), x[-i-1]])\n",
    "            break\n",
    "\n",
    "researchers_rd_latest = np.matrix(researchers_rd_latest)\n",
    "\n",
    "hist, bins = np.histogram(researchers_rd_latest[:, 2].astype(np.float), bins = 15, range = (0, 9000))\n",
    "\n",
    "width = 0.8 * (bins[1] - bins[0])\n",
    "center = (bins[:-1] + bins[1:]) / 2\n",
    "plt.bar(center, hist, align='center', width=width)\n",
    "plt.xlim(0, 9000)\n",
    "plt.xticks(bins, rotation = 45)\n",
    "plt.xlabel(\"per 1,000,000 People\")\n",
    "plt.title(\"Researchers in R&D\")\n",
    "plt.show()"
   ]
  },
  {
   "cell_type": "markdown",
   "metadata": {},
   "source": [
    "Data: High Technology Exports (% of Manufactured Exports)\n",
    "Source: World Bank\n",
    "    \n",
    "(I used the latest data available for each country)\n",
    "(There are some averages in data, I didn't excluded them)"
   ]
  },
  {
   "cell_type": "code",
   "execution_count": 16,
   "metadata": {
    "collapsed": false
   },
   "outputs": [
    {
     "data": {
      "image/png": "[encoded data removed]",
      "text/plain": [
       "<matplotlib.figure.Figure at 0x117b6aa20>"
      ]
     },
     "metadata": {},
     "output_type": "display_data"
    }
   ],
   "source": [
    "### get latest data\n",
    "high_tech_exports_latest = []\n",
    "for x in high_tech_exports:\n",
    "    for i in range(len(x) - 4):\n",
    "        if x[-i-1] == x[-i-1]:\n",
    "            high_tech_exports_latest.append([x[0], str(2017 - i), x[-i-1]])\n",
    "            break\n",
    "\n",
    "high_tech_exports_latest = np.matrix(high_tech_exports_latest)\n",
    "\n",
    "hist, bins = np.histogram(high_tech_exports_latest[:, 2].astype(np.float), bins = 15, range = (0, 60))\n",
    "\n",
    "width = 0.8 * (bins[1] - bins[0])\n",
    "center = (bins[:-1] + bins[1:]) / 2\n",
    "plt.bar(center, hist, align='center', width=width)\n",
    "plt.xlim(0, 60)\n",
    "plt.xticks(bins)\n",
    "plt.xlabel(\"% of Manufactured Exports\")\n",
    "plt.title(\"High Technology Exports\")\n",
    "plt.show()"
   ]
  },
  {
   "cell_type": "markdown",
   "metadata": {},
   "source": [
    "Data: Patent Applications (Residents) & Population\n",
    "Source: World Bank & World Bank\n",
    "    \n",
    "(I used the latest data available for each country)\n",
    "(There are some averages in data, I didn't excluded them)"
   ]
  },
  {
   "cell_type": "code",
   "execution_count": 17,
   "metadata": {
    "collapsed": false
   },
   "outputs": [
    {
     "data": {
      "image/png": "[encoded data removed]",
      "text/plain": [
       "<matplotlib.figure.Figure at 0x117922d68>"
      ]
     },
     "metadata": {},
     "output_type": "display_data"
    }
   ],
   "source": [
    "### get latest data and divide to population accordingly\n",
    "patent_res_latest = []\n",
    "for j, x in enumerate(patent_res):\n",
    "    for i in range(len(x) - 4):\n",
    "        if x[-i-1] == x[-i-1]:\n",
    "            patent_res_latest.append([x[0], str(2017 - i), (x[-i-1] / population[j, -i-1] * 100)])\n",
    "            break\n",
    "\n",
    "patent_res_latest = np.matrix(patent_res_latest)\n",
    "\n",
    "hist, bins = np.histogram(patent_res_latest[:, 2].astype(np.float), bins = 20, range = (0, 0.40))\n",
    "\n",
    "width = 0.8 * (bins[1] - bins[0])\n",
    "center = (bins[:-1] + bins[1:]) / 2\n",
    "plt.bar(center, hist, align='center', width=width)\n",
    "plt.xlim(0, 0.4)\n",
    "plt.xticks(bins, rotation = 60)\n",
    "plt.xlabel(\"per Person\")\n",
    "plt.title(\"Patent Applications (Residents)\")\n",
    "plt.show()"
   ]
  },
  {
   "cell_type": "markdown",
   "metadata": {},
   "source": [
    "Data: Patent Applications (Nonresidents) & Population\n",
    "Source: World Bank & World Bank\n",
    "    \n",
    "(I used the latest data available for each country)\n",
    "(There are some averages in data, I didn't excluded them)"
   ]
  },
  {
   "cell_type": "code",
   "execution_count": 18,
   "metadata": {
    "collapsed": false
   },
   "outputs": [
    {
     "data": {
      "image/png": "[encoded data removed]",
      "text/plain": [
       "<matplotlib.figure.Figure at 0x117957be0>"
      ]
     },
     "metadata": {},
     "output_type": "display_data"
    }
   ],
   "source": [
    "### get latest data and divide to population accordingly\n",
    "patent_nres_latest = []\n",
    "for j, x in enumerate(patent_nres):\n",
    "    for i in range(len(x) - 4):\n",
    "        if x[-i-1] == x[-i-1]:\n",
    "            patent_nres_latest.append([x[0], str(2017 - i), (x[-i-1] / population[j, -i-1] * 100)])\n",
    "            break\n",
    "\n",
    "patent_nres_latest = np.matrix(patent_nres_latest)\n",
    "\n",
    "hist, bins = np.histogram(patent_nres_latest[:, 2].astype(np.float), bins = 20, range = (0, 0.2))\n",
    "\n",
    "width = 0.8 * (bins[1] - bins[0])\n",
    "center = (bins[:-1] + bins[1:]) / 2\n",
    "plt.bar(center, hist, align='center', width=width)\n",
    "plt.xlim(0, 0.20)\n",
    "plt.xticks(bins, rotation = 60)\n",
    "plt.xlabel(\"per Person\")\n",
    "plt.title(\"Patent Applications (Nonresidents)\")\n",
    "plt.show()"
   ]
  },
  {
   "cell_type": "markdown",
   "metadata": {},
   "source": [
    "Data: GDP per Capita\n",
    "    \n",
    "(I used the latest data available for each country)\n",
    "(There are some averages in data, I didn't excluded them)"
   ]
  },
  {
   "cell_type": "code",
   "execution_count": 19,
   "metadata": {
    "collapsed": false
   },
   "outputs": [
    {
     "data": {
      "image/png": "[encoded data removed]",
      "text/plain": [
       "<matplotlib.figure.Figure at 0x1178fb630>"
      ]
     },
     "metadata": {},
     "output_type": "display_data"
    }
   ],
   "source": [
    "### get latest data\n",
    "gdp_percapita_latest = []\n",
    "for x in gdp_percapita:\n",
    "    for i in range(len(x) - 4):\n",
    "        if x[-i-1] == x[-i-1]:\n",
    "            gdp_percapita_latest.append([x[0], str(2017 - i), (x[-i-1] / 10000.0)])\n",
    "            break\n",
    "\n",
    "gdp_percapita_latest = np.matrix(gdp_percapita_latest)\n",
    "\n",
    "hist, bins = np.histogram(gdp_percapita_latest[:, 2].astype(np.float), bins = 20, range = (0, 20))\n",
    "\n",
    "width = 0.8 * (bins[1] - bins[0])\n",
    "center = (bins[:-1] + bins[1:]) / 2\n",
    "plt.bar(center, hist, align='center', width=width)\n",
    "plt.xlim(0, 20)\n",
    "plt.xticks(bins,)\n",
    "plt.xlabel(\"x 10,000 USD\")\n",
    "plt.title(\"GDP per Capita\")\n",
    "plt.show()"
   ]
  },
  {
   "cell_type": "markdown",
   "metadata": {},
   "source": [
    "Data: GINI Index\n",
    "    \n",
    "(I used the latest data available for each country)\n",
    "(There are some averages in data, I didn't excluded them)"
   ]
  },
  {
   "cell_type": "code",
   "execution_count": 20,
   "metadata": {
    "collapsed": false,
    "scrolled": true
   },
   "outputs": [
    {
     "data": {
      "image/png": "[encoded data removed]",
      "text/plain": [
       "<matplotlib.figure.Figure at 0x11780d710>"
      ]
     },
     "metadata": {},
     "output_type": "display_data"
    }
   ],
   "source": [
    "### get latest data\n",
    "gini_latest = []\n",
    "for x in gini:\n",
    "    for i in range(len(x) - 4):\n",
    "        if x[-i-1] == x[-i-1]:\n",
    "            gini_latest.append([x[0], str(2017 - i), x[-i-1]])\n",
    "            break\n",
    "\n",
    "gini_latest = np.matrix(gini_latest)\n",
    "\n",
    "hist, bins = np.histogram(gini_latest[:, 2].astype(np.float), bins = 15, range = (20, 65))\n",
    "\n",
    "width = 0.8 * (bins[1] - bins[0])\n",
    "center = (bins[:-1] + bins[1:]) / 2\n",
    "plt.bar(center, hist, align='center', width=width)\n",
    "plt.xlim(20, 65)\n",
    "plt.xticks(bins)\n",
    "plt.title(\"GINI Index\")\n",
    "plt.show()"
   ]
  }
 ],
 "metadata": {
  "kernelspec": {
   "display_name": "Python 3",
   "language": "python",
   "name": "python3"
  },
  "language_info": {
   "codemirror_mode": {
    "name": "ipython",
    "version": 3
   },
   "file_extension": ".py",
   "mimetype": "text/x-python",
   "name": "python",
   "nbconvert_exporter": "python",
   "pygments_lexer": "ipython3",
   "version": "3.6.0"
  }
 },
 "nbformat": 4,
 "nbformat_minor": 2
}
