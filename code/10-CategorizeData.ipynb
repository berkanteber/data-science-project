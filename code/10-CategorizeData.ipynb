{
 "cells": [
  {
   "cell_type": "markdown",
   "metadata": {},
   "source": [
    "Import pandas"
   ]
  },
  {
   "cell_type": "code",
   "execution_count": 1,
   "metadata": {
    "collapsed": true
   },
   "outputs": [],
   "source": [
    "import pandas as pd"
   ]
  },
  {
   "cell_type": "markdown",
   "metadata": {},
   "source": [
    "Read csv"
   ]
  },
  {
   "cell_type": "code",
   "execution_count": 2,
   "metadata": {
    "collapsed": true
   },
   "outputs": [],
   "source": [
    "df = pd.read_csv(\"../data/student/student-mat.csv\", delimiter = \";\")"
   ]
  },
  {
   "cell_type": "markdown",
   "metadata": {},
   "source": [
    "Bin age, absences and test scores"
   ]
  },
  {
   "cell_type": "code",
   "execution_count": 3,
   "metadata": {
    "collapsed": true
   },
   "outputs": [],
   "source": [
    "for i in range(len(df)):\n",
    "    if (df.get_value(i, 'age') <= 18): \n",
    "        df.set_value(i, 'age', 0)\n",
    "    else:                              \n",
    "        df.set_value(i, 'age', 1)\n",
    "\n",
    "for i in range(len(df)):     \n",
    "    if   (df.get_value(i, 'absences') < 20):\n",
    "        df.set_value(i, 'absences', 0)\n",
    "    elif (df.get_value(i, 'absences') < 40):\n",
    "        df.set_value(i, 'absences', 1)\n",
    "    elif (df.get_value(i, 'absences') < 60):\n",
    "        df.set_value(i, 'absences', 2)\n",
    "    elif (df.get_value(i, 'absences') < 80):\n",
    "        df.set_value(i, 'absences', 3)\n",
    "    else:\n",
    "        df.set_value(i, 'absences', 4)\n",
    "\n",
    "for i in range(len(df)):     \n",
    "    if   (df.get_value(i, 'G1') < 4):\n",
    "        df.set_value(i, 'G1', 0)\n",
    "    elif (df.get_value(i, 'G1') < 8):\n",
    "        df.set_value(i, 'G1', 1)\n",
    "    elif (df.get_value(i, 'G1') < 12):\n",
    "        df.set_value(i, 'G1', 2)\n",
    "    elif (df.get_value(i, 'G1') < 16):\n",
    "        df.set_value(i, 'G1', 3)\n",
    "    else:\n",
    "        df.set_value(i, 'G1', 4)\n",
    "        \n",
    "for i in range(len(df)):     \n",
    "    if   (df.get_value(i, 'G2') < 4):\n",
    "        df.set_value(i, 'G2', 0)\n",
    "    elif (df.get_value(i, 'G2') < 8):\n",
    "        df.set_value(i, 'G2', 1)\n",
    "    elif (df.get_value(i, 'G2') < 12):\n",
    "        df.set_value(i, 'G2', 2)\n",
    "    elif (df.get_value(i, 'G2') < 16):\n",
    "        df.set_value(i, 'G2', 3)\n",
    "    else:\n",
    "        df.set_value(i, 'G2', 4)        \n",
    "        \n",
    "for i in range(len(df)):     \n",
    "    if   (df.get_value(i, 'G3') < 4):\n",
    "        df.set_value(i, 'G3', 0)\n",
    "    elif (df.get_value(i, 'G3') < 8):\n",
    "        df.set_value(i, 'G3', 1)\n",
    "    elif (df.get_value(i, 'G3') < 12):\n",
    "        df.set_value(i, 'G3', 2)\n",
    "    elif (df.get_value(i, 'G3') < 16):\n",
    "        df.set_value(i, 'G3', 3)\n",
    "    else:\n",
    "        df.set_value(i, 'G3', 4)"
   ]
  },
  {
   "cell_type": "code",
   "execution_count": 4,
   "metadata": {
    "collapsed": true
   },
   "outputs": [],
   "source": [
    "df.to_csv(\"../data/student/student-mat-categorized.csv\", index = False)"
   ]
  },
  {
   "cell_type": "code",
   "execution_count": 5,
   "metadata": {
    "collapsed": true
   },
   "outputs": [],
   "source": [
    "df = pd.read_csv(\"../data/student/student-por.csv\", delimiter = \";\")\n",
    "\n",
    "for i in range(len(df)):\n",
    "    if (df.get_value(i, 'age') <= 18): \n",
    "        df.set_value(i, 'age', 0)\n",
    "    else:                              \n",
    "        df.set_value(i, 'age', 1)\n",
    "\n",
    "for i in range(len(df)):     \n",
    "    if   (df.get_value(i, 'absences') < 20):\n",
    "        df.set_value(i, 'absences', 0)\n",
    "    elif (df.get_value(i, 'absences') < 40):\n",
    "        df.set_value(i, 'absences', 1)\n",
    "    elif (df.get_value(i, 'absences') < 60):\n",
    "        df.set_value(i, 'absences', 2)\n",
    "    elif (df.get_value(i, 'absences') < 80):\n",
    "        df.set_value(i, 'absences', 3)\n",
    "    else:\n",
    "        df.set_value(i, 'absences', 4)\n",
    "\n",
    "for i in range(len(df)):     \n",
    "    if   (df.get_value(i, 'G1') < 4):\n",
    "        df.set_value(i, 'G1', 0)\n",
    "    elif (df.get_value(i, 'G1') < 8):\n",
    "        df.set_value(i, 'G1', 1)\n",
    "    elif (df.get_value(i, 'G1') < 12):\n",
    "        df.set_value(i, 'G1', 2)\n",
    "    elif (df.get_value(i, 'G1') < 16):\n",
    "        df.set_value(i, 'G1', 3)\n",
    "    else:\n",
    "        df.set_value(i, 'G1', 4)\n",
    "        \n",
    "for i in range(len(df)):     \n",
    "    if   (df.get_value(i, 'G2') < 4):\n",
    "        df.set_value(i, 'G2', 0)\n",
    "    elif (df.get_value(i, 'G2') < 8):\n",
    "        df.set_value(i, 'G2', 1)\n",
    "    elif (df.get_value(i, 'G2') < 12):\n",
    "        df.set_value(i, 'G2', 2)\n",
    "    elif (df.get_value(i, 'G2') < 16):\n",
    "        df.set_value(i, 'G2', 3)\n",
    "    else:\n",
    "        df.set_value(i, 'G2', 4)        \n",
    "        \n",
    "for i in range(len(df)):     \n",
    "    if   (df.get_value(i, 'G3') < 4):\n",
    "        df.set_value(i, 'G3', 0)\n",
    "    elif (df.get_value(i, 'G3') < 8):\n",
    "        df.set_value(i, 'G3', 1)\n",
    "    elif (df.get_value(i, 'G3') < 12):\n",
    "        df.set_value(i, 'G3', 2)\n",
    "    elif (df.get_value(i, 'G3') < 16):\n",
    "        df.set_value(i, 'G3', 3)\n",
    "    else:\n",
    "        df.set_value(i, 'G3', 4)"
   ]
  },
  {
   "cell_type": "markdown",
   "metadata": {},
   "source": [
    "Write csv"
   ]
  },
  {
   "cell_type": "code",
   "execution_count": 6,
   "metadata": {
    "collapsed": true
   },
   "outputs": [],
   "source": [
    "df.to_csv(\"../data/student/student-por-categorized.csv\", index = False)"
   ]
  }
 ],
 "metadata": {
  "kernelspec": {
   "display_name": "Python 3",
   "language": "python",
   "name": "python3"
  },
  "language_info": {
   "codemirror_mode": {
    "name": "ipython",
    "version": 3
   },
   "file_extension": ".py",
   "mimetype": "text/x-python",
   "name": "python",
   "nbconvert_exporter": "python",
   "pygments_lexer": "ipython3",
   "version": "3.6.0"
  }
 },
 "nbformat": 4,
 "nbformat_minor": 2
}
