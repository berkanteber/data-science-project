{
 "cells": [
  {
   "cell_type": "markdown",
   "metadata": {},
   "source": [
    "Import libraries"
   ]
  },
  {
   "cell_type": "code",
   "execution_count": 1,
   "metadata": {
    "collapsed": true
   },
   "outputs": [],
   "source": [
    "import pandas as pd\n",
    "import numpy as np"
   ]
  },
  {
   "cell_type": "markdown",
   "metadata": {},
   "source": [
    "Read data"
   ]
  },
  {
   "cell_type": "code",
   "execution_count": 2,
   "metadata": {
    "collapsed": true
   },
   "outputs": [],
   "source": [
    "df = pd.read_csv(\"../data/student/student-mat.csv\", delimiter = \";\")\n",
    "\n",
    "for i in range(len(df)):\n",
    "    if (df.get_value(i, 'age') <= 18): \n",
    "        df.set_value(i, 'age', 0)\n",
    "    else:                              \n",
    "        df.set_value(i, 'age', 1)"
   ]
  },
  {
   "cell_type": "markdown",
   "metadata": {},
   "source": [
    "Compute percentages"
   ]
  },
  {
   "cell_type": "code",
   "execution_count": 3,
   "metadata": {
    "collapsed": false
   },
   "outputs": [],
   "source": [
    "df_sorted = df.sort_values(['G3'])\n",
    "df_sorted.index = np.arange(len(df))\n",
    "\n",
    "percentile = pd.DataFrame.copy(df_sorted)\n",
    "\n",
    "for i in range(len(df_sorted)):\n",
    "    percent = i / len(df_sorted)\n",
    "    \n",
    "    if percent >= 0.9:\n",
    "        percentile.set_value(i, \"Top10p\", \"Yes\")\n",
    "    else:\n",
    "        percentile.set_value(i, \"Top10p\", \"No\")\n",
    "        \n",
    "    if percent <= 0.1:\n",
    "        percentile.set_value(i, \"Bottom10p\", \"Yes\")\n",
    "    else:\n",
    "        percentile.set_value(i, \"Bottom10p\", \"No\") \n",
    "        \n",
    "    if percent >= 0.8:\n",
    "        percentile.set_value(i, \"Top20p\", \"Yes\")\n",
    "    else:\n",
    "        percentile.set_value(i, \"Top20p\", \"No\")\n",
    "        \n",
    "    if percent <= 0.2:\n",
    "        percentile.set_value(i, \"Bottom20p\", \"Yes\")\n",
    "    else:\n",
    "        percentile.set_value(i, \"Bottom20p\", \"No\")\n",
    "        \n",
    "df_sorted = pd.concat([df_sorted.iloc[:, :-3], percentile.iloc[:, -4:]], axis=1)"
   ]
  },
  {
   "cell_type": "markdown",
   "metadata": {},
   "source": [
    "Write data"
   ]
  },
  {
   "cell_type": "markdown",
   "metadata": {},
   "source": [
    "Read data"
   ]
  },
  {
   "cell_type": "code",
   "execution_count": 4,
   "metadata": {
    "collapsed": true
   },
   "outputs": [],
   "source": [
    "df_sorted.to_csv(\"../data/student/student-mat-percentiled.csv\", index = False)\n",
    "\n",
    "df = pd.read_csv(\"../data/student/student-por.csv\", delimiter = \";\")\n",
    "\n",
    "for i in range(len(df)):\n",
    "    if (df.get_value(i, 'age') <= 18): \n",
    "        df.set_value(i, 'age', 0)\n",
    "    else:                              \n",
    "        df.set_value(i, 'age', 1)"
   ]
  },
  {
   "cell_type": "markdown",
   "metadata": {},
   "source": [
    "Compute percentages"
   ]
  },
  {
   "cell_type": "code",
   "execution_count": 5,
   "metadata": {
    "collapsed": true
   },
   "outputs": [],
   "source": [
    "df_sorted = df.sort_values(['G3'])\n",
    "df_sorted.index = np.arange(len(df))\n",
    "\n",
    "percentile = pd.DataFrame.copy(df_sorted)\n",
    "\n",
    "for i in range(len(df_sorted)):\n",
    "    percent = i / len(df_sorted)\n",
    "    \n",
    "    if percent >= 0.9:\n",
    "        percentile.set_value(i, \"Top10p\", \"Yes\")\n",
    "    else:\n",
    "        percentile.set_value(i, \"Top10p\", \"No\")\n",
    "        \n",
    "    if percent <= 0.1:\n",
    "        percentile.set_value(i, \"Bottom10p\", \"Yes\")\n",
    "    else:\n",
    "        percentile.set_value(i, \"Bottom10p\", \"No\") \n",
    "        \n",
    "    if percent >= 0.8:\n",
    "        percentile.set_value(i, \"Top20p\", \"Yes\")\n",
    "    else:\n",
    "        percentile.set_value(i, \"Top20p\", \"No\")\n",
    "        \n",
    "    if percent <= 0.2:\n",
    "        percentile.set_value(i, \"Bottom20p\", \"Yes\")\n",
    "    else:\n",
    "        percentile.set_value(i, \"Bottom20p\", \"No\")\n",
    "        \n",
    "df_sorted = pd.concat([df_sorted.iloc[:, :-3], percentile.iloc[:, -4:]], axis=1)"
   ]
  },
  {
   "cell_type": "markdown",
   "metadata": {},
   "source": [
    "Write data"
   ]
  },
  {
   "cell_type": "code",
   "execution_count": 6,
   "metadata": {
    "collapsed": true
   },
   "outputs": [],
   "source": [
    "df_sorted.to_csv(\"../data/student/student-por-percentiled.csv\", index = False)"
   ]
  }
 ],
 "metadata": {
  "kernelspec": {
   "display_name": "Python 3",
   "language": "python",
   "name": "python3"
  },
  "language_info": {
   "codemirror_mode": {
    "name": "ipython",
    "version": 3
   },
   "file_extension": ".py",
   "mimetype": "text/x-python",
   "name": "python",
   "nbconvert_exporter": "python",
   "pygments_lexer": "ipython3",
   "version": "3.6.0"
  }
 },
 "nbformat": 4,
 "nbformat_minor": 2
}
