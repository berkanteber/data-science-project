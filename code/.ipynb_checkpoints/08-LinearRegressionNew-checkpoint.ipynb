{
 "cells": [
  {
   "cell_type": "markdown",
   "metadata": {},
   "source": [
    "Import libraries"
   ]
  },
  {
   "cell_type": "code",
   "execution_count": 1,
   "metadata": {
    "collapsed": true
   },
   "outputs": [],
   "source": [
    "from matplotlib import pyplot as plt\n",
    "from matplotlib import rc\n",
    "import numpy as np\n",
    "import pandas as pd\n",
    "import statsmodels.formula.api as smf"
   ]
  },
  {
   "cell_type": "markdown",
   "metadata": {},
   "source": [
    "Read data"
   ]
  },
  {
   "cell_type": "code",
   "execution_count": 2,
   "metadata": {
    "collapsed": false
   },
   "outputs": [],
   "source": [
    "df = pd.read_csv(\"../data/minimizeddata_full.csv\", index_col = 0)"
   ]
  },
  {
   "cell_type": "markdown",
   "metadata": {},
   "source": [
    "Regression on pisa_read"
   ]
  },
  {
   "cell_type": "code",
   "execution_count": 3,
   "metadata": {
    "collapsed": false
   },
   "outputs": [
    {
     "data": {
      "text/html": [
       "<table class=\"simpletable\">\n",
       "<caption>OLS Regression Results</caption>\n",
       "<tr>\n",
       "  <th>Dep. Variable:</th>        <td>pisa_read</td>    <th>  R-squared:         </th> <td>   0.056</td>\n",
       "</tr>\n",
       "<tr>\n",
       "  <th>Model:</th>                   <td>OLS</td>       <th>  Adj. R-squared:    </th> <td>   0.017</td>\n",
       "</tr>\n",
       "<tr>\n",
       "  <th>Method:</th>             <td>Least Squares</td>  <th>  F-statistic:       </th> <td>   1.431</td>\n",
       "</tr>\n",
       "<tr>\n",
       "  <th>Date:</th>             <td>Fri, 19 May 2017</td> <th>  Prob (F-statistic):</th>  <td> 0.243</td> \n",
       "</tr>\n",
       "<tr>\n",
       "  <th>Time:</th>                 <td>10:10:10</td>     <th>  Log-Likelihood:    </th> <td> -119.33</td>\n",
       "</tr>\n",
       "<tr>\n",
       "  <th>No. Observations:</th>      <td>    26</td>      <th>  AIC:               </th> <td>   242.7</td>\n",
       "</tr>\n",
       "<tr>\n",
       "  <th>Df Residuals:</th>          <td>    24</td>      <th>  BIC:               </th> <td>   245.2</td>\n",
       "</tr>\n",
       "<tr>\n",
       "  <th>Df Model:</th>              <td>     1</td>      <th>                     </th>     <td> </td>   \n",
       "</tr>\n",
       "<tr>\n",
       "  <th>Covariance Type:</th>      <td>nonrobust</td>    <th>                     </th>     <td> </td>   \n",
       "</tr>\n",
       "</table>\n",
       "<table class=\"simpletable\">\n",
       "<tr>\n",
       "      <td></td>         <th>coef</th>     <th>std err</th>      <th>t</th>      <th>P>|t|</th> <th>[95.0% Conf. Int.]</th> \n",
       "</tr>\n",
       "<tr>\n",
       "  <th>Intercept</th> <td>  460.6766</td> <td>   24.136</td> <td>   19.087</td> <td> 0.000</td> <td>  410.862   510.491</td>\n",
       "</tr>\n",
       "<tr>\n",
       "  <th>pryntry</th>   <td>    7.8991</td> <td>    6.602</td> <td>    1.196</td> <td> 0.243</td> <td>   -5.727    21.526</td>\n",
       "</tr>\n",
       "</table>\n",
       "<table class=\"simpletable\">\n",
       "<tr>\n",
       "  <th>Omnibus:</th>       <td>12.292</td> <th>  Durbin-Watson:     </th> <td>   1.836</td>\n",
       "</tr>\n",
       "<tr>\n",
       "  <th>Prob(Omnibus):</th> <td> 0.002</td> <th>  Jarque-Bera (JB):  </th> <td>  11.161</td>\n",
       "</tr>\n",
       "<tr>\n",
       "  <th>Skew:</th>          <td>-1.320</td> <th>  Prob(JB):          </th> <td> 0.00377</td>\n",
       "</tr>\n",
       "<tr>\n",
       "  <th>Kurtosis:</th>      <td> 4.825</td> <th>  Cond. No.          </th> <td>    19.5</td>\n",
       "</tr>\n",
       "</table>"
      ],
      "text/plain": [
       "<class 'statsmodels.iolib.summary.Summary'>\n",
       "\"\"\"\n",
       "                            OLS Regression Results                            \n",
       "==============================================================================\n",
       "Dep. Variable:              pisa_read   R-squared:                       0.056\n",
       "Model:                            OLS   Adj. R-squared:                  0.017\n",
       "Method:                 Least Squares   F-statistic:                     1.431\n",
       "Date:                Fri, 19 May 2017   Prob (F-statistic):              0.243\n",
       "Time:                        10:10:10   Log-Likelihood:                -119.33\n",
       "No. Observations:                  26   AIC:                             242.7\n",
       "Df Residuals:                      24   BIC:                             245.2\n",
       "Df Model:                           1                                         \n",
       "Covariance Type:            nonrobust                                         \n",
       "==============================================================================\n",
       "                 coef    std err          t      P>|t|      [95.0% Conf. Int.]\n",
       "------------------------------------------------------------------------------\n",
       "Intercept    460.6766     24.136     19.087      0.000       410.862   510.491\n",
       "pryntry        7.8991      6.602      1.196      0.243        -5.727    21.526\n",
       "==============================================================================\n",
       "Omnibus:                       12.292   Durbin-Watson:                   1.836\n",
       "Prob(Omnibus):                  0.002   Jarque-Bera (JB):               11.161\n",
       "Skew:                          -1.320   Prob(JB):                      0.00377\n",
       "Kurtosis:                       4.825   Cond. No.                         19.5\n",
       "==============================================================================\n",
       "\n",
       "Warnings:\n",
       "[1] Standard Errors assume that the covariance matrix of the errors is correctly specified.\n",
       "\"\"\""
      ]
     },
     "execution_count": 3,
     "metadata": {},
     "output_type": "execute_result"
    }
   ],
   "source": [
    "lm_pisaread = smf.ols(formula='pisa_read ~ pryntry', data=df).fit()\n",
    "lm_pisaread.summary()"
   ]
  },
  {
   "cell_type": "markdown",
   "metadata": {},
   "source": [
    "Regression on pisa_math"
   ]
  },
  {
   "cell_type": "code",
   "execution_count": 4,
   "metadata": {
    "collapsed": false
   },
   "outputs": [
    {
     "data": {
      "text/html": [
       "<table class=\"simpletable\">\n",
       "<caption>OLS Regression Results</caption>\n",
       "<tr>\n",
       "  <th>Dep. Variable:</th>        <td>pisa_math</td>    <th>  R-squared:         </th> <td>   0.012</td>\n",
       "</tr>\n",
       "<tr>\n",
       "  <th>Model:</th>                   <td>OLS</td>       <th>  Adj. R-squared:    </th> <td>  -0.030</td>\n",
       "</tr>\n",
       "<tr>\n",
       "  <th>Method:</th>             <td>Least Squares</td>  <th>  F-statistic:       </th> <td>  0.2818</td>\n",
       "</tr>\n",
       "<tr>\n",
       "  <th>Date:</th>             <td>Fri, 19 May 2017</td> <th>  Prob (F-statistic):</th>  <td> 0.600</td> \n",
       "</tr>\n",
       "<tr>\n",
       "  <th>Time:</th>                 <td>10:10:10</td>     <th>  Log-Likelihood:    </th> <td> -124.86</td>\n",
       "</tr>\n",
       "<tr>\n",
       "  <th>No. Observations:</th>      <td>    26</td>      <th>  AIC:               </th> <td>   253.7</td>\n",
       "</tr>\n",
       "<tr>\n",
       "  <th>Df Residuals:</th>          <td>    24</td>      <th>  BIC:               </th> <td>   256.2</td>\n",
       "</tr>\n",
       "<tr>\n",
       "  <th>Df Model:</th>              <td>     1</td>      <th>                     </th>     <td> </td>   \n",
       "</tr>\n",
       "<tr>\n",
       "  <th>Covariance Type:</th>      <td>nonrobust</td>    <th>                     </th>     <td> </td>   \n",
       "</tr>\n",
       "</table>\n",
       "<table class=\"simpletable\">\n",
       "<tr>\n",
       "      <td></td>         <th>coef</th>     <th>std err</th>      <th>t</th>      <th>P>|t|</th> <th>[95.0% Conf. Int.]</th> \n",
       "</tr>\n",
       "<tr>\n",
       "  <th>Intercept</th> <td>  469.5509</td> <td>   29.862</td> <td>   15.724</td> <td> 0.000</td> <td>  407.919   531.183</td>\n",
       "</tr>\n",
       "<tr>\n",
       "  <th>pryntry</th>   <td>    4.3359</td> <td>    8.169</td> <td>    0.531</td> <td> 0.600</td> <td>  -12.523    21.195</td>\n",
       "</tr>\n",
       "</table>\n",
       "<table class=\"simpletable\">\n",
       "<tr>\n",
       "  <th>Omnibus:</th>       <td>21.934</td> <th>  Durbin-Watson:     </th> <td>   1.425</td>\n",
       "</tr>\n",
       "<tr>\n",
       "  <th>Prob(Omnibus):</th> <td> 0.000</td> <th>  Jarque-Bera (JB):  </th> <td>  29.365</td>\n",
       "</tr>\n",
       "<tr>\n",
       "  <th>Skew:</th>          <td>-1.961</td> <th>  Prob(JB):          </th> <td>4.20e-07</td>\n",
       "</tr>\n",
       "<tr>\n",
       "  <th>Kurtosis:</th>      <td> 6.424</td> <th>  Cond. No.          </th> <td>    19.5</td>\n",
       "</tr>\n",
       "</table>"
      ],
      "text/plain": [
       "<class 'statsmodels.iolib.summary.Summary'>\n",
       "\"\"\"\n",
       "                            OLS Regression Results                            \n",
       "==============================================================================\n",
       "Dep. Variable:              pisa_math   R-squared:                       0.012\n",
       "Model:                            OLS   Adj. R-squared:                 -0.030\n",
       "Method:                 Least Squares   F-statistic:                    0.2818\n",
       "Date:                Fri, 19 May 2017   Prob (F-statistic):              0.600\n",
       "Time:                        10:10:10   Log-Likelihood:                -124.86\n",
       "No. Observations:                  26   AIC:                             253.7\n",
       "Df Residuals:                      24   BIC:                             256.2\n",
       "Df Model:                           1                                         \n",
       "Covariance Type:            nonrobust                                         \n",
       "==============================================================================\n",
       "                 coef    std err          t      P>|t|      [95.0% Conf. Int.]\n",
       "------------------------------------------------------------------------------\n",
       "Intercept    469.5509     29.862     15.724      0.000       407.919   531.183\n",
       "pryntry        4.3359      8.169      0.531      0.600       -12.523    21.195\n",
       "==============================================================================\n",
       "Omnibus:                       21.934   Durbin-Watson:                   1.425\n",
       "Prob(Omnibus):                  0.000   Jarque-Bera (JB):               29.365\n",
       "Skew:                          -1.961   Prob(JB):                     4.20e-07\n",
       "Kurtosis:                       6.424   Cond. No.                         19.5\n",
       "==============================================================================\n",
       "\n",
       "Warnings:\n",
       "[1] Standard Errors assume that the covariance matrix of the errors is correctly specified.\n",
       "\"\"\""
      ]
     },
     "execution_count": 4,
     "metadata": {},
     "output_type": "execute_result"
    }
   ],
   "source": [
    "lm_pisamath = smf.ols(formula='pisa_math ~ pryntry', data=df).fit()\n",
    "lm_pisamath.summary()"
   ]
  },
  {
   "cell_type": "markdown",
   "metadata": {},
   "source": [
    "Regression on pisa_science"
   ]
  },
  {
   "cell_type": "code",
   "execution_count": 5,
   "metadata": {
    "collapsed": false
   },
   "outputs": [
    {
     "data": {
      "text/html": [
       "<table class=\"simpletable\">\n",
       "<caption>OLS Regression Results</caption>\n",
       "<tr>\n",
       "  <th>Dep. Variable:</th>      <td>pisa_science</td>   <th>  R-squared:         </th> <td>   0.027</td>\n",
       "</tr>\n",
       "<tr>\n",
       "  <th>Model:</th>                   <td>OLS</td>       <th>  Adj. R-squared:    </th> <td>  -0.014</td>\n",
       "</tr>\n",
       "<tr>\n",
       "  <th>Method:</th>             <td>Least Squares</td>  <th>  F-statistic:       </th> <td>  0.6572</td>\n",
       "</tr>\n",
       "<tr>\n",
       "  <th>Date:</th>             <td>Fri, 19 May 2017</td> <th>  Prob (F-statistic):</th>  <td> 0.426</td> \n",
       "</tr>\n",
       "<tr>\n",
       "  <th>Time:</th>                 <td>10:10:11</td>     <th>  Log-Likelihood:    </th> <td> -121.65</td>\n",
       "</tr>\n",
       "<tr>\n",
       "  <th>No. Observations:</th>      <td>    26</td>      <th>  AIC:               </th> <td>   247.3</td>\n",
       "</tr>\n",
       "<tr>\n",
       "  <th>Df Residuals:</th>          <td>    24</td>      <th>  BIC:               </th> <td>   249.8</td>\n",
       "</tr>\n",
       "<tr>\n",
       "  <th>Df Model:</th>              <td>     1</td>      <th>                     </th>     <td> </td>   \n",
       "</tr>\n",
       "<tr>\n",
       "  <th>Covariance Type:</th>      <td>nonrobust</td>    <th>                     </th>     <td> </td>   \n",
       "</tr>\n",
       "</table>\n",
       "<table class=\"simpletable\">\n",
       "<tr>\n",
       "      <td></td>         <th>coef</th>     <th>std err</th>      <th>t</th>      <th>P>|t|</th> <th>[95.0% Conf. Int.]</th> \n",
       "</tr>\n",
       "<tr>\n",
       "  <th>Intercept</th> <td>  467.3097</td> <td>   26.395</td> <td>   17.704</td> <td> 0.000</td> <td>  412.833   521.787</td>\n",
       "</tr>\n",
       "<tr>\n",
       "  <th>pryntry</th>   <td>    5.8534</td> <td>    7.220</td> <td>    0.811</td> <td> 0.426</td> <td>   -9.049    20.755</td>\n",
       "</tr>\n",
       "</table>\n",
       "<table class=\"simpletable\">\n",
       "<tr>\n",
       "  <th>Omnibus:</th>       <td>11.729</td> <th>  Durbin-Watson:     </th> <td>   1.565</td>\n",
       "</tr>\n",
       "<tr>\n",
       "  <th>Prob(Omnibus):</th> <td> 0.003</td> <th>  Jarque-Bera (JB):  </th> <td>  10.710</td>\n",
       "</tr>\n",
       "<tr>\n",
       "  <th>Skew:</th>          <td>-1.212</td> <th>  Prob(JB):          </th> <td> 0.00472</td>\n",
       "</tr>\n",
       "<tr>\n",
       "  <th>Kurtosis:</th>      <td> 5.002</td> <th>  Cond. No.          </th> <td>    19.5</td>\n",
       "</tr>\n",
       "</table>"
      ],
      "text/plain": [
       "<class 'statsmodels.iolib.summary.Summary'>\n",
       "\"\"\"\n",
       "                            OLS Regression Results                            \n",
       "==============================================================================\n",
       "Dep. Variable:           pisa_science   R-squared:                       0.027\n",
       "Model:                            OLS   Adj. R-squared:                 -0.014\n",
       "Method:                 Least Squares   F-statistic:                    0.6572\n",
       "Date:                Fri, 19 May 2017   Prob (F-statistic):              0.426\n",
       "Time:                        10:10:11   Log-Likelihood:                -121.65\n",
       "No. Observations:                  26   AIC:                             247.3\n",
       "Df Residuals:                      24   BIC:                             249.8\n",
       "Df Model:                           1                                         \n",
       "Covariance Type:            nonrobust                                         \n",
       "==============================================================================\n",
       "                 coef    std err          t      P>|t|      [95.0% Conf. Int.]\n",
       "------------------------------------------------------------------------------\n",
       "Intercept    467.3097     26.395     17.704      0.000       412.833   521.787\n",
       "pryntry        5.8534      7.220      0.811      0.426        -9.049    20.755\n",
       "==============================================================================\n",
       "Omnibus:                       11.729   Durbin-Watson:                   1.565\n",
       "Prob(Omnibus):                  0.003   Jarque-Bera (JB):               10.710\n",
       "Skew:                          -1.212   Prob(JB):                      0.00472\n",
       "Kurtosis:                       5.002   Cond. No.                         19.5\n",
       "==============================================================================\n",
       "\n",
       "Warnings:\n",
       "[1] Standard Errors assume that the covariance matrix of the errors is correctly specified.\n",
       "\"\"\""
      ]
     },
     "execution_count": 5,
     "metadata": {},
     "output_type": "execute_result"
    }
   ],
   "source": [
    "lm_pisascience = smf.ols(formula='pisa_science ~ pryntry', data=df).fit()\n",
    "lm_pisascience.summary()"
   ]
  },
  {
   "cell_type": "markdown",
   "metadata": {},
   "source": [
    "COMMENT:\n",
    "\n",
    "Regressions on pisa_read, pisa_math, pisa_science are all non-significant."
   ]
  },
  {
   "cell_type": "markdown",
   "metadata": {},
   "source": [
    "Regressions on rd_exp"
   ]
  },
  {
   "cell_type": "code",
   "execution_count": 6,
   "metadata": {
    "collapsed": false
   },
   "outputs": [
    {
     "data": {
      "text/html": [
       "<table class=\"simpletable\">\n",
       "<caption>OLS Regression Results</caption>\n",
       "<tr>\n",
       "  <th>Dep. Variable:</th>         <td>rd_exp</td>      <th>  R-squared:         </th> <td>   0.571</td>\n",
       "</tr>\n",
       "<tr>\n",
       "  <th>Model:</th>                   <td>OLS</td>       <th>  Adj. R-squared:    </th> <td>   0.435</td>\n",
       "</tr>\n",
       "<tr>\n",
       "  <th>Method:</th>             <td>Least Squares</td>  <th>  F-statistic:       </th> <td>   4.213</td>\n",
       "</tr>\n",
       "<tr>\n",
       "  <th>Date:</th>             <td>Fri, 19 May 2017</td> <th>  Prob (F-statistic):</th>  <td>0.00733</td>\n",
       "</tr>\n",
       "<tr>\n",
       "  <th>Time:</th>                 <td>10:10:13</td>     <th>  Log-Likelihood:    </th> <td> -21.668</td>\n",
       "</tr>\n",
       "<tr>\n",
       "  <th>No. Observations:</th>      <td>    26</td>      <th>  AIC:               </th> <td>   57.34</td>\n",
       "</tr>\n",
       "<tr>\n",
       "  <th>Df Residuals:</th>          <td>    19</td>      <th>  BIC:               </th> <td>   66.14</td>\n",
       "</tr>\n",
       "<tr>\n",
       "  <th>Df Model:</th>              <td>     6</td>      <th>                     </th>     <td> </td>   \n",
       "</tr>\n",
       "<tr>\n",
       "  <th>Covariance Type:</th>      <td>nonrobust</td>    <th>                     </th>     <td> </td>   \n",
       "</tr>\n",
       "</table>\n",
       "<table class=\"simpletable\">\n",
       "<tr>\n",
       "        <td></td>          <th>coef</th>     <th>std err</th>      <th>t</th>      <th>P>|t|</th> <th>[95.0% Conf. Int.]</th> \n",
       "</tr>\n",
       "<tr>\n",
       "  <th>Intercept</th>    <td>   -7.5145</td> <td>    2.832</td> <td>   -2.653</td> <td> 0.016</td> <td>  -13.442    -1.587</td>\n",
       "</tr>\n",
       "<tr>\n",
       "  <th>pisa_read</th>    <td>   -0.0073</td> <td>    0.018</td> <td>   -0.404</td> <td> 0.690</td> <td>   -0.045     0.030</td>\n",
       "</tr>\n",
       "<tr>\n",
       "  <th>pisa_math</th>    <td>    0.0193</td> <td>    0.019</td> <td>    1.037</td> <td> 0.313</td> <td>   -0.020     0.058</td>\n",
       "</tr>\n",
       "<tr>\n",
       "  <th>pisa_science</th> <td>    0.0029</td> <td>    0.022</td> <td>    0.128</td> <td> 0.900</td> <td>   -0.044     0.050</td>\n",
       "</tr>\n",
       "<tr>\n",
       "  <th>pryntry</th>      <td>    0.0909</td> <td>    0.198</td> <td>    0.459</td> <td> 0.651</td> <td>   -0.324     0.505</td>\n",
       "</tr>\n",
       "<tr>\n",
       "  <th>try_public</th>   <td>    1.3035</td> <td>    0.494</td> <td>    2.638</td> <td> 0.016</td> <td>    0.269     2.338</td>\n",
       "</tr>\n",
       "<tr>\n",
       "  <th>try_private</th>  <td>    0.4534</td> <td>    0.588</td> <td>    0.772</td> <td> 0.450</td> <td>   -0.776     1.683</td>\n",
       "</tr>\n",
       "</table>\n",
       "<table class=\"simpletable\">\n",
       "<tr>\n",
       "  <th>Omnibus:</th>       <td> 0.015</td> <th>  Durbin-Watson:     </th> <td>   1.775</td>\n",
       "</tr>\n",
       "<tr>\n",
       "  <th>Prob(Omnibus):</th> <td> 0.993</td> <th>  Jarque-Bera (JB):  </th> <td>   0.122</td>\n",
       "</tr>\n",
       "<tr>\n",
       "  <th>Skew:</th>          <td>-0.040</td> <th>  Prob(JB):          </th> <td>   0.941</td>\n",
       "</tr>\n",
       "<tr>\n",
       "  <th>Kurtosis:</th>      <td> 2.674</td> <th>  Cond. No.          </th> <td>1.88e+04</td>\n",
       "</tr>\n",
       "</table>"
      ],
      "text/plain": [
       "<class 'statsmodels.iolib.summary.Summary'>\n",
       "\"\"\"\n",
       "                            OLS Regression Results                            \n",
       "==============================================================================\n",
       "Dep. Variable:                 rd_exp   R-squared:                       0.571\n",
       "Model:                            OLS   Adj. R-squared:                  0.435\n",
       "Method:                 Least Squares   F-statistic:                     4.213\n",
       "Date:                Fri, 19 May 2017   Prob (F-statistic):            0.00733\n",
       "Time:                        10:10:13   Log-Likelihood:                -21.668\n",
       "No. Observations:                  26   AIC:                             57.34\n",
       "Df Residuals:                      19   BIC:                             66.14\n",
       "Df Model:                           6                                         \n",
       "Covariance Type:            nonrobust                                         \n",
       "================================================================================\n",
       "                   coef    std err          t      P>|t|      [95.0% Conf. Int.]\n",
       "--------------------------------------------------------------------------------\n",
       "Intercept       -7.5145      2.832     -2.653      0.016       -13.442    -1.587\n",
       "pisa_read       -0.0073      0.018     -0.404      0.690        -0.045     0.030\n",
       "pisa_math        0.0193      0.019      1.037      0.313        -0.020     0.058\n",
       "pisa_science     0.0029      0.022      0.128      0.900        -0.044     0.050\n",
       "pryntry          0.0909      0.198      0.459      0.651        -0.324     0.505\n",
       "try_public       1.3035      0.494      2.638      0.016         0.269     2.338\n",
       "try_private      0.4534      0.588      0.772      0.450        -0.776     1.683\n",
       "==============================================================================\n",
       "Omnibus:                        0.015   Durbin-Watson:                   1.775\n",
       "Prob(Omnibus):                  0.993   Jarque-Bera (JB):                0.122\n",
       "Skew:                          -0.040   Prob(JB):                        0.941\n",
       "Kurtosis:                       2.674   Cond. No.                     1.88e+04\n",
       "==============================================================================\n",
       "\n",
       "Warnings:\n",
       "[1] Standard Errors assume that the covariance matrix of the errors is correctly specified.\n",
       "[2] The condition number is large, 1.88e+04. This might indicate that there are\n",
       "strong multicollinearity or other numerical problems.\n",
       "\"\"\""
      ]
     },
     "execution_count": 6,
     "metadata": {},
     "output_type": "execute_result"
    }
   ],
   "source": [
    "lm_rdexp_unrestricted = smf.ols(formula='rd_exp ~ pisa_read + pisa_math + pisa_science + pryntry + try_public + try_private', data=df).fit()\n",
    "lm_rdexp_unrestricted.summary()"
   ]
  },
  {
   "cell_type": "code",
   "execution_count": 7,
   "metadata": {
    "collapsed": false
   },
   "outputs": [
    {
     "data": {
      "text/plain": [
       "(0.30867291748023784, 0.86857973234158825, 4.0)"
      ]
     },
     "execution_count": 7,
     "metadata": {},
     "output_type": "execute_result"
    }
   ],
   "source": [
    "lm_rdexp_restricted = smf.ols(formula='rd_exp ~ pisa_math + try_public', data=df).fit()\n",
    "lm_rdexp_unrestricted.compare_f_test(lm_rdexp_restricted)"
   ]
  },
  {
   "cell_type": "code",
   "execution_count": 8,
   "metadata": {
    "collapsed": false
   },
   "outputs": [
    {
     "data": {
      "text/html": [
       "<table class=\"simpletable\">\n",
       "<caption>OLS Regression Results</caption>\n",
       "<tr>\n",
       "  <th>Dep. Variable:</th>         <td>rd_exp</td>      <th>  R-squared:         </th> <td>   0.543</td>\n",
       "</tr>\n",
       "<tr>\n",
       "  <th>Model:</th>                   <td>OLS</td>       <th>  Adj. R-squared:    </th> <td>   0.503</td>\n",
       "</tr>\n",
       "<tr>\n",
       "  <th>Method:</th>             <td>Least Squares</td>  <th>  F-statistic:       </th> <td>   13.66</td>\n",
       "</tr>\n",
       "<tr>\n",
       "  <th>Date:</th>             <td>Fri, 19 May 2017</td> <th>  Prob (F-statistic):</th> <td>0.000123</td>\n",
       "</tr>\n",
       "<tr>\n",
       "  <th>Time:</th>                 <td>10:10:15</td>     <th>  Log-Likelihood:    </th> <td> -22.486</td>\n",
       "</tr>\n",
       "<tr>\n",
       "  <th>No. Observations:</th>      <td>    26</td>      <th>  AIC:               </th> <td>   50.97</td>\n",
       "</tr>\n",
       "<tr>\n",
       "  <th>Df Residuals:</th>          <td>    23</td>      <th>  BIC:               </th> <td>   54.75</td>\n",
       "</tr>\n",
       "<tr>\n",
       "  <th>Df Model:</th>              <td>     2</td>      <th>                     </th>     <td> </td>   \n",
       "</tr>\n",
       "<tr>\n",
       "  <th>Covariance Type:</th>      <td>nonrobust</td>    <th>                     </th>     <td> </td>   \n",
       "</tr>\n",
       "</table>\n",
       "<table class=\"simpletable\">\n",
       "<tr>\n",
       "       <td></td>         <th>coef</th>     <th>std err</th>      <th>t</th>      <th>P>|t|</th> <th>[95.0% Conf. Int.]</th> \n",
       "</tr>\n",
       "<tr>\n",
       "  <th>Intercept</th>  <td>   -6.1143</td> <td>    1.965</td> <td>   -3.112</td> <td> 0.005</td> <td>  -10.178    -2.050</td>\n",
       "</tr>\n",
       "<tr>\n",
       "  <th>pisa_math</th>  <td>    0.0132</td> <td>    0.004</td> <td>    3.177</td> <td> 0.004</td> <td>    0.005     0.022</td>\n",
       "</tr>\n",
       "<tr>\n",
       "  <th>try_public</th> <td>    1.2484</td> <td>    0.377</td> <td>    3.313</td> <td> 0.003</td> <td>    0.469     2.028</td>\n",
       "</tr>\n",
       "</table>\n",
       "<table class=\"simpletable\">\n",
       "<tr>\n",
       "  <th>Omnibus:</th>       <td> 1.216</td> <th>  Durbin-Watson:     </th> <td>   1.765</td>\n",
       "</tr>\n",
       "<tr>\n",
       "  <th>Prob(Omnibus):</th> <td> 0.544</td> <th>  Jarque-Bera (JB):  </th> <td>   0.349</td>\n",
       "</tr>\n",
       "<tr>\n",
       "  <th>Skew:</th>          <td> 0.223</td> <th>  Prob(JB):          </th> <td>   0.840</td>\n",
       "</tr>\n",
       "<tr>\n",
       "  <th>Kurtosis:</th>      <td> 3.351</td> <th>  Cond. No.          </th> <td>7.97e+03</td>\n",
       "</tr>\n",
       "</table>"
      ],
      "text/plain": [
       "<class 'statsmodels.iolib.summary.Summary'>\n",
       "\"\"\"\n",
       "                            OLS Regression Results                            \n",
       "==============================================================================\n",
       "Dep. Variable:                 rd_exp   R-squared:                       0.543\n",
       "Model:                            OLS   Adj. R-squared:                  0.503\n",
       "Method:                 Least Squares   F-statistic:                     13.66\n",
       "Date:                Fri, 19 May 2017   Prob (F-statistic):           0.000123\n",
       "Time:                        10:10:15   Log-Likelihood:                -22.486\n",
       "No. Observations:                  26   AIC:                             50.97\n",
       "Df Residuals:                      23   BIC:                             54.75\n",
       "Df Model:                           2                                         \n",
       "Covariance Type:            nonrobust                                         \n",
       "==============================================================================\n",
       "                 coef    std err          t      P>|t|      [95.0% Conf. Int.]\n",
       "------------------------------------------------------------------------------\n",
       "Intercept     -6.1143      1.965     -3.112      0.005       -10.178    -2.050\n",
       "pisa_math      0.0132      0.004      3.177      0.004         0.005     0.022\n",
       "try_public     1.2484      0.377      3.313      0.003         0.469     2.028\n",
       "==============================================================================\n",
       "Omnibus:                        1.216   Durbin-Watson:                   1.765\n",
       "Prob(Omnibus):                  0.544   Jarque-Bera (JB):                0.349\n",
       "Skew:                           0.223   Prob(JB):                        0.840\n",
       "Kurtosis:                       3.351   Cond. No.                     7.97e+03\n",
       "==============================================================================\n",
       "\n",
       "Warnings:\n",
       "[1] Standard Errors assume that the covariance matrix of the errors is correctly specified.\n",
       "[2] The condition number is large, 7.97e+03. This might indicate that there are\n",
       "strong multicollinearity or other numerical problems.\n",
       "\"\"\""
      ]
     },
     "execution_count": 8,
     "metadata": {},
     "output_type": "execute_result"
    }
   ],
   "source": [
    "lm_rdexp = lm_rdexp_restricted\n",
    "lm_rdexp.summary()"
   ]
  },
  {
   "cell_type": "markdown",
   "metadata": {},
   "source": [
    "COMMENT:\n",
    "\n",
    "When I perform a f-test on unrestricted and restricted regressions on rd_exp, I see that all random variables except pisa_math and try_public are jointly non-significant.\n",
    "Therefore, I took the restricted regression."
   ]
  },
  {
   "cell_type": "markdown",
   "metadata": {},
   "source": [
    "Regressions on researchers_rd"
   ]
  },
  {
   "cell_type": "code",
   "execution_count": 9,
   "metadata": {
    "collapsed": false
   },
   "outputs": [
    {
     "data": {
      "text/html": [
       "<table class=\"simpletable\">\n",
       "<caption>OLS Regression Results</caption>\n",
       "<tr>\n",
       "  <th>Dep. Variable:</th>    <td>researchers_rd_permillionpeople</td> <th>  R-squared:         </th> <td>   0.204</td>\n",
       "</tr>\n",
       "<tr>\n",
       "  <th>Model:</th>                          <td>OLS</td>               <th>  Adj. R-squared:    </th> <td>  -0.047</td>\n",
       "</tr>\n",
       "<tr>\n",
       "  <th>Method:</th>                    <td>Least Squares</td>          <th>  F-statistic:       </th> <td>  0.8124</td>\n",
       "</tr>\n",
       "<tr>\n",
       "  <th>Date:</th>                    <td>Fri, 19 May 2017</td>         <th>  Prob (F-statistic):</th>  <td> 0.573</td> \n",
       "</tr>\n",
       "<tr>\n",
       "  <th>Time:</th>                        <td>10:10:18</td>             <th>  Log-Likelihood:    </th> <td> -248.08</td>\n",
       "</tr>\n",
       "<tr>\n",
       "  <th>No. Observations:</th>             <td>    26</td>              <th>  AIC:               </th> <td>   510.2</td>\n",
       "</tr>\n",
       "<tr>\n",
       "  <th>Df Residuals:</th>                 <td>    19</td>              <th>  BIC:               </th> <td>   519.0</td>\n",
       "</tr>\n",
       "<tr>\n",
       "  <th>Df Model:</th>                     <td>     6</td>              <th>                     </th>     <td> </td>   \n",
       "</tr>\n",
       "<tr>\n",
       "  <th>Covariance Type:</th>             <td>nonrobust</td>            <th>                     </th>     <td> </td>   \n",
       "</tr>\n",
       "</table>\n",
       "<table class=\"simpletable\">\n",
       "<tr>\n",
       "        <td></td>          <th>coef</th>     <th>std err</th>      <th>t</th>      <th>P>|t|</th> <th>[95.0% Conf. Int.]</th> \n",
       "</tr>\n",
       "<tr>\n",
       "  <th>Intercept</th>    <td> 8610.5347</td> <td> 1.71e+04</td> <td>    0.502</td> <td> 0.621</td> <td>-2.73e+04  4.45e+04</td>\n",
       "</tr>\n",
       "<tr>\n",
       "  <th>pisa_read</th>    <td>    3.4926</td> <td>  109.020</td> <td>    0.032</td> <td> 0.975</td> <td> -224.688   231.673</td>\n",
       "</tr>\n",
       "<tr>\n",
       "  <th>pisa_math</th>    <td>   61.3639</td> <td>  112.971</td> <td>    0.543</td> <td> 0.593</td> <td> -175.086   297.814</td>\n",
       "</tr>\n",
       "<tr>\n",
       "  <th>pisa_science</th> <td>  -83.1656</td> <td>  135.550</td> <td>   -0.614</td> <td> 0.547</td> <td> -366.876   200.544</td>\n",
       "</tr>\n",
       "<tr>\n",
       "  <th>pryntry</th>      <td> 1511.3633</td> <td> 1198.494</td> <td>    1.261</td> <td> 0.223</td> <td> -997.114  4019.841</td>\n",
       "</tr>\n",
       "<tr>\n",
       "  <th>try_public</th>   <td>-2161.6652</td> <td> 2990.912</td> <td>   -0.723</td> <td> 0.479</td> <td>-8421.717  4098.387</td>\n",
       "</tr>\n",
       "<tr>\n",
       "  <th>try_private</th>  <td>-2272.9246</td> <td> 3556.394</td> <td>   -0.639</td> <td> 0.530</td> <td>-9716.543  5170.694</td>\n",
       "</tr>\n",
       "</table>\n",
       "<table class=\"simpletable\">\n",
       "<tr>\n",
       "  <th>Omnibus:</th>       <td>34.229</td> <th>  Durbin-Watson:     </th> <td>   2.405</td>\n",
       "</tr>\n",
       "<tr>\n",
       "  <th>Prob(Omnibus):</th> <td> 0.000</td> <th>  Jarque-Bera (JB):  </th> <td>  86.149</td>\n",
       "</tr>\n",
       "<tr>\n",
       "  <th>Skew:</th>          <td> 2.584</td> <th>  Prob(JB):          </th> <td>1.96e-19</td>\n",
       "</tr>\n",
       "<tr>\n",
       "  <th>Kurtosis:</th>      <td>10.268</td> <th>  Cond. No.          </th> <td>1.88e+04</td>\n",
       "</tr>\n",
       "</table>"
      ],
      "text/plain": [
       "<class 'statsmodels.iolib.summary.Summary'>\n",
       "\"\"\"\n",
       "                                   OLS Regression Results                                  \n",
       "===========================================================================================\n",
       "Dep. Variable:     researchers_rd_permillionpeople   R-squared:                       0.204\n",
       "Model:                                         OLS   Adj. R-squared:                 -0.047\n",
       "Method:                              Least Squares   F-statistic:                    0.8124\n",
       "Date:                             Fri, 19 May 2017   Prob (F-statistic):              0.573\n",
       "Time:                                     10:10:18   Log-Likelihood:                -248.08\n",
       "No. Observations:                               26   AIC:                             510.2\n",
       "Df Residuals:                                   19   BIC:                             519.0\n",
       "Df Model:                                        6                                         \n",
       "Covariance Type:                         nonrobust                                         \n",
       "================================================================================\n",
       "                   coef    std err          t      P>|t|      [95.0% Conf. Int.]\n",
       "--------------------------------------------------------------------------------\n",
       "Intercept     8610.5347   1.71e+04      0.502      0.621     -2.73e+04  4.45e+04\n",
       "pisa_read        3.4926    109.020      0.032      0.975      -224.688   231.673\n",
       "pisa_math       61.3639    112.971      0.543      0.593      -175.086   297.814\n",
       "pisa_science   -83.1656    135.550     -0.614      0.547      -366.876   200.544\n",
       "pryntry       1511.3633   1198.494      1.261      0.223      -997.114  4019.841\n",
       "try_public   -2161.6652   2990.912     -0.723      0.479     -8421.717  4098.387\n",
       "try_private  -2272.9246   3556.394     -0.639      0.530     -9716.543  5170.694\n",
       "==============================================================================\n",
       "Omnibus:                       34.229   Durbin-Watson:                   2.405\n",
       "Prob(Omnibus):                  0.000   Jarque-Bera (JB):               86.149\n",
       "Skew:                           2.584   Prob(JB):                     1.96e-19\n",
       "Kurtosis:                      10.268   Cond. No.                     1.88e+04\n",
       "==============================================================================\n",
       "\n",
       "Warnings:\n",
       "[1] Standard Errors assume that the covariance matrix of the errors is correctly specified.\n",
       "[2] The condition number is large, 1.88e+04. This might indicate that there are\n",
       "strong multicollinearity or other numerical problems.\n",
       "\"\"\""
      ]
     },
     "execution_count": 9,
     "metadata": {},
     "output_type": "execute_result"
    }
   ],
   "source": [
    "lm_researchersinrd_unrestricted = smf.ols(formula='researchers_rd_permillionpeople ~ pisa_read + pisa_math + pisa_science + pryntry + try_public + try_private', data=df).fit()\n",
    "lm_researchersinrd_unrestricted.summary()"
   ]
  },
  {
   "cell_type": "code",
   "execution_count": 10,
   "metadata": {
    "collapsed": false
   },
   "outputs": [
    {
     "data": {
      "text/plain": [
       "(-3.7999998410500395, 1.0, 5.0)"
      ]
     },
     "execution_count": 10,
     "metadata": {},
     "output_type": "execute_result"
    }
   ],
   "source": [
    "lm_researchersinrd_restricted = smf.ols(formula='researchers_rd_permillionpeople ~ pryntry', data=df).fit()\n",
    "lm_researchersinrd_unrestricted.compare_f_test(lm_researchersinrd_restricted)"
   ]
  },
  {
   "cell_type": "code",
   "execution_count": 11,
   "metadata": {
    "collapsed": false
   },
   "outputs": [
    {
     "data": {
      "text/html": [
       "<table class=\"simpletable\">\n",
       "<caption>OLS Regression Results</caption>\n",
       "<tr>\n",
       "  <th>Dep. Variable:</th>         <td>rd_exp</td>      <th>  R-squared:         </th> <td>   0.342</td>\n",
       "</tr>\n",
       "<tr>\n",
       "  <th>Model:</th>                   <td>OLS</td>       <th>  Adj. R-squared:    </th> <td>   0.315</td>\n",
       "</tr>\n",
       "<tr>\n",
       "  <th>Method:</th>             <td>Least Squares</td>  <th>  F-statistic:       </th> <td>   12.50</td>\n",
       "</tr>\n",
       "<tr>\n",
       "  <th>Date:</th>             <td>Fri, 14 Apr 2017</td> <th>  Prob (F-statistic):</th>  <td>0.00169</td>\n",
       "</tr>\n",
       "<tr>\n",
       "  <th>Time:</th>                 <td>21:38:19</td>     <th>  Log-Likelihood:    </th> <td> -27.215</td>\n",
       "</tr>\n",
       "<tr>\n",
       "  <th>No. Observations:</th>      <td>    26</td>      <th>  AIC:               </th> <td>   58.43</td>\n",
       "</tr>\n",
       "<tr>\n",
       "  <th>Df Residuals:</th>          <td>    24</td>      <th>  BIC:               </th> <td>   60.95</td>\n",
       "</tr>\n",
       "<tr>\n",
       "  <th>Df Model:</th>              <td>     1</td>      <th>                     </th>     <td> </td>   \n",
       "</tr>\n",
       "<tr>\n",
       "  <th>Covariance Type:</th>      <td>nonrobust</td>    <th>                     </th>     <td> </td>   \n",
       "</tr>\n",
       "</table>\n",
       "<table class=\"simpletable\">\n",
       "<tr>\n",
       "       <td></td>         <th>coef</th>     <th>std err</th>      <th>t</th>      <th>P>|t|</th> <th>[95.0% Conf. Int.]</th> \n",
       "</tr>\n",
       "<tr>\n",
       "  <th>Intercept</th>  <td>   -0.0247</td> <td>    0.505</td> <td>   -0.049</td> <td> 0.961</td> <td>   -1.068     1.018</td>\n",
       "</tr>\n",
       "<tr>\n",
       "  <th>try_public</th> <td>    1.5226</td> <td>    0.431</td> <td>    3.535</td> <td> 0.002</td> <td>    0.634     2.411</td>\n",
       "</tr>\n",
       "</table>\n",
       "<table class=\"simpletable\">\n",
       "<tr>\n",
       "  <th>Omnibus:</th>       <td> 0.906</td> <th>  Durbin-Watson:     </th> <td>   2.277</td>\n",
       "</tr>\n",
       "<tr>\n",
       "  <th>Prob(Omnibus):</th> <td> 0.636</td> <th>  Jarque-Bera (JB):  </th> <td>   0.919</td>\n",
       "</tr>\n",
       "<tr>\n",
       "  <th>Skew:</th>          <td>-0.337</td> <th>  Prob(JB):          </th> <td>   0.632</td>\n",
       "</tr>\n",
       "<tr>\n",
       "  <th>Kurtosis:</th>      <td> 2.373</td> <th>  Cond. No.          </th> <td>    7.14</td>\n",
       "</tr>\n",
       "</table>"
      ],
      "text/plain": [
       "<class 'statsmodels.iolib.summary.Summary'>\n",
       "\"\"\"\n",
       "                            OLS Regression Results                            \n",
       "==============================================================================\n",
       "Dep. Variable:                 rd_exp   R-squared:                       0.342\n",
       "Model:                            OLS   Adj. R-squared:                  0.315\n",
       "Method:                 Least Squares   F-statistic:                     12.50\n",
       "Date:                Fri, 14 Apr 2017   Prob (F-statistic):            0.00169\n",
       "Time:                        21:38:19   Log-Likelihood:                -27.215\n",
       "No. Observations:                  26   AIC:                             58.43\n",
       "Df Residuals:                      24   BIC:                             60.95\n",
       "Df Model:                           1                                         \n",
       "Covariance Type:            nonrobust                                         \n",
       "==============================================================================\n",
       "                 coef    std err          t      P>|t|      [95.0% Conf. Int.]\n",
       "------------------------------------------------------------------------------\n",
       "Intercept     -0.0247      0.505     -0.049      0.961        -1.068     1.018\n",
       "try_public     1.5226      0.431      3.535      0.002         0.634     2.411\n",
       "==============================================================================\n",
       "Omnibus:                        0.906   Durbin-Watson:                   2.277\n",
       "Prob(Omnibus):                  0.636   Jarque-Bera (JB):                0.919\n",
       "Skew:                          -0.337   Prob(JB):                        0.632\n",
       "Kurtosis:                       2.373   Cond. No.                         7.14\n",
       "==============================================================================\n",
       "\n",
       "Warnings:\n",
       "[1] Standard Errors assume that the covariance matrix of the errors is correctly specified.\n",
       "\"\"\""
      ]
     },
     "execution_count": 11,
     "metadata": {},
     "output_type": "execute_result"
    }
   ],
   "source": [
    "lm_researchersinrd = lm_researchersinrd_restricted\n",
    "lm_researchersinrd.summary()"
   ]
  },
  {
   "cell_type": "markdown",
   "metadata": {},
   "source": [
    "COMMENT:\n",
    "\n",
    "When I perform a f-test on unrestricted and restricted regressions on researchers_rd, I see that all random variables except try_public are jointly non-significant. Therefore, I took the restricted regression."
   ]
  },
  {
   "cell_type": "markdown",
   "metadata": {},
   "source": [
    "Regressions on high_tech_exports"
   ]
  },
  {
   "cell_type": "code",
   "execution_count": 12,
   "metadata": {
    "collapsed": false
   },
   "outputs": [
    {
     "data": {
      "text/html": [
       "<table class=\"simpletable\">\n",
       "<caption>OLS Regression Results</caption>\n",
       "<tr>\n",
       "  <th>Dep. Variable:</th>    <td>high_tech_exports</td> <th>  R-squared:         </th> <td>   0.356</td>\n",
       "</tr>\n",
       "<tr>\n",
       "  <th>Model:</th>                   <td>OLS</td>        <th>  Adj. R-squared:    </th> <td>   0.054</td>\n",
       "</tr>\n",
       "<tr>\n",
       "  <th>Method:</th>             <td>Least Squares</td>   <th>  F-statistic:       </th> <td>   1.177</td>\n",
       "</tr>\n",
       "<tr>\n",
       "  <th>Date:</th>             <td>Fri, 14 Apr 2017</td>  <th>  Prob (F-statistic):</th>  <td> 0.367</td> \n",
       "</tr>\n",
       "<tr>\n",
       "  <th>Time:</th>                 <td>21:38:20</td>      <th>  Log-Likelihood:    </th> <td> -77.726</td>\n",
       "</tr>\n",
       "<tr>\n",
       "  <th>No. Observations:</th>      <td>    26</td>       <th>  AIC:               </th> <td>   173.5</td>\n",
       "</tr>\n",
       "<tr>\n",
       "  <th>Df Residuals:</th>          <td>    17</td>       <th>  BIC:               </th> <td>   184.8</td>\n",
       "</tr>\n",
       "<tr>\n",
       "  <th>Df Model:</th>              <td>     8</td>       <th>                     </th>     <td> </td>   \n",
       "</tr>\n",
       "<tr>\n",
       "  <th>Covariance Type:</th>      <td>nonrobust</td>     <th>                     </th>     <td> </td>   \n",
       "</tr>\n",
       "</table>\n",
       "<table class=\"simpletable\">\n",
       "<tr>\n",
       "                 <td></td>                    <th>coef</th>     <th>std err</th>      <th>t</th>      <th>P>|t|</th> <th>[95.0% Conf. Int.]</th> \n",
       "</tr>\n",
       "<tr>\n",
       "  <th>Intercept</th>                       <td>  -42.4479</td> <td>   30.618</td> <td>   -1.386</td> <td> 0.184</td> <td> -107.047    22.151</td>\n",
       "</tr>\n",
       "<tr>\n",
       "  <th>pisa_read</th>                       <td>    0.0810</td> <td>    0.165</td> <td>    0.490</td> <td> 0.630</td> <td>   -0.268     0.430</td>\n",
       "</tr>\n",
       "<tr>\n",
       "  <th>pisa_math</th>                       <td>    0.2583</td> <td>    0.176</td> <td>    1.467</td> <td> 0.161</td> <td>   -0.113     0.630</td>\n",
       "</tr>\n",
       "<tr>\n",
       "  <th>pisa_science</th>                    <td>   -0.2502</td> <td>    0.207</td> <td>   -1.210</td> <td> 0.243</td> <td>   -0.686     0.186</td>\n",
       "</tr>\n",
       "<tr>\n",
       "  <th>pryntry</th>                         <td>    1.8183</td> <td>    1.887</td> <td>    0.963</td> <td> 0.349</td> <td>   -2.164     5.801</td>\n",
       "</tr>\n",
       "<tr>\n",
       "  <th>try_public</th>                      <td>    0.0212</td> <td>    5.373</td> <td>    0.004</td> <td> 0.997</td> <td>  -11.314    11.357</td>\n",
       "</tr>\n",
       "<tr>\n",
       "  <th>try_private</th>                     <td>    7.8249</td> <td>    5.520</td> <td>    1.417</td> <td> 0.174</td> <td>   -3.822    19.472</td>\n",
       "</tr>\n",
       "<tr>\n",
       "  <th>rd_exp</th>                          <td>    1.5125</td> <td>    2.105</td> <td>    0.718</td> <td> 0.482</td> <td>   -2.929     5.954</td>\n",
       "</tr>\n",
       "<tr>\n",
       "  <th>researchers_rd_permillionpeople</th> <td>  -8.8e-05</td> <td>    0.000</td> <td>   -0.253</td> <td> 0.803</td> <td>   -0.001     0.001</td>\n",
       "</tr>\n",
       "</table>\n",
       "<table class=\"simpletable\">\n",
       "<tr>\n",
       "  <th>Omnibus:</th>       <td> 0.630</td> <th>  Durbin-Watson:     </th> <td>   1.240</td>\n",
       "</tr>\n",
       "<tr>\n",
       "  <th>Prob(Omnibus):</th> <td> 0.730</td> <th>  Jarque-Bera (JB):  </th> <td>   0.335</td>\n",
       "</tr>\n",
       "<tr>\n",
       "  <th>Skew:</th>          <td> 0.274</td> <th>  Prob(JB):          </th> <td>   0.846</td>\n",
       "</tr>\n",
       "<tr>\n",
       "  <th>Kurtosis:</th>      <td> 2.907</td> <th>  Cond. No.          </th> <td>1.08e+05</td>\n",
       "</tr>\n",
       "</table>"
      ],
      "text/plain": [
       "<class 'statsmodels.iolib.summary.Summary'>\n",
       "\"\"\"\n",
       "                            OLS Regression Results                            \n",
       "==============================================================================\n",
       "Dep. Variable:      high_tech_exports   R-squared:                       0.356\n",
       "Model:                            OLS   Adj. R-squared:                  0.054\n",
       "Method:                 Least Squares   F-statistic:                     1.177\n",
       "Date:                Fri, 14 Apr 2017   Prob (F-statistic):              0.367\n",
       "Time:                        21:38:20   Log-Likelihood:                -77.726\n",
       "No. Observations:                  26   AIC:                             173.5\n",
       "Df Residuals:                      17   BIC:                             184.8\n",
       "Df Model:                           8                                         \n",
       "Covariance Type:            nonrobust                                         \n",
       "===================================================================================================\n",
       "                                      coef    std err          t      P>|t|      [95.0% Conf. Int.]\n",
       "---------------------------------------------------------------------------------------------------\n",
       "Intercept                         -42.4479     30.618     -1.386      0.184      -107.047    22.151\n",
       "pisa_read                           0.0810      0.165      0.490      0.630        -0.268     0.430\n",
       "pisa_math                           0.2583      0.176      1.467      0.161        -0.113     0.630\n",
       "pisa_science                       -0.2502      0.207     -1.210      0.243        -0.686     0.186\n",
       "pryntry                             1.8183      1.887      0.963      0.349        -2.164     5.801\n",
       "try_public                          0.0212      5.373      0.004      0.997       -11.314    11.357\n",
       "try_private                         7.8249      5.520      1.417      0.174        -3.822    19.472\n",
       "rd_exp                              1.5125      2.105      0.718      0.482        -2.929     5.954\n",
       "researchers_rd_permillionpeople   -8.8e-05      0.000     -0.253      0.803        -0.001     0.001\n",
       "==============================================================================\n",
       "Omnibus:                        0.630   Durbin-Watson:                   1.240\n",
       "Prob(Omnibus):                  0.730   Jarque-Bera (JB):                0.335\n",
       "Skew:                           0.274   Prob(JB):                        0.846\n",
       "Kurtosis:                       2.907   Cond. No.                     1.08e+05\n",
       "==============================================================================\n",
       "\n",
       "Warnings:\n",
       "[1] Standard Errors assume that the covariance matrix of the errors is correctly specified.\n",
       "[2] The condition number is large, 1.08e+05. This might indicate that there are\n",
       "strong multicollinearity or other numerical problems.\n",
       "\"\"\""
      ]
     },
     "execution_count": 12,
     "metadata": {},
     "output_type": "execute_result"
    }
   ],
   "source": [
    "lm_hightechexports_unrestricted = smf.ols(formula='high_tech_exports ~ pisa_read + pisa_math + pisa_science + pryntry + try_public + try_private + rd_exp + researchers_rd_permillionpeople', data=df).fit()\n",
    "lm_hightechexports_unrestricted.summary()"
   ]
  },
  {
   "cell_type": "markdown",
   "metadata": {},
   "source": [
    "COMMENT:\n",
    "\n",
    "Regression on high technology exports are jointly non significant."
   ]
  },
  {
   "cell_type": "markdown",
   "metadata": {},
   "source": [
    "Regressions on patent_res_per100people"
   ]
  },
  {
   "cell_type": "code",
   "execution_count": 13,
   "metadata": {
    "collapsed": false
   },
   "outputs": [
    {
     "data": {
      "text/html": [
       "<table class=\"simpletable\">\n",
       "<caption>OLS Regression Results</caption>\n",
       "<tr>\n",
       "  <th>Dep. Variable:</th>    <td>patent_res_per100people</td> <th>  R-squared:         </th> <td>   0.655</td>\n",
       "</tr>\n",
       "<tr>\n",
       "  <th>Model:</th>                      <td>OLS</td>           <th>  Adj. R-squared:    </th> <td>   0.493</td>\n",
       "</tr>\n",
       "<tr>\n",
       "  <th>Method:</th>                <td>Least Squares</td>      <th>  F-statistic:       </th> <td>   4.042</td>\n",
       "</tr>\n",
       "<tr>\n",
       "  <th>Date:</th>                <td>Fri, 14 Apr 2017</td>     <th>  Prob (F-statistic):</th>  <td>0.00743</td>\n",
       "</tr>\n",
       "<tr>\n",
       "  <th>Time:</th>                    <td>21:38:21</td>         <th>  Log-Likelihood:    </th> <td>  22.799</td>\n",
       "</tr>\n",
       "<tr>\n",
       "  <th>No. Observations:</th>         <td>    26</td>          <th>  AIC:               </th> <td>  -27.60</td>\n",
       "</tr>\n",
       "<tr>\n",
       "  <th>Df Residuals:</th>             <td>    17</td>          <th>  BIC:               </th> <td>  -16.27</td>\n",
       "</tr>\n",
       "<tr>\n",
       "  <th>Df Model:</th>                 <td>     8</td>          <th>                     </th>     <td> </td>   \n",
       "</tr>\n",
       "<tr>\n",
       "  <th>Covariance Type:</th>         <td>nonrobust</td>        <th>                     </th>     <td> </td>   \n",
       "</tr>\n",
       "</table>\n",
       "<table class=\"simpletable\">\n",
       "<tr>\n",
       "                 <td></td>                    <th>coef</th>     <th>std err</th>      <th>t</th>      <th>P>|t|</th> <th>[95.0% Conf. Int.]</th> \n",
       "</tr>\n",
       "<tr>\n",
       "  <th>Intercept</th>                       <td>   -0.3862</td> <td>    0.641</td> <td>   -0.603</td> <td> 0.555</td> <td>   -1.739     0.966</td>\n",
       "</tr>\n",
       "<tr>\n",
       "  <th>pisa_read</th>                       <td>    0.0031</td> <td>    0.003</td> <td>    0.883</td> <td> 0.389</td> <td>   -0.004     0.010</td>\n",
       "</tr>\n",
       "<tr>\n",
       "  <th>pisa_math</th>                       <td>    0.0006</td> <td>    0.004</td> <td>    0.154</td> <td> 0.879</td> <td>   -0.007     0.008</td>\n",
       "</tr>\n",
       "<tr>\n",
       "  <th>pisa_science</th>                    <td>   -0.0029</td> <td>    0.004</td> <td>   -0.674</td> <td> 0.509</td> <td>   -0.012     0.006</td>\n",
       "</tr>\n",
       "<tr>\n",
       "  <th>pryntry</th>                         <td>   -0.0304</td> <td>    0.040</td> <td>   -0.769</td> <td> 0.453</td> <td>   -0.114     0.053</td>\n",
       "</tr>\n",
       "<tr>\n",
       "  <th>try_public</th>                      <td>   -0.0804</td> <td>    0.112</td> <td>   -0.715</td> <td> 0.485</td> <td>   -0.318     0.157</td>\n",
       "</tr>\n",
       "<tr>\n",
       "  <th>try_private</th>                     <td>    0.2711</td> <td>    0.116</td> <td>    2.346</td> <td> 0.031</td> <td>    0.027     0.515</td>\n",
       "</tr>\n",
       "<tr>\n",
       "  <th>rd_exp</th>                          <td>    0.1654</td> <td>    0.044</td> <td>    3.753</td> <td> 0.002</td> <td>    0.072     0.258</td>\n",
       "</tr>\n",
       "<tr>\n",
       "  <th>researchers_rd_permillionpeople</th> <td> 3.576e-06</td> <td> 7.28e-06</td> <td>    0.491</td> <td> 0.630</td> <td>-1.18e-05  1.89e-05</td>\n",
       "</tr>\n",
       "</table>\n",
       "<table class=\"simpletable\">\n",
       "<tr>\n",
       "  <th>Omnibus:</th>       <td> 0.946</td> <th>  Durbin-Watson:     </th> <td>   1.346</td>\n",
       "</tr>\n",
       "<tr>\n",
       "  <th>Prob(Omnibus):</th> <td> 0.623</td> <th>  Jarque-Bera (JB):  </th> <td>   0.629</td>\n",
       "</tr>\n",
       "<tr>\n",
       "  <th>Skew:</th>          <td> 0.374</td> <th>  Prob(JB):          </th> <td>   0.730</td>\n",
       "</tr>\n",
       "<tr>\n",
       "  <th>Kurtosis:</th>      <td> 2.852</td> <th>  Cond. No.          </th> <td>1.08e+05</td>\n",
       "</tr>\n",
       "</table>"
      ],
      "text/plain": [
       "<class 'statsmodels.iolib.summary.Summary'>\n",
       "\"\"\"\n",
       "                               OLS Regression Results                              \n",
       "===================================================================================\n",
       "Dep. Variable:     patent_res_per100people   R-squared:                       0.655\n",
       "Model:                                 OLS   Adj. R-squared:                  0.493\n",
       "Method:                      Least Squares   F-statistic:                     4.042\n",
       "Date:                     Fri, 14 Apr 2017   Prob (F-statistic):            0.00743\n",
       "Time:                             21:38:21   Log-Likelihood:                 22.799\n",
       "No. Observations:                       26   AIC:                            -27.60\n",
       "Df Residuals:                           17   BIC:                            -16.27\n",
       "Df Model:                                8                                         \n",
       "Covariance Type:                 nonrobust                                         \n",
       "===================================================================================================\n",
       "                                      coef    std err          t      P>|t|      [95.0% Conf. Int.]\n",
       "---------------------------------------------------------------------------------------------------\n",
       "Intercept                          -0.3862      0.641     -0.603      0.555        -1.739     0.966\n",
       "pisa_read                           0.0031      0.003      0.883      0.389        -0.004     0.010\n",
       "pisa_math                           0.0006      0.004      0.154      0.879        -0.007     0.008\n",
       "pisa_science                       -0.0029      0.004     -0.674      0.509        -0.012     0.006\n",
       "pryntry                            -0.0304      0.040     -0.769      0.453        -0.114     0.053\n",
       "try_public                         -0.0804      0.112     -0.715      0.485        -0.318     0.157\n",
       "try_private                         0.2711      0.116      2.346      0.031         0.027     0.515\n",
       "rd_exp                              0.1654      0.044      3.753      0.002         0.072     0.258\n",
       "researchers_rd_permillionpeople  3.576e-06   7.28e-06      0.491      0.630     -1.18e-05  1.89e-05\n",
       "==============================================================================\n",
       "Omnibus:                        0.946   Durbin-Watson:                   1.346\n",
       "Prob(Omnibus):                  0.623   Jarque-Bera (JB):                0.629\n",
       "Skew:                           0.374   Prob(JB):                        0.730\n",
       "Kurtosis:                       2.852   Cond. No.                     1.08e+05\n",
       "==============================================================================\n",
       "\n",
       "Warnings:\n",
       "[1] Standard Errors assume that the covariance matrix of the errors is correctly specified.\n",
       "[2] The condition number is large, 1.08e+05. This might indicate that there are\n",
       "strong multicollinearity or other numerical problems.\n",
       "\"\"\""
      ]
     },
     "execution_count": 13,
     "metadata": {},
     "output_type": "execute_result"
    }
   ],
   "source": [
    "lm_residentpatent_unrestricted = smf.ols(formula='patent_res_per100people ~ pisa_read + pisa_math + pisa_science + pryntry + try_public + try_private + rd_exp + researchers_rd_permillionpeople', data=df).fit()\n",
    "lm_residentpatent_unrestricted.summary()"
   ]
  },
  {
   "cell_type": "code",
   "execution_count": 14,
   "metadata": {
    "collapsed": false
   },
   "outputs": [
    {
     "data": {
      "text/plain": [
       "(0.51157780379266493, 0.79140691116826367, 6.0)"
      ]
     },
     "execution_count": 14,
     "metadata": {},
     "output_type": "execute_result"
    }
   ],
   "source": [
    "lm_residentpatent_restricted = smf.ols(formula='patent_res_per100people ~ try_private + rd_exp', data=df).fit()\n",
    "lm_residentpatent_unrestricted.compare_f_test(lm_residentpatent_restricted)"
   ]
  },
  {
   "cell_type": "code",
   "execution_count": 15,
   "metadata": {
    "collapsed": false
   },
   "outputs": [
    {
     "data": {
      "text/html": [
       "<table class=\"simpletable\">\n",
       "<caption>OLS Regression Results</caption>\n",
       "<tr>\n",
       "  <th>Dep. Variable:</th>    <td>patent_res_per100people</td> <th>  R-squared:         </th> <td>   0.593</td>\n",
       "</tr>\n",
       "<tr>\n",
       "  <th>Model:</th>                      <td>OLS</td>           <th>  Adj. R-squared:    </th> <td>   0.558</td>\n",
       "</tr>\n",
       "<tr>\n",
       "  <th>Method:</th>                <td>Least Squares</td>      <th>  F-statistic:       </th> <td>   16.77</td>\n",
       "</tr>\n",
       "<tr>\n",
       "  <th>Date:</th>                <td>Fri, 14 Apr 2017</td>     <th>  Prob (F-statistic):</th> <td>3.22e-05</td>\n",
       "</tr>\n",
       "<tr>\n",
       "  <th>Time:</th>                    <td>21:38:22</td>         <th>  Log-Likelihood:    </th> <td>  20.641</td>\n",
       "</tr>\n",
       "<tr>\n",
       "  <th>No. Observations:</th>         <td>    26</td>          <th>  AIC:               </th> <td>  -35.28</td>\n",
       "</tr>\n",
       "<tr>\n",
       "  <th>Df Residuals:</th>             <td>    23</td>          <th>  BIC:               </th> <td>  -31.51</td>\n",
       "</tr>\n",
       "<tr>\n",
       "  <th>Df Model:</th>                 <td>     2</td>          <th>                     </th>     <td> </td>   \n",
       "</tr>\n",
       "<tr>\n",
       "  <th>Covariance Type:</th>         <td>nonrobust</td>        <th>                     </th>     <td> </td>   \n",
       "</tr>\n",
       "</table>\n",
       "<table class=\"simpletable\">\n",
       "<tr>\n",
       "       <td></td>          <th>coef</th>     <th>std err</th>      <th>t</th>      <th>P>|t|</th> <th>[95.0% Conf. Int.]</th> \n",
       "</tr>\n",
       "<tr>\n",
       "  <th>Intercept</th>   <td>   -0.1913</td> <td>    0.065</td> <td>   -2.944</td> <td> 0.007</td> <td>   -0.326    -0.057</td>\n",
       "</tr>\n",
       "<tr>\n",
       "  <th>try_private</th> <td>    0.2518</td> <td>    0.060</td> <td>    4.184</td> <td> 0.000</td> <td>    0.127     0.376</td>\n",
       "</tr>\n",
       "<tr>\n",
       "  <th>rd_exp</th>      <td>    0.1441</td> <td>    0.028</td> <td>    5.104</td> <td> 0.000</td> <td>    0.086     0.202</td>\n",
       "</tr>\n",
       "</table>\n",
       "<table class=\"simpletable\">\n",
       "<tr>\n",
       "  <th>Omnibus:</th>       <td> 3.717</td> <th>  Durbin-Watson:     </th> <td>   1.173</td>\n",
       "</tr>\n",
       "<tr>\n",
       "  <th>Prob(Omnibus):</th> <td> 0.156</td> <th>  Jarque-Bera (JB):  </th> <td>   2.381</td>\n",
       "</tr>\n",
       "<tr>\n",
       "  <th>Skew:</th>          <td> 0.724</td> <th>  Prob(JB):          </th> <td>   0.304</td>\n",
       "</tr>\n",
       "<tr>\n",
       "  <th>Kurtosis:</th>      <td> 3.313</td> <th>  Cond. No.          </th> <td>    7.70</td>\n",
       "</tr>\n",
       "</table>"
      ],
      "text/plain": [
       "<class 'statsmodels.iolib.summary.Summary'>\n",
       "\"\"\"\n",
       "                               OLS Regression Results                              \n",
       "===================================================================================\n",
       "Dep. Variable:     patent_res_per100people   R-squared:                       0.593\n",
       "Model:                                 OLS   Adj. R-squared:                  0.558\n",
       "Method:                      Least Squares   F-statistic:                     16.77\n",
       "Date:                     Fri, 14 Apr 2017   Prob (F-statistic):           3.22e-05\n",
       "Time:                             21:38:22   Log-Likelihood:                 20.641\n",
       "No. Observations:                       26   AIC:                            -35.28\n",
       "Df Residuals:                           23   BIC:                            -31.51\n",
       "Df Model:                                2                                         \n",
       "Covariance Type:                 nonrobust                                         \n",
       "===============================================================================\n",
       "                  coef    std err          t      P>|t|      [95.0% Conf. Int.]\n",
       "-------------------------------------------------------------------------------\n",
       "Intercept      -0.1913      0.065     -2.944      0.007        -0.326    -0.057\n",
       "try_private     0.2518      0.060      4.184      0.000         0.127     0.376\n",
       "rd_exp          0.1441      0.028      5.104      0.000         0.086     0.202\n",
       "==============================================================================\n",
       "Omnibus:                        3.717   Durbin-Watson:                   1.173\n",
       "Prob(Omnibus):                  0.156   Jarque-Bera (JB):                2.381\n",
       "Skew:                           0.724   Prob(JB):                        0.304\n",
       "Kurtosis:                       3.313   Cond. No.                         7.70\n",
       "==============================================================================\n",
       "\n",
       "Warnings:\n",
       "[1] Standard Errors assume that the covariance matrix of the errors is correctly specified.\n",
       "\"\"\""
      ]
     },
     "execution_count": 15,
     "metadata": {},
     "output_type": "execute_result"
    }
   ],
   "source": [
    "lm_residentpatent = lm_residentpatent_restricted\n",
    "lm_residentpatent.summary()"
   ]
  },
  {
   "cell_type": "markdown",
   "metadata": {},
   "source": [
    "COMMENT:\n",
    "\n",
    "When I perform a f-test on unrestricted and restricted regressions on patent_res_per100people, I see that all random variables except try_private and rd_exp are jointly non-significant. Therefore, I took the restricted regression."
   ]
  },
  {
   "cell_type": "markdown",
   "metadata": {},
   "source": [
    "Regressions on patent_nres_per100people"
   ]
  },
  {
   "cell_type": "code",
   "execution_count": 16,
   "metadata": {
    "collapsed": false
   },
   "outputs": [
    {
     "data": {
      "text/html": [
       "<table class=\"simpletable\">\n",
       "<caption>OLS Regression Results</caption>\n",
       "<tr>\n",
       "  <th>Dep. Variable:</th>    <td>patent_nres_per100people</td> <th>  R-squared:         </th> <td>   0.715</td>\n",
       "</tr>\n",
       "<tr>\n",
       "  <th>Model:</th>                       <td>OLS</td>           <th>  Adj. R-squared:    </th> <td>   0.581</td>\n",
       "</tr>\n",
       "<tr>\n",
       "  <th>Method:</th>                 <td>Least Squares</td>      <th>  F-statistic:       </th> <td>   5.329</td>\n",
       "</tr>\n",
       "<tr>\n",
       "  <th>Date:</th>                 <td>Fri, 14 Apr 2017</td>     <th>  Prob (F-statistic):</th>  <td>0.00185</td>\n",
       "</tr>\n",
       "<tr>\n",
       "  <th>Time:</th>                     <td>21:38:23</td>         <th>  Log-Likelihood:    </th> <td>  25.242</td>\n",
       "</tr>\n",
       "<tr>\n",
       "  <th>No. Observations:</th>          <td>    26</td>          <th>  AIC:               </th> <td>  -32.48</td>\n",
       "</tr>\n",
       "<tr>\n",
       "  <th>Df Residuals:</th>              <td>    17</td>          <th>  BIC:               </th> <td>  -21.16</td>\n",
       "</tr>\n",
       "<tr>\n",
       "  <th>Df Model:</th>                  <td>     8</td>          <th>                     </th>     <td> </td>   \n",
       "</tr>\n",
       "<tr>\n",
       "  <th>Covariance Type:</th>          <td>nonrobust</td>        <th>                     </th>     <td> </td>   \n",
       "</tr>\n",
       "</table>\n",
       "<table class=\"simpletable\">\n",
       "<tr>\n",
       "                 <td></td>                    <th>coef</th>     <th>std err</th>      <th>t</th>      <th>P>|t|</th> <th>[95.0% Conf. Int.]</th> \n",
       "</tr>\n",
       "<tr>\n",
       "  <th>Intercept</th>                       <td>   -0.5675</td> <td>    0.583</td> <td>   -0.973</td> <td> 0.344</td> <td>   -1.799     0.664</td>\n",
       "</tr>\n",
       "<tr>\n",
       "  <th>pisa_read</th>                       <td>    0.0029</td> <td>    0.003</td> <td>    0.905</td> <td> 0.378</td> <td>   -0.004     0.009</td>\n",
       "</tr>\n",
       "<tr>\n",
       "  <th>pisa_math</th>                       <td>    0.0019</td> <td>    0.003</td> <td>    0.571</td> <td> 0.576</td> <td>   -0.005     0.009</td>\n",
       "</tr>\n",
       "<tr>\n",
       "  <th>pisa_science</th>                    <td>   -0.0039</td> <td>    0.004</td> <td>   -0.983</td> <td> 0.339</td> <td>   -0.012     0.004</td>\n",
       "</tr>\n",
       "<tr>\n",
       "  <th>pryntry</th>                         <td>   -0.0317</td> <td>    0.036</td> <td>   -0.881</td> <td> 0.390</td> <td>   -0.108     0.044</td>\n",
       "</tr>\n",
       "<tr>\n",
       "  <th>try_public</th>                      <td>   -0.0414</td> <td>    0.102</td> <td>   -0.404</td> <td> 0.691</td> <td>   -0.257     0.175</td>\n",
       "</tr>\n",
       "<tr>\n",
       "  <th>try_private</th>                     <td>    0.4178</td> <td>    0.105</td> <td>    3.972</td> <td> 0.001</td> <td>    0.196     0.640</td>\n",
       "</tr>\n",
       "<tr>\n",
       "  <th>rd_exp</th>                          <td>    0.1045</td> <td>    0.040</td> <td>    2.603</td> <td> 0.019</td> <td>    0.020     0.189</td>\n",
       "</tr>\n",
       "<tr>\n",
       "  <th>researchers_rd_permillionpeople</th> <td> 7.923e-06</td> <td> 6.63e-06</td> <td>    1.195</td> <td> 0.248</td> <td>-6.06e-06  2.19e-05</td>\n",
       "</tr>\n",
       "</table>\n",
       "<table class=\"simpletable\">\n",
       "<tr>\n",
       "  <th>Omnibus:</th>       <td> 7.001</td> <th>  Durbin-Watson:     </th> <td>   1.630</td>\n",
       "</tr>\n",
       "<tr>\n",
       "  <th>Prob(Omnibus):</th> <td> 0.030</td> <th>  Jarque-Bera (JB):  </th> <td>   4.984</td>\n",
       "</tr>\n",
       "<tr>\n",
       "  <th>Skew:</th>          <td> 0.954</td> <th>  Prob(JB):          </th> <td>  0.0828</td>\n",
       "</tr>\n",
       "<tr>\n",
       "  <th>Kurtosis:</th>      <td> 3.979</td> <th>  Cond. No.          </th> <td>1.08e+05</td>\n",
       "</tr>\n",
       "</table>"
      ],
      "text/plain": [
       "<class 'statsmodels.iolib.summary.Summary'>\n",
       "\"\"\"\n",
       "                               OLS Regression Results                               \n",
       "====================================================================================\n",
       "Dep. Variable:     patent_nres_per100people   R-squared:                       0.715\n",
       "Model:                                  OLS   Adj. R-squared:                  0.581\n",
       "Method:                       Least Squares   F-statistic:                     5.329\n",
       "Date:                      Fri, 14 Apr 2017   Prob (F-statistic):            0.00185\n",
       "Time:                              21:38:23   Log-Likelihood:                 25.242\n",
       "No. Observations:                        26   AIC:                            -32.48\n",
       "Df Residuals:                            17   BIC:                            -21.16\n",
       "Df Model:                                 8                                         \n",
       "Covariance Type:                  nonrobust                                         \n",
       "===================================================================================================\n",
       "                                      coef    std err          t      P>|t|      [95.0% Conf. Int.]\n",
       "---------------------------------------------------------------------------------------------------\n",
       "Intercept                          -0.5675      0.583     -0.973      0.344        -1.799     0.664\n",
       "pisa_read                           0.0029      0.003      0.905      0.378        -0.004     0.009\n",
       "pisa_math                           0.0019      0.003      0.571      0.576        -0.005     0.009\n",
       "pisa_science                       -0.0039      0.004     -0.983      0.339        -0.012     0.004\n",
       "pryntry                            -0.0317      0.036     -0.881      0.390        -0.108     0.044\n",
       "try_public                         -0.0414      0.102     -0.404      0.691        -0.257     0.175\n",
       "try_private                         0.4178      0.105      3.972      0.001         0.196     0.640\n",
       "rd_exp                              0.1045      0.040      2.603      0.019         0.020     0.189\n",
       "researchers_rd_permillionpeople  7.923e-06   6.63e-06      1.195      0.248     -6.06e-06  2.19e-05\n",
       "==============================================================================\n",
       "Omnibus:                        7.001   Durbin-Watson:                   1.630\n",
       "Prob(Omnibus):                  0.030   Jarque-Bera (JB):                4.984\n",
       "Skew:                           0.954   Prob(JB):                       0.0828\n",
       "Kurtosis:                       3.979   Cond. No.                     1.08e+05\n",
       "==============================================================================\n",
       "\n",
       "Warnings:\n",
       "[1] Standard Errors assume that the covariance matrix of the errors is correctly specified.\n",
       "[2] The condition number is large, 1.08e+05. This might indicate that there are\n",
       "strong multicollinearity or other numerical problems.\n",
       "\"\"\""
      ]
     },
     "execution_count": 16,
     "metadata": {},
     "output_type": "execute_result"
    }
   ],
   "source": [
    "lm_nonresidentpatent_unrestricted = smf.ols(formula='patent_nres_per100people ~ pisa_read + pisa_math + pisa_science + pryntry + try_public + try_private + rd_exp + researchers_rd_permillionpeople', data=df).fit()\n",
    "lm_nonresidentpatent_unrestricted.summary()"
   ]
  },
  {
   "cell_type": "code",
   "execution_count": 17,
   "metadata": {
    "collapsed": false
   },
   "outputs": [
    {
     "data": {
      "text/plain": [
       "(0.81993054578322533, 0.56964004401047452, 6.0)"
      ]
     },
     "execution_count": 17,
     "metadata": {},
     "output_type": "execute_result"
    }
   ],
   "source": [
    "lm_nonresidentpatent_restricted = smf.ols(formula='patent_nres_per100people ~ try_private + rd_exp', data=df).fit()\n",
    "lm_nonresidentpatent_unrestricted.compare_f_test(lm_nonresidentpatent_restricted)"
   ]
  },
  {
   "cell_type": "code",
   "execution_count": 18,
   "metadata": {
    "collapsed": false
   },
   "outputs": [
    {
     "data": {
      "text/html": [
       "<table class=\"simpletable\">\n",
       "<caption>OLS Regression Results</caption>\n",
       "<tr>\n",
       "  <th>Dep. Variable:</th>    <td>patent_nres_per100people</td> <th>  R-squared:         </th> <td>   0.632</td>\n",
       "</tr>\n",
       "<tr>\n",
       "  <th>Model:</th>                       <td>OLS</td>           <th>  Adj. R-squared:    </th> <td>   0.600</td>\n",
       "</tr>\n",
       "<tr>\n",
       "  <th>Method:</th>                 <td>Least Squares</td>      <th>  F-statistic:       </th> <td>   19.79</td>\n",
       "</tr>\n",
       "<tr>\n",
       "  <th>Date:</th>                 <td>Fri, 14 Apr 2017</td>     <th>  Prob (F-statistic):</th> <td>1.00e-05</td>\n",
       "</tr>\n",
       "<tr>\n",
       "  <th>Time:</th>                     <td>21:38:24</td>         <th>  Log-Likelihood:    </th> <td>  21.938</td>\n",
       "</tr>\n",
       "<tr>\n",
       "  <th>No. Observations:</th>          <td>    26</td>          <th>  AIC:               </th> <td>  -37.88</td>\n",
       "</tr>\n",
       "<tr>\n",
       "  <th>Df Residuals:</th>              <td>    23</td>          <th>  BIC:               </th> <td>  -34.10</td>\n",
       "</tr>\n",
       "<tr>\n",
       "  <th>Df Model:</th>                  <td>     2</td>          <th>                     </th>     <td> </td>   \n",
       "</tr>\n",
       "<tr>\n",
       "  <th>Covariance Type:</th>          <td>nonrobust</td>        <th>                     </th>     <td> </td>   \n",
       "</tr>\n",
       "</table>\n",
       "<table class=\"simpletable\">\n",
       "<tr>\n",
       "       <td></td>          <th>coef</th>     <th>std err</th>      <th>t</th>      <th>P>|t|</th> <th>[95.0% Conf. Int.]</th> \n",
       "</tr>\n",
       "<tr>\n",
       "  <th>Intercept</th>   <td>   -0.2328</td> <td>    0.062</td> <td>   -3.766</td> <td> 0.001</td> <td>   -0.361    -0.105</td>\n",
       "</tr>\n",
       "<tr>\n",
       "  <th>try_private</th> <td>    0.3485</td> <td>    0.057</td> <td>    6.087</td> <td> 0.000</td> <td>    0.230     0.467</td>\n",
       "</tr>\n",
       "<tr>\n",
       "  <th>rd_exp</th>      <td>    0.0912</td> <td>    0.027</td> <td>    3.397</td> <td> 0.002</td> <td>    0.036     0.147</td>\n",
       "</tr>\n",
       "</table>\n",
       "<table class=\"simpletable\">\n",
       "<tr>\n",
       "  <th>Omnibus:</th>       <td> 9.820</td> <th>  Durbin-Watson:     </th> <td>   1.380</td>\n",
       "</tr>\n",
       "<tr>\n",
       "  <th>Prob(Omnibus):</th> <td> 0.007</td> <th>  Jarque-Bera (JB):  </th> <td>   7.959</td>\n",
       "</tr>\n",
       "<tr>\n",
       "  <th>Skew:</th>          <td> 1.199</td> <th>  Prob(JB):          </th> <td>  0.0187</td>\n",
       "</tr>\n",
       "<tr>\n",
       "  <th>Kurtosis:</th>      <td> 4.264</td> <th>  Cond. No.          </th> <td>    7.70</td>\n",
       "</tr>\n",
       "</table>"
      ],
      "text/plain": [
       "<class 'statsmodels.iolib.summary.Summary'>\n",
       "\"\"\"\n",
       "                               OLS Regression Results                               \n",
       "====================================================================================\n",
       "Dep. Variable:     patent_nres_per100people   R-squared:                       0.632\n",
       "Model:                                  OLS   Adj. R-squared:                  0.600\n",
       "Method:                       Least Squares   F-statistic:                     19.79\n",
       "Date:                      Fri, 14 Apr 2017   Prob (F-statistic):           1.00e-05\n",
       "Time:                              21:38:24   Log-Likelihood:                 21.938\n",
       "No. Observations:                        26   AIC:                            -37.88\n",
       "Df Residuals:                            23   BIC:                            -34.10\n",
       "Df Model:                                 2                                         \n",
       "Covariance Type:                  nonrobust                                         \n",
       "===============================================================================\n",
       "                  coef    std err          t      P>|t|      [95.0% Conf. Int.]\n",
       "-------------------------------------------------------------------------------\n",
       "Intercept      -0.2328      0.062     -3.766      0.001        -0.361    -0.105\n",
       "try_private     0.3485      0.057      6.087      0.000         0.230     0.467\n",
       "rd_exp          0.0912      0.027      3.397      0.002         0.036     0.147\n",
       "==============================================================================\n",
       "Omnibus:                        9.820   Durbin-Watson:                   1.380\n",
       "Prob(Omnibus):                  0.007   Jarque-Bera (JB):                7.959\n",
       "Skew:                           1.199   Prob(JB):                       0.0187\n",
       "Kurtosis:                       4.264   Cond. No.                         7.70\n",
       "==============================================================================\n",
       "\n",
       "Warnings:\n",
       "[1] Standard Errors assume that the covariance matrix of the errors is correctly specified.\n",
       "\"\"\""
      ]
     },
     "execution_count": 18,
     "metadata": {},
     "output_type": "execute_result"
    }
   ],
   "source": [
    "lm_nonresidentpatent = lm_nonresidentpatent_restricted\n",
    "lm_nonresidentpatent.summary()"
   ]
  },
  {
   "cell_type": "markdown",
   "metadata": {},
   "source": [
    "COMMENT:\n",
    "\n",
    "When I perform a f-test on unrestricted and restricted regressions on patent_nres_per100people, I see that all random variables except try_private and rd_exp are jointly non-significant. Therefore, I took the restricted regression."
   ]
  },
  {
   "cell_type": "markdown",
   "metadata": {},
   "source": [
    "Regressions on gdp_percapita_dividedby1000"
   ]
  },
  {
   "cell_type": "code",
   "execution_count": 19,
   "metadata": {
    "collapsed": false
   },
   "outputs": [
    {
     "data": {
      "text/html": [
       "<table class=\"simpletable\">\n",
       "<caption>OLS Regression Results</caption>\n",
       "<tr>\n",
       "  <th>Dep. Variable:</th>    <td>gdp_percapita_dividedby1000</td> <th>  R-squared:         </th> <td>   0.677</td>\n",
       "</tr>\n",
       "<tr>\n",
       "  <th>Model:</th>                        <td>OLS</td>             <th>  Adj. R-squared:    </th> <td>   0.423</td>\n",
       "</tr>\n",
       "<tr>\n",
       "  <th>Method:</th>                  <td>Least Squares</td>        <th>  F-statistic:       </th> <td>   2.663</td>\n",
       "</tr>\n",
       "<tr>\n",
       "  <th>Date:</th>                  <td>Fri, 14 Apr 2017</td>       <th>  Prob (F-statistic):</th>  <td>0.0438</td> \n",
       "</tr>\n",
       "<tr>\n",
       "  <th>Time:</th>                      <td>21:38:25</td>           <th>  Log-Likelihood:    </th> <td> -107.13</td>\n",
       "</tr>\n",
       "<tr>\n",
       "  <th>No. Observations:</th>           <td>    26</td>            <th>  AIC:               </th> <td>   238.3</td>\n",
       "</tr>\n",
       "<tr>\n",
       "  <th>Df Residuals:</th>               <td>    14</td>            <th>  BIC:               </th> <td>   253.4</td>\n",
       "</tr>\n",
       "<tr>\n",
       "  <th>Df Model:</th>                   <td>    11</td>            <th>                     </th>     <td> </td>   \n",
       "</tr>\n",
       "<tr>\n",
       "  <th>Covariance Type:</th>           <td>nonrobust</td>          <th>                     </th>     <td> </td>   \n",
       "</tr>\n",
       "</table>\n",
       "<table class=\"simpletable\">\n",
       "<tr>\n",
       "                 <td></td>                    <th>coef</th>     <th>std err</th>      <th>t</th>      <th>P>|t|</th> <th>[95.0% Conf. Int.]</th> \n",
       "</tr>\n",
       "<tr>\n",
       "  <th>Intercept</th>                       <td>   93.0838</td> <td>  115.171</td> <td>    0.808</td> <td> 0.432</td> <td> -153.934   340.101</td>\n",
       "</tr>\n",
       "<tr>\n",
       "  <th>pisa_read</th>                       <td>    0.5019</td> <td>    0.582</td> <td>    0.863</td> <td> 0.403</td> <td>   -0.746     1.749</td>\n",
       "</tr>\n",
       "<tr>\n",
       "  <th>pisa_math</th>                       <td>   -0.8542</td> <td>    0.662</td> <td>   -1.290</td> <td> 0.218</td> <td>   -2.275     0.566</td>\n",
       "</tr>\n",
       "<tr>\n",
       "  <th>pisa_science</th>                    <td>    0.2549</td> <td>    0.764</td> <td>    0.334</td> <td> 0.744</td> <td>   -1.384     1.894</td>\n",
       "</tr>\n",
       "<tr>\n",
       "  <th>pryntry</th>                         <td>    9.8251</td> <td>    6.756</td> <td>    1.454</td> <td> 0.168</td> <td>   -4.666    24.316</td>\n",
       "</tr>\n",
       "<tr>\n",
       "  <th>try_public</th>                      <td>  -30.7790</td> <td>   18.813</td> <td>   -1.636</td> <td> 0.124</td> <td>  -71.129     9.571</td>\n",
       "</tr>\n",
       "<tr>\n",
       "  <th>try_private</th>                     <td>  -83.3863</td> <td>   30.891</td> <td>   -2.699</td> <td> 0.017</td> <td> -149.641   -17.132</td>\n",
       "</tr>\n",
       "<tr>\n",
       "  <th>rd_exp</th>                          <td>    7.4613</td> <td>   10.330</td> <td>    0.722</td> <td> 0.482</td> <td>  -14.695    29.618</td>\n",
       "</tr>\n",
       "<tr>\n",
       "  <th>researchers_rd_permillionpeople</th> <td>    0.0001</td> <td>    0.001</td> <td>    0.080</td> <td> 0.937</td> <td>   -0.003     0.003</td>\n",
       "</tr>\n",
       "<tr>\n",
       "  <th>high_tech_exports</th>               <td>    0.6059</td> <td>    0.834</td> <td>    0.727</td> <td> 0.479</td> <td>   -1.183     2.394</td>\n",
       "</tr>\n",
       "<tr>\n",
       "  <th>patent_res_per100people</th>         <td>  -32.7776</td> <td>   96.553</td> <td>   -0.339</td> <td> 0.739</td> <td> -239.864   174.308</td>\n",
       "</tr>\n",
       "<tr>\n",
       "  <th>patent_nres_per100people</th>        <td>  143.1925</td> <td>  105.997</td> <td>    1.351</td> <td> 0.198</td> <td>  -84.149   370.534</td>\n",
       "</tr>\n",
       "</table>\n",
       "<table class=\"simpletable\">\n",
       "<tr>\n",
       "  <th>Omnibus:</th>       <td> 6.013</td> <th>  Durbin-Watson:     </th> <td>   2.011</td>\n",
       "</tr>\n",
       "<tr>\n",
       "  <th>Prob(Omnibus):</th> <td> 0.049</td> <th>  Jarque-Bera (JB):  </th> <td>   4.887</td>\n",
       "</tr>\n",
       "<tr>\n",
       "  <th>Skew:</th>          <td> 1.061</td> <th>  Prob(JB):          </th> <td>  0.0869</td>\n",
       "</tr>\n",
       "<tr>\n",
       "  <th>Kurtosis:</th>      <td> 3.100</td> <th>  Cond. No.          </th> <td>1.51e+05</td>\n",
       "</tr>\n",
       "</table>"
      ],
      "text/plain": [
       "<class 'statsmodels.iolib.summary.Summary'>\n",
       "\"\"\"\n",
       "                                 OLS Regression Results                                \n",
       "=======================================================================================\n",
       "Dep. Variable:     gdp_percapita_dividedby1000   R-squared:                       0.677\n",
       "Model:                                     OLS   Adj. R-squared:                  0.423\n",
       "Method:                          Least Squares   F-statistic:                     2.663\n",
       "Date:                         Fri, 14 Apr 2017   Prob (F-statistic):             0.0438\n",
       "Time:                                 21:38:25   Log-Likelihood:                -107.13\n",
       "No. Observations:                           26   AIC:                             238.3\n",
       "Df Residuals:                               14   BIC:                             253.4\n",
       "Df Model:                                   11                                         \n",
       "Covariance Type:                     nonrobust                                         \n",
       "===================================================================================================\n",
       "                                      coef    std err          t      P>|t|      [95.0% Conf. Int.]\n",
       "---------------------------------------------------------------------------------------------------\n",
       "Intercept                          93.0838    115.171      0.808      0.432      -153.934   340.101\n",
       "pisa_read                           0.5019      0.582      0.863      0.403        -0.746     1.749\n",
       "pisa_math                          -0.8542      0.662     -1.290      0.218        -2.275     0.566\n",
       "pisa_science                        0.2549      0.764      0.334      0.744        -1.384     1.894\n",
       "pryntry                             9.8251      6.756      1.454      0.168        -4.666    24.316\n",
       "try_public                        -30.7790     18.813     -1.636      0.124       -71.129     9.571\n",
       "try_private                       -83.3863     30.891     -2.699      0.017      -149.641   -17.132\n",
       "rd_exp                              7.4613     10.330      0.722      0.482       -14.695    29.618\n",
       "researchers_rd_permillionpeople     0.0001      0.001      0.080      0.937        -0.003     0.003\n",
       "high_tech_exports                   0.6059      0.834      0.727      0.479        -1.183     2.394\n",
       "patent_res_per100people           -32.7776     96.553     -0.339      0.739      -239.864   174.308\n",
       "patent_nres_per100people          143.1925    105.997      1.351      0.198       -84.149   370.534\n",
       "==============================================================================\n",
       "Omnibus:                        6.013   Durbin-Watson:                   2.011\n",
       "Prob(Omnibus):                  0.049   Jarque-Bera (JB):                4.887\n",
       "Skew:                           1.061   Prob(JB):                       0.0869\n",
       "Kurtosis:                       3.100   Cond. No.                     1.51e+05\n",
       "==============================================================================\n",
       "\n",
       "Warnings:\n",
       "[1] Standard Errors assume that the covariance matrix of the errors is correctly specified.\n",
       "[2] The condition number is large, 1.51e+05. This might indicate that there are\n",
       "strong multicollinearity or other numerical problems.\n",
       "\"\"\""
      ]
     },
     "execution_count": 19,
     "metadata": {},
     "output_type": "execute_result"
    }
   ],
   "source": [
    "lm_gdppercapita_unrestricted = smf.ols(formula='gdp_percapita_dividedby1000 ~ pisa_read + pisa_math + pisa_science + pryntry + try_public + try_private + rd_exp + researchers_rd_permillionpeople + high_tech_exports + patent_res_per100people + patent_nres_per100people', data=df).fit()\n",
    "lm_gdppercapita_unrestricted.summary()"
   ]
  },
  {
   "cell_type": "code",
   "execution_count": 20,
   "metadata": {
    "collapsed": false
   },
   "outputs": [
    {
     "data": {
      "text/plain": [
       "(0.42890054343446621, 0.84768696598600946, 6.0)"
      ]
     },
     "execution_count": 20,
     "metadata": {},
     "output_type": "execute_result"
    }
   ],
   "source": [
    "lm_gdppercapita_restricted1 = smf.ols(formula='gdp_percapita_dividedby1000 ~ pisa_math + pryntry + try_public + try_private + patent_nres_per100people', data=df).fit()\n",
    "lm_gdppercapita_unrestricted.compare_f_test(lm_gdppercapita_restricted1)"
   ]
  },
  {
   "cell_type": "code",
   "execution_count": 21,
   "metadata": {
    "collapsed": false
   },
   "outputs": [
    {
     "data": {
      "text/html": [
       "<table class=\"simpletable\">\n",
       "<caption>OLS Regression Results</caption>\n",
       "<tr>\n",
       "  <th>Dep. Variable:</th>    <td>gdp_percapita_dividedby1000</td> <th>  R-squared:         </th> <td>   0.617</td>\n",
       "</tr>\n",
       "<tr>\n",
       "  <th>Model:</th>                        <td>OLS</td>             <th>  Adj. R-squared:    </th> <td>   0.521</td>\n",
       "</tr>\n",
       "<tr>\n",
       "  <th>Method:</th>                  <td>Least Squares</td>        <th>  F-statistic:       </th> <td>   6.449</td>\n",
       "</tr>\n",
       "<tr>\n",
       "  <th>Date:</th>                  <td>Fri, 14 Apr 2017</td>       <th>  Prob (F-statistic):</th>  <td>0.00101</td>\n",
       "</tr>\n",
       "<tr>\n",
       "  <th>Time:</th>                      <td>21:38:26</td>           <th>  Log-Likelihood:    </th> <td> -109.32</td>\n",
       "</tr>\n",
       "<tr>\n",
       "  <th>No. Observations:</th>           <td>    26</td>            <th>  AIC:               </th> <td>   230.6</td>\n",
       "</tr>\n",
       "<tr>\n",
       "  <th>Df Residuals:</th>               <td>    20</td>            <th>  BIC:               </th> <td>   238.2</td>\n",
       "</tr>\n",
       "<tr>\n",
       "  <th>Df Model:</th>                   <td>     5</td>            <th>                     </th>     <td> </td>   \n",
       "</tr>\n",
       "<tr>\n",
       "  <th>Covariance Type:</th>           <td>nonrobust</td>          <th>                     </th>     <td> </td>   \n",
       "</tr>\n",
       "</table>\n",
       "<table class=\"simpletable\">\n",
       "<tr>\n",
       "              <td></td>                <th>coef</th>     <th>std err</th>      <th>t</th>      <th>P>|t|</th> <th>[95.0% Conf. Int.]</th> \n",
       "</tr>\n",
       "<tr>\n",
       "  <th>Intercept</th>                <td>   55.4855</td> <td>   85.085</td> <td>    0.652</td> <td> 0.522</td> <td> -121.998   232.969</td>\n",
       "</tr>\n",
       "<tr>\n",
       "  <th>pisa_math</th>                <td>   -0.0527</td> <td>    0.165</td> <td>   -0.319</td> <td> 0.753</td> <td>   -0.397     0.291</td>\n",
       "</tr>\n",
       "<tr>\n",
       "  <th>pryntry</th>                  <td>   13.6579</td> <td>    5.352</td> <td>    2.552</td> <td> 0.019</td> <td>    2.495    24.821</td>\n",
       "</tr>\n",
       "<tr>\n",
       "  <th>try_public</th>               <td>  -18.3085</td> <td>   12.790</td> <td>   -1.432</td> <td> 0.168</td> <td>  -44.987     8.370</td>\n",
       "</tr>\n",
       "<tr>\n",
       "  <th>try_private</th>              <td>  -66.5214</td> <td>   16.885</td> <td>   -3.940</td> <td> 0.001</td> <td> -101.742   -31.300</td>\n",
       "</tr>\n",
       "<tr>\n",
       "  <th>patent_nres_per100people</th> <td>  127.5359</td> <td>   31.332</td> <td>    4.070</td> <td> 0.001</td> <td>   62.179   192.893</td>\n",
       "</tr>\n",
       "</table>\n",
       "<table class=\"simpletable\">\n",
       "<tr>\n",
       "  <th>Omnibus:</th>       <td> 4.479</td> <th>  Durbin-Watson:     </th> <td>   2.203</td>\n",
       "</tr>\n",
       "<tr>\n",
       "  <th>Prob(Omnibus):</th> <td> 0.106</td> <th>  Jarque-Bera (JB):  </th> <td>   3.228</td>\n",
       "</tr>\n",
       "<tr>\n",
       "  <th>Skew:</th>          <td> 0.858</td> <th>  Prob(JB):          </th> <td>   0.199</td>\n",
       "</tr>\n",
       "<tr>\n",
       "  <th>Kurtosis:</th>      <td> 3.185</td> <th>  Cond. No.          </th> <td>1.17e+04</td>\n",
       "</tr>\n",
       "</table>"
      ],
      "text/plain": [
       "<class 'statsmodels.iolib.summary.Summary'>\n",
       "\"\"\"\n",
       "                                 OLS Regression Results                                \n",
       "=======================================================================================\n",
       "Dep. Variable:     gdp_percapita_dividedby1000   R-squared:                       0.617\n",
       "Model:                                     OLS   Adj. R-squared:                  0.521\n",
       "Method:                          Least Squares   F-statistic:                     6.449\n",
       "Date:                         Fri, 14 Apr 2017   Prob (F-statistic):            0.00101\n",
       "Time:                                 21:38:26   Log-Likelihood:                -109.32\n",
       "No. Observations:                           26   AIC:                             230.6\n",
       "Df Residuals:                               20   BIC:                             238.2\n",
       "Df Model:                                    5                                         \n",
       "Covariance Type:                     nonrobust                                         \n",
       "============================================================================================\n",
       "                               coef    std err          t      P>|t|      [95.0% Conf. Int.]\n",
       "--------------------------------------------------------------------------------------------\n",
       "Intercept                   55.4855     85.085      0.652      0.522      -121.998   232.969\n",
       "pisa_math                   -0.0527      0.165     -0.319      0.753        -0.397     0.291\n",
       "pryntry                     13.6579      5.352      2.552      0.019         2.495    24.821\n",
       "try_public                 -18.3085     12.790     -1.432      0.168       -44.987     8.370\n",
       "try_private                -66.5214     16.885     -3.940      0.001      -101.742   -31.300\n",
       "patent_nres_per100people   127.5359     31.332      4.070      0.001        62.179   192.893\n",
       "==============================================================================\n",
       "Omnibus:                        4.479   Durbin-Watson:                   2.203\n",
       "Prob(Omnibus):                  0.106   Jarque-Bera (JB):                3.228\n",
       "Skew:                           0.858   Prob(JB):                        0.199\n",
       "Kurtosis:                       3.185   Cond. No.                     1.17e+04\n",
       "==============================================================================\n",
       "\n",
       "Warnings:\n",
       "[1] Standard Errors assume that the covariance matrix of the errors is correctly specified.\n",
       "[2] The condition number is large, 1.17e+04. This might indicate that there are\n",
       "strong multicollinearity or other numerical problems.\n",
       "\"\"\""
      ]
     },
     "execution_count": 21,
     "metadata": {},
     "output_type": "execute_result"
    }
   ],
   "source": [
    "lm_gdppercapita_restricted1.summary()"
   ]
  },
  {
   "cell_type": "code",
   "execution_count": 22,
   "metadata": {
    "collapsed": false
   },
   "outputs": [
    {
     "data": {
      "text/plain": [
       "(0.10199320566018807, 0.75276248963320858, 1.0)"
      ]
     },
     "execution_count": 22,
     "metadata": {},
     "output_type": "execute_result"
    }
   ],
   "source": [
    "lm_gdppercapita_restricted2 = smf.ols(formula='gdp_percapita_dividedby1000 ~ pryntry + try_public + try_private + patent_nres_per100people', data=df).fit()\n",
    "lm_gdppercapita_restricted1.compare_f_test(lm_gdppercapita_restricted2)"
   ]
  },
  {
   "cell_type": "code",
   "execution_count": 23,
   "metadata": {
    "collapsed": false
   },
   "outputs": [
    {
     "data": {
      "text/html": [
       "<table class=\"simpletable\">\n",
       "<caption>OLS Regression Results</caption>\n",
       "<tr>\n",
       "  <th>Dep. Variable:</th>    <td>gdp_percapita_dividedby1000</td> <th>  R-squared:         </th> <td>   0.615</td>\n",
       "</tr>\n",
       "<tr>\n",
       "  <th>Model:</th>                        <td>OLS</td>             <th>  Adj. R-squared:    </th> <td>   0.542</td>\n",
       "</tr>\n",
       "<tr>\n",
       "  <th>Method:</th>                  <td>Least Squares</td>        <th>  F-statistic:       </th> <td>   8.394</td>\n",
       "</tr>\n",
       "<tr>\n",
       "  <th>Date:</th>                  <td>Fri, 14 Apr 2017</td>       <th>  Prob (F-statistic):</th> <td>0.000329</td>\n",
       "</tr>\n",
       "<tr>\n",
       "  <th>Time:</th>                      <td>21:38:27</td>           <th>  Log-Likelihood:    </th> <td> -109.39</td>\n",
       "</tr>\n",
       "<tr>\n",
       "  <th>No. Observations:</th>           <td>    26</td>            <th>  AIC:               </th> <td>   228.8</td>\n",
       "</tr>\n",
       "<tr>\n",
       "  <th>Df Residuals:</th>               <td>    21</td>            <th>  BIC:               </th> <td>   235.1</td>\n",
       "</tr>\n",
       "<tr>\n",
       "  <th>Df Model:</th>                   <td>     4</td>            <th>                     </th>     <td> </td>   \n",
       "</tr>\n",
       "<tr>\n",
       "  <th>Covariance Type:</th>           <td>nonrobust</td>          <th>                     </th>     <td> </td>   \n",
       "</tr>\n",
       "</table>\n",
       "<table class=\"simpletable\">\n",
       "<tr>\n",
       "              <td></td>                <th>coef</th>     <th>std err</th>      <th>t</th>      <th>P>|t|</th> <th>[95.0% Conf. Int.]</th> \n",
       "</tr>\n",
       "<tr>\n",
       "  <th>Intercept</th>                <td>   29.1306</td> <td>   20.272</td> <td>    1.437</td> <td> 0.165</td> <td>  -13.028    71.289</td>\n",
       "</tr>\n",
       "<tr>\n",
       "  <th>pryntry</th>                  <td>   13.5077</td> <td>    5.216</td> <td>    2.590</td> <td> 0.017</td> <td>    2.661    24.354</td>\n",
       "</tr>\n",
       "<tr>\n",
       "  <th>try_public</th>               <td>  -18.1805</td> <td>   12.507</td> <td>   -1.454</td> <td> 0.161</td> <td>  -44.190     7.829</td>\n",
       "</tr>\n",
       "<tr>\n",
       "  <th>try_private</th>              <td>  -63.0600</td> <td>   12.667</td> <td>   -4.978</td> <td> 0.000</td> <td>  -89.403   -36.717</td>\n",
       "</tr>\n",
       "<tr>\n",
       "  <th>patent_nres_per100people</th> <td>  123.4651</td> <td>   28.003</td> <td>    4.409</td> <td> 0.000</td> <td>   65.229   181.701</td>\n",
       "</tr>\n",
       "</table>\n",
       "<table class=\"simpletable\">\n",
       "<tr>\n",
       "  <th>Omnibus:</th>       <td> 5.434</td> <th>  Durbin-Watson:     </th> <td>   2.184</td>\n",
       "</tr>\n",
       "<tr>\n",
       "  <th>Prob(Omnibus):</th> <td> 0.066</td> <th>  Jarque-Bera (JB):  </th> <td>   3.913</td>\n",
       "</tr>\n",
       "<tr>\n",
       "  <th>Skew:</th>          <td> 0.932</td> <th>  Prob(JB):          </th> <td>   0.141</td>\n",
       "</tr>\n",
       "<tr>\n",
       "  <th>Kurtosis:</th>      <td> 3.372</td> <th>  Cond. No.          </th> <td>    33.6</td>\n",
       "</tr>\n",
       "</table>"
      ],
      "text/plain": [
       "<class 'statsmodels.iolib.summary.Summary'>\n",
       "\"\"\"\n",
       "                                 OLS Regression Results                                \n",
       "=======================================================================================\n",
       "Dep. Variable:     gdp_percapita_dividedby1000   R-squared:                       0.615\n",
       "Model:                                     OLS   Adj. R-squared:                  0.542\n",
       "Method:                          Least Squares   F-statistic:                     8.394\n",
       "Date:                         Fri, 14 Apr 2017   Prob (F-statistic):           0.000329\n",
       "Time:                                 21:38:27   Log-Likelihood:                -109.39\n",
       "No. Observations:                           26   AIC:                             228.8\n",
       "Df Residuals:                               21   BIC:                             235.1\n",
       "Df Model:                                    4                                         \n",
       "Covariance Type:                     nonrobust                                         \n",
       "============================================================================================\n",
       "                               coef    std err          t      P>|t|      [95.0% Conf. Int.]\n",
       "--------------------------------------------------------------------------------------------\n",
       "Intercept                   29.1306     20.272      1.437      0.165       -13.028    71.289\n",
       "pryntry                     13.5077      5.216      2.590      0.017         2.661    24.354\n",
       "try_public                 -18.1805     12.507     -1.454      0.161       -44.190     7.829\n",
       "try_private                -63.0600     12.667     -4.978      0.000       -89.403   -36.717\n",
       "patent_nres_per100people   123.4651     28.003      4.409      0.000        65.229   181.701\n",
       "==============================================================================\n",
       "Omnibus:                        5.434   Durbin-Watson:                   2.184\n",
       "Prob(Omnibus):                  0.066   Jarque-Bera (JB):                3.913\n",
       "Skew:                           0.932   Prob(JB):                        0.141\n",
       "Kurtosis:                       3.372   Cond. No.                         33.6\n",
       "==============================================================================\n",
       "\n",
       "Warnings:\n",
       "[1] Standard Errors assume that the covariance matrix of the errors is correctly specified.\n",
       "\"\"\""
      ]
     },
     "execution_count": 23,
     "metadata": {},
     "output_type": "execute_result"
    }
   ],
   "source": [
    "lm_gdppercapita_restricted2.summary()"
   ]
  },
  {
   "cell_type": "code",
   "execution_count": 24,
   "metadata": {
    "collapsed": false
   },
   "outputs": [
    {
     "data": {
      "text/plain": [
       "(2.1130441825146362, 0.16083074365766734, 1.0)"
      ]
     },
     "execution_count": 24,
     "metadata": {},
     "output_type": "execute_result"
    }
   ],
   "source": [
    "lm_gdppercapita_restricted3 = smf.ols(formula='gdp_percapita_dividedby1000 ~ pryntry + try_private + patent_nres_per100people', data=df).fit()\n",
    "lm_gdppercapita_restricted2.compare_f_test(lm_gdppercapita_restricted3)"
   ]
  },
  {
   "cell_type": "code",
   "execution_count": 25,
   "metadata": {
    "collapsed": false
   },
   "outputs": [
    {
     "data": {
      "text/plain": [
       "(4.6245332521932054, 0.042766182911112366, 1.0)"
      ]
     },
     "execution_count": 25,
     "metadata": {},
     "output_type": "execute_result"
    }
   ],
   "source": [
    "lm_gdppercapita_restricted4 = smf.ols(formula='gdp_percapita_dividedby1000 ~ try_private + patent_nres_per100people', data=df).fit()\n",
    "lm_gdppercapita_restricted3.compare_f_test(lm_gdppercapita_restricted4)"
   ]
  },
  {
   "cell_type": "code",
   "execution_count": 26,
   "metadata": {
    "collapsed": false
   },
   "outputs": [
    {
     "data": {
      "text/html": [
       "<table class=\"simpletable\">\n",
       "<caption>OLS Regression Results</caption>\n",
       "<tr>\n",
       "  <th>Dep. Variable:</th>    <td>gdp_percapita_dividedby1000</td> <th>  R-squared:         </th> <td>   0.577</td>\n",
       "</tr>\n",
       "<tr>\n",
       "  <th>Model:</th>                        <td>OLS</td>             <th>  Adj. R-squared:    </th> <td>   0.519</td>\n",
       "</tr>\n",
       "<tr>\n",
       "  <th>Method:</th>                  <td>Least Squares</td>        <th>  F-statistic:       </th> <td>   9.983</td>\n",
       "</tr>\n",
       "<tr>\n",
       "  <th>Date:</th>                  <td>Fri, 14 Apr 2017</td>       <th>  Prob (F-statistic):</th> <td>0.000238</td>\n",
       "</tr>\n",
       "<tr>\n",
       "  <th>Time:</th>                      <td>21:38:29</td>           <th>  Log-Likelihood:    </th> <td> -110.64</td>\n",
       "</tr>\n",
       "<tr>\n",
       "  <th>No. Observations:</th>           <td>    26</td>            <th>  AIC:               </th> <td>   229.3</td>\n",
       "</tr>\n",
       "<tr>\n",
       "  <th>Df Residuals:</th>               <td>    22</td>            <th>  BIC:               </th> <td>   234.3</td>\n",
       "</tr>\n",
       "<tr>\n",
       "  <th>Df Model:</th>                   <td>     3</td>            <th>                     </th>     <td> </td>   \n",
       "</tr>\n",
       "<tr>\n",
       "  <th>Covariance Type:</th>           <td>nonrobust</td>          <th>                     </th>     <td> </td>   \n",
       "</tr>\n",
       "</table>\n",
       "<table class=\"simpletable\">\n",
       "<tr>\n",
       "              <td></td>                <th>coef</th>     <th>std err</th>      <th>t</th>      <th>P>|t|</th> <th>[95.0% Conf. Int.]</th> \n",
       "</tr>\n",
       "<tr>\n",
       "  <th>Intercept</th>                <td>   16.6791</td> <td>   18.833</td> <td>    0.886</td> <td> 0.385</td> <td>  -22.377    55.736</td>\n",
       "</tr>\n",
       "<tr>\n",
       "  <th>pryntry</th>                  <td>   10.6455</td> <td>    4.950</td> <td>    2.150</td> <td> 0.043</td> <td>    0.379    20.912</td>\n",
       "</tr>\n",
       "<tr>\n",
       "  <th>try_private</th>              <td>  -57.1964</td> <td>   12.308</td> <td>   -4.647</td> <td> 0.000</td> <td>  -82.721   -31.672</td>\n",
       "</tr>\n",
       "<tr>\n",
       "  <th>patent_nres_per100people</th> <td>  119.3021</td> <td>   28.553</td> <td>    4.178</td> <td> 0.000</td> <td>   60.088   178.516</td>\n",
       "</tr>\n",
       "</table>\n",
       "<table class=\"simpletable\">\n",
       "<tr>\n",
       "  <th>Omnibus:</th>       <td>14.615</td> <th>  Durbin-Watson:     </th> <td>   2.127</td>\n",
       "</tr>\n",
       "<tr>\n",
       "  <th>Prob(Omnibus):</th> <td> 0.001</td> <th>  Jarque-Bera (JB):  </th> <td>  14.975</td>\n",
       "</tr>\n",
       "<tr>\n",
       "  <th>Skew:</th>          <td> 1.431</td> <th>  Prob(JB):          </th> <td>0.000560</td>\n",
       "</tr>\n",
       "<tr>\n",
       "  <th>Kurtosis:</th>      <td> 5.373</td> <th>  Cond. No.          </th> <td>    31.5</td>\n",
       "</tr>\n",
       "</table>"
      ],
      "text/plain": [
       "<class 'statsmodels.iolib.summary.Summary'>\n",
       "\"\"\"\n",
       "                                 OLS Regression Results                                \n",
       "=======================================================================================\n",
       "Dep. Variable:     gdp_percapita_dividedby1000   R-squared:                       0.577\n",
       "Model:                                     OLS   Adj. R-squared:                  0.519\n",
       "Method:                          Least Squares   F-statistic:                     9.983\n",
       "Date:                         Fri, 14 Apr 2017   Prob (F-statistic):           0.000238\n",
       "Time:                                 21:38:29   Log-Likelihood:                -110.64\n",
       "No. Observations:                           26   AIC:                             229.3\n",
       "Df Residuals:                               22   BIC:                             234.3\n",
       "Df Model:                                    3                                         \n",
       "Covariance Type:                     nonrobust                                         \n",
       "============================================================================================\n",
       "                               coef    std err          t      P>|t|      [95.0% Conf. Int.]\n",
       "--------------------------------------------------------------------------------------------\n",
       "Intercept                   16.6791     18.833      0.886      0.385       -22.377    55.736\n",
       "pryntry                     10.6455      4.950      2.150      0.043         0.379    20.912\n",
       "try_private                -57.1964     12.308     -4.647      0.000       -82.721   -31.672\n",
       "patent_nres_per100people   119.3021     28.553      4.178      0.000        60.088   178.516\n",
       "==============================================================================\n",
       "Omnibus:                       14.615   Durbin-Watson:                   2.127\n",
       "Prob(Omnibus):                  0.001   Jarque-Bera (JB):               14.975\n",
       "Skew:                           1.431   Prob(JB):                     0.000560\n",
       "Kurtosis:                       5.373   Cond. No.                         31.5\n",
       "==============================================================================\n",
       "\n",
       "Warnings:\n",
       "[1] Standard Errors assume that the covariance matrix of the errors is correctly specified.\n",
       "\"\"\""
      ]
     },
     "execution_count": 26,
     "metadata": {},
     "output_type": "execute_result"
    }
   ],
   "source": [
    "lm_gdppercapita = lm_gdppercapita_restricted3\n",
    "lm_gdppercapita.summary()"
   ]
  },
  {
   "cell_type": "markdown",
   "metadata": {},
   "source": [
    "COMMENT:\n",
    "\n",
    "When I perform a f-test on unrestricted and restricted regressions on gdp_percapita_dividedby1000, I see that all random variables except pryntry, try_private and patent_nres_per100people are jointly non-significant. Therefore, I took the restricted regression. \n",
    "\n",
    "(Note: I took restricted3 since the last f-test shows that pryntry is significant)"
   ]
  },
  {
   "cell_type": "markdown",
   "metadata": {},
   "source": [
    "Regressions on gini_index"
   ]
  },
  {
   "cell_type": "code",
   "execution_count": 27,
   "metadata": {
    "collapsed": false
   },
   "outputs": [
    {
     "data": {
      "text/html": [
       "<table class=\"simpletable\">\n",
       "<caption>OLS Regression Results</caption>\n",
       "<tr>\n",
       "  <th>Dep. Variable:</th>       <td>gini_index</td>    <th>  R-squared:         </th> <td>   0.795</td>\n",
       "</tr>\n",
       "<tr>\n",
       "  <th>Model:</th>                   <td>OLS</td>       <th>  Adj. R-squared:    </th> <td>   0.730</td>\n",
       "</tr>\n",
       "<tr>\n",
       "  <th>Method:</th>             <td>Least Squares</td>  <th>  F-statistic:       </th> <td>   12.27</td>\n",
       "</tr>\n",
       "<tr>\n",
       "  <th>Date:</th>             <td>Fri, 14 Apr 2017</td> <th>  Prob (F-statistic):</th> <td>1.17e-05</td>\n",
       "</tr>\n",
       "<tr>\n",
       "  <th>Time:</th>                 <td>21:38:31</td>     <th>  Log-Likelihood:    </th> <td> -66.836</td>\n",
       "</tr>\n",
       "<tr>\n",
       "  <th>No. Observations:</th>      <td>    26</td>      <th>  AIC:               </th> <td>   147.7</td>\n",
       "</tr>\n",
       "<tr>\n",
       "  <th>Df Residuals:</th>          <td>    19</td>      <th>  BIC:               </th> <td>   156.5</td>\n",
       "</tr>\n",
       "<tr>\n",
       "  <th>Df Model:</th>              <td>     6</td>      <th>                     </th>     <td> </td>   \n",
       "</tr>\n",
       "<tr>\n",
       "  <th>Covariance Type:</th>      <td>nonrobust</td>    <th>                     </th>     <td> </td>   \n",
       "</tr>\n",
       "</table>\n",
       "<table class=\"simpletable\">\n",
       "<tr>\n",
       "        <td></td>          <th>coef</th>     <th>std err</th>      <th>t</th>      <th>P>|t|</th> <th>[95.0% Conf. Int.]</th> \n",
       "</tr>\n",
       "<tr>\n",
       "  <th>Intercept</th>    <td>   86.0094</td> <td>   16.092</td> <td>    5.345</td> <td> 0.000</td> <td>   52.329   119.690</td>\n",
       "</tr>\n",
       "<tr>\n",
       "  <th>pisa_read</th>    <td>    0.1804</td> <td>    0.102</td> <td>    1.763</td> <td> 0.094</td> <td>   -0.034     0.395</td>\n",
       "</tr>\n",
       "<tr>\n",
       "  <th>pisa_math</th>    <td>   -0.2854</td> <td>    0.106</td> <td>   -2.691</td> <td> 0.014</td> <td>   -0.507    -0.063</td>\n",
       "</tr>\n",
       "<tr>\n",
       "  <th>pisa_science</th> <td>    0.0062</td> <td>    0.127</td> <td>    0.049</td> <td> 0.962</td> <td>   -0.260     0.273</td>\n",
       "</tr>\n",
       "<tr>\n",
       "  <th>pryntry</th>      <td>   -1.2244</td> <td>    1.125</td> <td>   -1.088</td> <td> 0.290</td> <td>   -3.579     1.130</td>\n",
       "</tr>\n",
       "<tr>\n",
       "  <th>try_public</th>   <td>   -2.1268</td> <td>    2.808</td> <td>   -0.757</td> <td> 0.458</td> <td>   -8.004     3.750</td>\n",
       "</tr>\n",
       "<tr>\n",
       "  <th>try_private</th>  <td>    3.6133</td> <td>    3.339</td> <td>    1.082</td> <td> 0.293</td> <td>   -3.374    10.601</td>\n",
       "</tr>\n",
       "</table>\n",
       "<table class=\"simpletable\">\n",
       "<tr>\n",
       "  <th>Omnibus:</th>       <td> 0.102</td> <th>  Durbin-Watson:     </th> <td>   2.287</td>\n",
       "</tr>\n",
       "<tr>\n",
       "  <th>Prob(Omnibus):</th> <td> 0.950</td> <th>  Jarque-Bera (JB):  </th> <td>   0.307</td>\n",
       "</tr>\n",
       "<tr>\n",
       "  <th>Skew:</th>          <td> 0.089</td> <th>  Prob(JB):          </th> <td>   0.858</td>\n",
       "</tr>\n",
       "<tr>\n",
       "  <th>Kurtosis:</th>      <td> 2.498</td> <th>  Cond. No.          </th> <td>1.88e+04</td>\n",
       "</tr>\n",
       "</table>"
      ],
      "text/plain": [
       "<class 'statsmodels.iolib.summary.Summary'>\n",
       "\"\"\"\n",
       "                            OLS Regression Results                            \n",
       "==============================================================================\n",
       "Dep. Variable:             gini_index   R-squared:                       0.795\n",
       "Model:                            OLS   Adj. R-squared:                  0.730\n",
       "Method:                 Least Squares   F-statistic:                     12.27\n",
       "Date:                Fri, 14 Apr 2017   Prob (F-statistic):           1.17e-05\n",
       "Time:                        21:38:31   Log-Likelihood:                -66.836\n",
       "No. Observations:                  26   AIC:                             147.7\n",
       "Df Residuals:                      19   BIC:                             156.5\n",
       "Df Model:                           6                                         \n",
       "Covariance Type:            nonrobust                                         \n",
       "================================================================================\n",
       "                   coef    std err          t      P>|t|      [95.0% Conf. Int.]\n",
       "--------------------------------------------------------------------------------\n",
       "Intercept       86.0094     16.092      5.345      0.000        52.329   119.690\n",
       "pisa_read        0.1804      0.102      1.763      0.094        -0.034     0.395\n",
       "pisa_math       -0.2854      0.106     -2.691      0.014        -0.507    -0.063\n",
       "pisa_science     0.0062      0.127      0.049      0.962        -0.260     0.273\n",
       "pryntry         -1.2244      1.125     -1.088      0.290        -3.579     1.130\n",
       "try_public      -2.1268      2.808     -0.757      0.458        -8.004     3.750\n",
       "try_private      3.6133      3.339      1.082      0.293        -3.374    10.601\n",
       "==============================================================================\n",
       "Omnibus:                        0.102   Durbin-Watson:                   2.287\n",
       "Prob(Omnibus):                  0.950   Jarque-Bera (JB):                0.307\n",
       "Skew:                           0.089   Prob(JB):                        0.858\n",
       "Kurtosis:                       2.498   Cond. No.                     1.88e+04\n",
       "==============================================================================\n",
       "\n",
       "Warnings:\n",
       "[1] Standard Errors assume that the covariance matrix of the errors is correctly specified.\n",
       "[2] The condition number is large, 1.88e+04. This might indicate that there are\n",
       "strong multicollinearity or other numerical problems.\n",
       "\"\"\""
      ]
     },
     "execution_count": 27,
     "metadata": {},
     "output_type": "execute_result"
    }
   ],
   "source": [
    "lm_gini_unrestricted = smf.ols(formula='gini_index ~ pisa_read + pisa_math + pisa_science + pryntry + try_public + try_private', data=df).fit()\n",
    "lm_gini_unrestricted.summary()"
   ]
  },
  {
   "cell_type": "code",
   "execution_count": 28,
   "metadata": {
    "collapsed": false
   },
   "outputs": [
    {
     "data": {
      "text/plain": [
       "(1.6188268371641834, 0.21056109536543721, 4.0)"
      ]
     },
     "execution_count": 28,
     "metadata": {},
     "output_type": "execute_result"
    }
   ],
   "source": [
    "lm_gini_restricted = smf.ols(formula='gini_index ~ pisa_read + pisa_math', data=df).fit()\n",
    "lm_gini_unrestricted.compare_f_test(lm_gini_restricted)"
   ]
  },
  {
   "cell_type": "code",
   "execution_count": 29,
   "metadata": {
    "collapsed": false
   },
   "outputs": [
    {
     "data": {
      "text/html": [
       "<table class=\"simpletable\">\n",
       "<caption>OLS Regression Results</caption>\n",
       "<tr>\n",
       "  <th>Dep. Variable:</th>       <td>gini_index</td>    <th>  R-squared:         </th> <td>   0.725</td>\n",
       "</tr>\n",
       "<tr>\n",
       "  <th>Model:</th>                   <td>OLS</td>       <th>  Adj. R-squared:    </th> <td>   0.701</td>\n",
       "</tr>\n",
       "<tr>\n",
       "  <th>Method:</th>             <td>Least Squares</td>  <th>  F-statistic:       </th> <td>   30.31</td>\n",
       "</tr>\n",
       "<tr>\n",
       "  <th>Date:</th>             <td>Fri, 14 Apr 2017</td> <th>  Prob (F-statistic):</th> <td>3.57e-07</td>\n",
       "</tr>\n",
       "<tr>\n",
       "  <th>Time:</th>                 <td>21:38:32</td>     <th>  Log-Likelihood:    </th> <td> -70.649</td>\n",
       "</tr>\n",
       "<tr>\n",
       "  <th>No. Observations:</th>      <td>    26</td>      <th>  AIC:               </th> <td>   147.3</td>\n",
       "</tr>\n",
       "<tr>\n",
       "  <th>Df Residuals:</th>          <td>    23</td>      <th>  BIC:               </th> <td>   151.1</td>\n",
       "</tr>\n",
       "<tr>\n",
       "  <th>Df Model:</th>              <td>     2</td>      <th>                     </th>     <td> </td>   \n",
       "</tr>\n",
       "<tr>\n",
       "  <th>Covariance Type:</th>      <td>nonrobust</td>    <th>                     </th>     <td> </td>   \n",
       "</tr>\n",
       "</table>\n",
       "<table class=\"simpletable\">\n",
       "<tr>\n",
       "      <td></td>         <th>coef</th>     <th>std err</th>      <th>t</th>      <th>P>|t|</th> <th>[95.0% Conf. Int.]</th> \n",
       "</tr>\n",
       "<tr>\n",
       "  <th>Intercept</th> <td>   95.5228</td> <td>   15.417</td> <td>    6.196</td> <td> 0.000</td> <td>   63.630   127.415</td>\n",
       "</tr>\n",
       "<tr>\n",
       "  <th>pisa_read</th> <td>    0.2079</td> <td>    0.068</td> <td>    3.063</td> <td> 0.006</td> <td>    0.067     0.348</td>\n",
       "</tr>\n",
       "<tr>\n",
       "  <th>pisa_math</th> <td>   -0.3373</td> <td>    0.056</td> <td>   -6.006</td> <td> 0.000</td> <td>   -0.453    -0.221</td>\n",
       "</tr>\n",
       "</table>\n",
       "<table class=\"simpletable\">\n",
       "<tr>\n",
       "  <th>Omnibus:</th>       <td> 1.143</td> <th>  Durbin-Watson:     </th> <td>   2.048</td>\n",
       "</tr>\n",
       "<tr>\n",
       "  <th>Prob(Omnibus):</th> <td> 0.565</td> <th>  Jarque-Bera (JB):  </th> <td>   0.336</td>\n",
       "</tr>\n",
       "<tr>\n",
       "  <th>Skew:</th>          <td> 0.236</td> <th>  Prob(JB):          </th> <td>   0.845</td>\n",
       "</tr>\n",
       "<tr>\n",
       "  <th>Kurtosis:</th>      <td> 3.297</td> <th>  Cond. No.          </th> <td>1.39e+04</td>\n",
       "</tr>\n",
       "</table>"
      ],
      "text/plain": [
       "<class 'statsmodels.iolib.summary.Summary'>\n",
       "\"\"\"\n",
       "                            OLS Regression Results                            \n",
       "==============================================================================\n",
       "Dep. Variable:             gini_index   R-squared:                       0.725\n",
       "Model:                            OLS   Adj. R-squared:                  0.701\n",
       "Method:                 Least Squares   F-statistic:                     30.31\n",
       "Date:                Fri, 14 Apr 2017   Prob (F-statistic):           3.57e-07\n",
       "Time:                        21:38:32   Log-Likelihood:                -70.649\n",
       "No. Observations:                  26   AIC:                             147.3\n",
       "Df Residuals:                      23   BIC:                             151.1\n",
       "Df Model:                           2                                         \n",
       "Covariance Type:            nonrobust                                         \n",
       "==============================================================================\n",
       "                 coef    std err          t      P>|t|      [95.0% Conf. Int.]\n",
       "------------------------------------------------------------------------------\n",
       "Intercept     95.5228     15.417      6.196      0.000        63.630   127.415\n",
       "pisa_read      0.2079      0.068      3.063      0.006         0.067     0.348\n",
       "pisa_math     -0.3373      0.056     -6.006      0.000        -0.453    -0.221\n",
       "==============================================================================\n",
       "Omnibus:                        1.143   Durbin-Watson:                   2.048\n",
       "Prob(Omnibus):                  0.565   Jarque-Bera (JB):                0.336\n",
       "Skew:                           0.236   Prob(JB):                        0.845\n",
       "Kurtosis:                       3.297   Cond. No.                     1.39e+04\n",
       "==============================================================================\n",
       "\n",
       "Warnings:\n",
       "[1] Standard Errors assume that the covariance matrix of the errors is correctly specified.\n",
       "[2] The condition number is large, 1.39e+04. This might indicate that there are\n",
       "strong multicollinearity or other numerical problems.\n",
       "\"\"\""
      ]
     },
     "execution_count": 29,
     "metadata": {},
     "output_type": "execute_result"
    }
   ],
   "source": [
    "lm_gini = lm_gini_restricted\n",
    "lm_gini.summary()"
   ]
  },
  {
   "cell_type": "markdown",
   "metadata": {},
   "source": [
    "COMMENT:\n",
    "\n",
    "When I perform a f-test on unrestricted and restricted regressions on gini_index, I see that all random variables except pisa_read and pisa_math are jointly non-significant. Therefore, I took the restricted regression."
   ]
  },
  {
   "cell_type": "markdown",
   "metadata": {},
   "source": [
    "ALL REGRESSIONS AND RESULTS:\n",
    "\n",
    "- pryntry on pisa_read: non-significant\n",
    "- pryntry on pisa_math: non-significant\n",
    "- pryntry on pisa_science: non-significant\n",
    "- pisa_math and try_public on rd_exp: significat, R-squared = 0.543\n",
    "- try_public on pisa_researchers_rd: significant, R-squared = 0.342\n",
    "- pisa_read, pisa_math, pisa_science, pryntry, try_public, try_private, rd_exp, researchers_rd on high_tech_exports: non-significant\n",
    "- try_private, rd_exp on patent_res_per100people: significant, R-squared = 0.593\n",
    "- try_private, rd_exp on patent_nres_per100people: significant, R-squared = 0.632\n",
    "- pryntry, try_private, patent_nres_per100people on gdp_percaoita_dividedby1000: significant, R-squared = 0.577\n",
    "- pisa_read, pisa_math on gini_index: significant, R-squared = 0.725"
   ]
  }
 ],
 "metadata": {
  "kernelspec": {
   "display_name": "Python 3",
   "language": "python",
   "name": "python3"
  },
  "language_info": {
   "codemirror_mode": {
    "name": "ipython",
    "version": 3
   },
   "file_extension": ".py",
   "mimetype": "text/x-python",
   "name": "python",
   "nbconvert_exporter": "python",
   "pygments_lexer": "ipython3",
   "version": "3.6.0"
  }
 },
 "nbformat": 4,
 "nbformat_minor": 2
}
