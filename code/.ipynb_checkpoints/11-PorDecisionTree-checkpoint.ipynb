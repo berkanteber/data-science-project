{
 "cells": [
  {
   "cell_type": "code",
   "execution_count": 1,
   "metadata": {
    "collapsed": false
   },
   "outputs": [],
   "source": [
    "import matplotlib.pyplot as plt\n",
    "\n",
    "import numpy as np\n",
    "import pandas as pd\n",
    "\n",
    "import itertools\n",
    "from sklearn import tree\n",
    "from sklearn.tree import DecisionTreeClassifier\n",
    "from sklearn.model_selection import train_test_split\n",
    "from sklearn.model_selection import cross_val_score\n",
    "from sklearn.metrics import confusion_matrix"
   ]
  },
  {
   "cell_type": "code",
   "execution_count": 2,
   "metadata": {
    "collapsed": false
   },
   "outputs": [],
   "source": [
    "df = pd.read_csv(\"../data/student/student-por.csv\", delimiter = \";\")\n",
    "\n",
    "for i in range(len(df)):\n",
    "    if (df.get_value(i, 'age') <= 18): \n",
    "        df.set_value(i, 'age', 0)\n",
    "    else:                              \n",
    "        df.set_value(i, 'age', 1)\n",
    "\n",
    "for i in range(len(df)):     \n",
    "    if   (df.get_value(i, 'absences') < 20):\n",
    "        df.set_value(i, 'absences', 0)\n",
    "    elif (df.get_value(i, 'absences') < 40):\n",
    "        df.set_value(i, 'absences', 1)\n",
    "    elif (df.get_value(i, 'absences') < 60):\n",
    "        df.set_value(i, 'absences', 2)\n",
    "    elif (df.get_value(i, 'absences') < 80):\n",
    "        df.set_value(i, 'absences', 3)\n",
    "    else:\n",
    "        df.set_value(i, 'absences', 4)\n",
    "\n",
    "for i in range(len(df)):     \n",
    "    if   (df.get_value(i, 'G1') < 4):\n",
    "        df.set_value(i, 'G1', 0)\n",
    "    elif (df.get_value(i, 'G1') < 8):\n",
    "        df.set_value(i, 'G1', 1)\n",
    "    elif (df.get_value(i, 'G1') < 12):\n",
    "        df.set_value(i, 'G1', 2)\n",
    "    elif (df.get_value(i, 'G1') < 16):\n",
    "        df.set_value(i, 'G1', 3)\n",
    "    else:\n",
    "        df.set_value(i, 'G1', 4)\n",
    "        \n",
    "for i in range(len(df)):     \n",
    "    if   (df.get_value(i, 'G2') < 4):\n",
    "        df.set_value(i, 'G2', 0)\n",
    "    elif (df.get_value(i, 'G2') < 8):\n",
    "        df.set_value(i, 'G2', 1)\n",
    "    elif (df.get_value(i, 'G2') < 12):\n",
    "        df.set_value(i, 'G2', 2)\n",
    "    elif (df.get_value(i, 'G2') < 16):\n",
    "        df.set_value(i, 'G2', 3)\n",
    "    else:\n",
    "        df.set_value(i, 'G2', 4)        \n",
    "        \n",
    "for i in range(len(df)):     \n",
    "    if   (df.get_value(i, 'G3') < 4):\n",
    "        df.set_value(i, 'G3', 0)\n",
    "    elif (df.get_value(i, 'G3') < 8):\n",
    "        df.set_value(i, 'G3', 1)\n",
    "    elif (df.get_value(i, 'G3') < 12):\n",
    "        df.set_value(i, 'G3', 2)\n",
    "    elif (df.get_value(i, 'G3') < 16):\n",
    "        df.set_value(i, 'G3', 3)\n",
    "    else:\n",
    "        df.set_value(i, 'G3', 4)\n",
    "        \n",
    "header = list(df)"
   ]
  },
  {
   "cell_type": "code",
   "execution_count": 3,
   "metadata": {
    "collapsed": false
   },
   "outputs": [],
   "source": [
    "original = []\n",
    "for attr in header:\n",
    "    counts = df[attr].value_counts()\n",
    "    original.append(counts.index.tolist())\n",
    "    \n",
    "    for i in range(len(df)):\n",
    "        value = df.get_value(i, attr)\n",
    "        new = counts.index.tolist().index(value)\n",
    "        df.set_value(i, attr, new)"
   ]
  },
  {
   "cell_type": "code",
   "execution_count": 4,
   "metadata": {
    "collapsed": false
   },
   "outputs": [],
   "source": [
    "def calcScores(X, y):\n",
    "    dtc_1 = DecisionTreeClassifier(criterion='entropy', max_depth=1)\n",
    "    dtc_2 = DecisionTreeClassifier(criterion='entropy', max_depth=2)\n",
    "    dtc_3 = DecisionTreeClassifier(criterion='entropy', max_depth=3)\n",
    "    dtc_4 = DecisionTreeClassifier(criterion='entropy', max_depth=4)\n",
    "    dtc_5 = DecisionTreeClassifier(criterion='entropy', max_depth=5)\n",
    "    dtc_6 = DecisionTreeClassifier(criterion='entropy', max_depth=6)\n",
    "\n",
    "    scoresAcc_1 = cross_val_score(dtc_1, X, y, cv=5, scoring='accuracy').mean()\n",
    "    scoresAcc_2 = cross_val_score(dtc_2, X, y, cv=5, scoring='accuracy').mean()\n",
    "    scoresAcc_3 = cross_val_score(dtc_3, X, y, cv=5, scoring='accuracy').mean()\n",
    "    scoresAcc_4 = cross_val_score(dtc_4, X, y, cv=5, scoring='accuracy').mean()\n",
    "    scoresAcc_5 = cross_val_score(dtc_5, X, y, cv=5, scoring='accuracy').mean()\n",
    "    scoresAcc_6 = cross_val_score(dtc_6, X, y, cv=5, scoring='accuracy').mean()\n",
    "\n",
    "    scoresAcc = [{1 : scoresAcc_1}, {2 : scoresAcc_2}, {3 : scoresAcc_3}, {4 : scoresAcc_4}, {5 : scoresAcc_5}, {6 : scoresAcc_6}]\n",
    "    return scoresAcc"
   ]
  },
  {
   "cell_type": "code",
   "execution_count": 5,
   "metadata": {
    "collapsed": true
   },
   "outputs": [],
   "source": [
    "def plot_confusion_matrix(cm, classes, title='Confusion matrix', cmap=plt.cm.Blues):\n",
    "    \"\"\"\n",
    "    Print and plot the confusion matrix. Normalization can be applied by setting `normalize=True`.\n",
    "    \"\"\"\n",
    "    plt.imshow(cm, interpolation='nearest', cmap=cmap)\n",
    "    plt.title(title)\n",
    "    plt.colorbar()\n",
    "    tick_marks = np.arange(len(classes))\n",
    "    plt.xticks(tick_marks, classes)\n",
    "    plt.yticks(tick_marks, classes)\n",
    "    np.set_printoptions(precision=2)\n",
    "\n",
    "    thresh = cm.max() / 2.\n",
    "    for i, j in itertools.product(range(cm.shape[0]), range(cm.shape[1])):\n",
    "        plt.text(j, i, cm[i, j],\n",
    "                 horizontalalignment=\"center\",\n",
    "                 color=\"white\" if cm[i, j] > thresh else \"black\")\n",
    "\n",
    "    plt.tight_layout()\n",
    "    plt.ylabel('True label')\n",
    "    plt.xlabel('Predicted label')\n",
    "    plt.show()"
   ]
  },
  {
   "cell_type": "code",
   "execution_count": 6,
   "metadata": {
    "collapsed": true
   },
   "outputs": [],
   "source": [
    "y = pd.DataFrame.copy(df.iloc[:, -1])"
   ]
  },
  {
   "cell_type": "code",
   "execution_count": 7,
   "metadata": {
    "collapsed": false
   },
   "outputs": [
    {
     "data": {
      "text/plain": [
       "[{1: 0.48990492499136928},\n",
       " {2: 0.51161035134795851},\n",
       " {3: 0.5224988427015661},\n",
       " {4: 0.50075689279101154},\n",
       " {5: 0.48207975355427923},\n",
       " {6: 0.46542507879717182}]"
      ]
     },
     "execution_count": 7,
     "metadata": {},
     "output_type": "execute_result"
    }
   ],
   "source": [
    "X = pd.DataFrame.copy(df.iloc[:, :-3])\n",
    "calcScores(X, y)"
   ]
  },
  {
   "cell_type": "code",
   "execution_count": 8,
   "metadata": {
    "collapsed": false
   },
   "outputs": [
    {
     "data": {
      "image/png": "[encoded data removed]",
      "text/plain": [
       "<matplotlib.figure.Figure at 0x115eab550>"
      ]
     },
     "metadata": {},
     "output_type": "display_data"
    }
   ],
   "source": [
    "X_train, X_test, y_train, y_test= train_test_split(X, y, test_size= 0.4)\n",
    "dtc = DecisionTreeClassifier(criterion='entropy', max_depth=3)\n",
    "dtc.fit(X_train, y_train)\n",
    "pred = dtc.predict(X_test)\n",
    "cnf_matrix = confusion_matrix(y_test, pred)\n",
    "plot_confusion_matrix(cnf_matrix, classes=original[-1], title='Confusion matrix for DTC, without normalization')"
   ]
  },
  {
   "cell_type": "code",
   "execution_count": 9,
   "metadata": {
    "collapsed": false
   },
   "outputs": [
    {
     "data": {
      "text/plain": [
       "[{1: 0.64417174981281478},\n",
       " {2: 0.7086484645760196},\n",
       " {3: 0.75215677554799343},\n",
       " {4: 0.72447026835873218},\n",
       " {5: 0.68408368724808444},\n",
       " {6: 0.65650923344811041}]"
      ]
     },
     "execution_count": 9,
     "metadata": {},
     "output_type": "execute_result"
    }
   ],
   "source": [
    "X = pd.DataFrame.copy(df.iloc[:, :-2])\n",
    "calcScores(X, y)"
   ]
  },
  {
   "cell_type": "code",
   "execution_count": 10,
   "metadata": {
    "collapsed": false
   },
   "outputs": [
    {
     "data": {
      "image/png": "[encoded data removed]",
      "text/plain": [
       "<matplotlib.figure.Figure at 0x115f966a0>"
      ]
     },
     "metadata": {},
     "output_type": "display_data"
    }
   ],
   "source": [
    "X_train, X_test, y_train, y_test= train_test_split(X, y, test_size= 0.4)\n",
    "dtc = DecisionTreeClassifier(criterion='entropy', max_depth=3)\n",
    "dtc.fit(X_train, y_train)\n",
    "pred = dtc.predict(X_test)\n",
    "cnf_matrix = confusion_matrix(y_test, pred)\n",
    "plot_confusion_matrix(cnf_matrix, classes=original[-1], title='Confusion matrix for DTC, without normalization')"
   ]
  },
  {
   "cell_type": "code",
   "execution_count": 11,
   "metadata": {
    "collapsed": false
   },
   "outputs": [
    {
     "data": {
      "text/plain": [
       "[{1: 0.74704616527902945},\n",
       " {2: 0.83334489791114641},\n",
       " {3: 0.84263548377876707},\n",
       " {4: 0.85197269784479079},\n",
       " {5: 0.82573139579718524},\n",
       " {6: 0.81479716593585927}]"
      ]
     },
     "execution_count": 11,
     "metadata": {},
     "output_type": "execute_result"
    }
   ],
   "source": [
    "X = pd.DataFrame.copy(df.iloc[:, :-1])\n",
    "calcScores(X, y)"
   ]
  },
  {
   "cell_type": "code",
   "execution_count": 12,
   "metadata": {
    "collapsed": false
   },
   "outputs": [
    {
     "data": {
      "image/png": "[encoded data removed]",
      "text/plain": [
       "<matplotlib.figure.Figure at 0x115e973c8>"
      ]
     },
     "metadata": {},
     "output_type": "display_data"
    }
   ],
   "source": [
    "X_train, X_test, y_train, y_test= train_test_split(X, y, test_size= 0.4)\n",
    "dtc = DecisionTreeClassifier(criterion='entropy', max_depth=4)\n",
    "dtc.fit(X_train, y_train)\n",
    "pred = dtc.predict(X_test)\n",
    "cnf_matrix = confusion_matrix(y_test, pred)\n",
    "plot_confusion_matrix(cnf_matrix, classes=original[-1], title='Confusion matrix for DTC, without normalization')"
   ]
  }
 ],
 "metadata": {
  "kernelspec": {
   "display_name": "Python 3",
   "language": "python",
   "name": "python3"
  },
  "language_info": {
   "codemirror_mode": {
    "name": "ipython",
    "version": 3
   },
   "file_extension": ".py",
   "mimetype": "text/x-python",
   "name": "python",
   "nbconvert_exporter": "python",
   "pygments_lexer": "ipython3",
   "version": "3.6.0"
  }
 },
 "nbformat": 4,
 "nbformat_minor": 2
}
