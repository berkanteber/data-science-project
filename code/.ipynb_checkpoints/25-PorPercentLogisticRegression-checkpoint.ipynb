{
 "cells": [
  {
   "cell_type": "markdown",
   "metadata": {},
   "source": [
    "Import libraries"
   ]
  },
  {
   "cell_type": "code",
   "execution_count": 1,
   "metadata": {
    "collapsed": false
   },
   "outputs": [],
   "source": [
    "import matplotlib.pyplot as plt\n",
    "from mpl_toolkits.axes_grid1 import make_axes_locatable\n",
    "\n",
    "import numpy as np\n",
    "import pandas as pd\n",
    "\n",
    "import itertools\n",
    "from sklearn import linear_model\n",
    "from sklearn.model_selection import train_test_split\n",
    "from sklearn.model_selection import cross_val_score\n",
    "from sklearn.metrics import confusion_matrix, accuracy_score"
   ]
  },
  {
   "cell_type": "markdown",
   "metadata": {},
   "source": [
    "Read data"
   ]
  },
  {
   "cell_type": "code",
   "execution_count": 2,
   "metadata": {
    "collapsed": false
   },
   "outputs": [],
   "source": [
    "df = pd.read_csv(\"../data/student/student-por-percentiled.csv\")\n",
    "\n",
    "header = list(df)"
   ]
  },
  {
   "cell_type": "markdown",
   "metadata": {},
   "source": [
    "Convert text to dummy variables"
   ]
  },
  {
   "cell_type": "code",
   "execution_count": 3,
   "metadata": {
    "collapsed": false
   },
   "outputs": [],
   "source": [
    "original = []\n",
    "for attr in header:\n",
    "    counts = df[attr].value_counts()\n",
    "    original.append(counts.index.tolist())\n",
    "    \n",
    "    for i in range(len(df)):\n",
    "        value = df.get_value(i, attr)\n",
    "        new = counts.index.tolist().index(value)\n",
    "        df.set_value(i, attr, new)"
   ]
  },
  {
   "cell_type": "markdown",
   "metadata": {},
   "source": [
    "To calculate scores"
   ]
  },
  {
   "cell_type": "code",
   "execution_count": 4,
   "metadata": {
    "collapsed": false
   },
   "outputs": [],
   "source": [
    "def calcScores(X, y):\n",
    "    dtc_1 = DecisionTreeClassifier(criterion='entropy', max_depth=1)\n",
    "    dtc_2 = DecisionTreeClassifier(criterion='entropy', max_depth=2)\n",
    "    dtc_3 = DecisionTreeClassifier(criterion='entropy', max_depth=3)\n",
    "    dtc_4 = DecisionTreeClassifier(criterion='entropy', max_depth=4)\n",
    "    dtc_5 = DecisionTreeClassifier(criterion='entropy', max_depth=5)\n",
    "    dtc_6 = DecisionTreeClassifier(criterion='entropy', max_depth=6)\n",
    "\n",
    "    scoresAcc_1 = cross_val_score(dtc_1, X, y, cv=5, scoring='accuracy').mean()\n",
    "    scoresAcc_2 = cross_val_score(dtc_2, X, y, cv=5, scoring='accuracy').mean()\n",
    "    scoresAcc_3 = cross_val_score(dtc_3, X, y, cv=5, scoring='accuracy').mean()\n",
    "    scoresAcc_4 = cross_val_score(dtc_4, X, y, cv=5, scoring='accuracy').mean()\n",
    "    scoresAcc_5 = cross_val_score(dtc_5, X, y, cv=5, scoring='accuracy').mean()\n",
    "    scoresAcc_6 = cross_val_score(dtc_6, X, y, cv=5, scoring='accuracy').mean()\n",
    "\n",
    "    scoresAcc = [{1 : scoresAcc_1}, {2 : scoresAcc_2}, {3 : scoresAcc_3}, {4 : scoresAcc_4}, {5 : scoresAcc_5}, {6 : scoresAcc_6}]\n",
    "    return scoresAcc"
   ]
  },
  {
   "cell_type": "markdown",
   "metadata": {},
   "source": [
    "To plot confusion matrix"
   ]
  },
  {
   "cell_type": "code",
   "execution_count": 5,
   "metadata": {
    "collapsed": false
   },
   "outputs": [],
   "source": [
    "def rearrangeMatrix(matrix):\n",
    "    matrix[:,[0, 1]] = matrix[:,[1, 0]]\n",
    "    matrix[[0, 1], :] = matrix[[1, 0], :]\n",
    "\n",
    "def plot_confusion_matrix(cm, classes=['yes', 'no'], title='Confusion matrix', cmap=plt.cm.Blues):\n",
    "    \"\"\"\n",
    "    Print and plot the confusion matrix. Normalization can be applied by setting `normalize=True`.\n",
    "    \"\"\"\n",
    "    \n",
    "    rearrangeMatrix(cm)\n",
    "    \n",
    "    fig = plt.figure(figsize=(12, 6))\n",
    "    \n",
    "    tick_marks = np.arange(len(classes))\n",
    "    \n",
    "    \"\"\"\n",
    "    Without Normalization\n",
    "    \"\"\"\n",
    "    \n",
    "    ax1 = fig.add_subplot(121)\n",
    "    \n",
    "    divider = make_axes_locatable(ax1)\n",
    "    cax = divider.append_axes('right', size='5%', pad=0.05)\n",
    "    im = ax1.imshow(cm, interpolation='nearest', cmap=cmap)\n",
    "    fig.colorbar(im, cax = cax, orientation='vertical')\n",
    "    \n",
    "    ax1.set_title(title + \", without normalization\")\n",
    "    ax1.set_xticks(np.arange(len(classes)))\n",
    "    ax1.set_xticklabels(classes)\n",
    "    ax1.set_yticks(np.arange(len(classes)))\n",
    "    ax1.set_yticklabels(classes)\n",
    "    np.set_printoptions(precision=2)\n",
    "    \n",
    "    thresh = cm.max() / 2.\n",
    "    for i, j in itertools.product(range(cm.shape[0]), range(cm.shape[1])):\n",
    "        val = cm[i, j]\n",
    "        ax1.annotate(val, xy=(j, i), ha=\"center\", color=\"white\" if val > thresh else \"black\")\n",
    "        \n",
    "    ax1.set_ylabel('True label')\n",
    "    ax1.set_xlabel('Predicted label')\n",
    "    \n",
    "   \n",
    "    \"\"\"\n",
    "    With Normalization\n",
    "    \"\"\"\n",
    "\n",
    "    ax2 = fig.add_subplot(122)\n",
    "    \n",
    "    cm = cm.astype('float') / cm.sum(axis=1)[:, np.newaxis]\n",
    "    \n",
    "    divider = make_axes_locatable(ax2)\n",
    "    cax = divider.append_axes('right', size='5%', pad=0.05)\n",
    "    im = ax2.imshow(cm, interpolation='nearest', cmap=cmap)\n",
    "    fig.colorbar(im, cax = cax, orientation='vertical')\n",
    "    \n",
    "    ax2.set_title(title + \", with normalization\")\n",
    "    ax2.set_xticks(np.arange(len(classes)))\n",
    "    ax2.set_xticklabels(classes)\n",
    "    ax2.set_yticks(np.arange(len(classes)))\n",
    "    ax2.set_yticklabels(classes)\n",
    "    np.set_printoptions(precision=2)\n",
    "    \n",
    "    thresh = cm.max() / 2.\n",
    "    for i, j in itertools.product(range(cm.shape[0]), range(cm.shape[1])):\n",
    "        val = round(cm[i, j], 2)\n",
    "        ax2.annotate(val, xy=(j, i), ha=\"center\", color=\"white\" if val > thresh else \"black\")\n",
    "        \n",
    "    ax2.set_ylabel('True label')\n",
    "    ax2.set_xlabel('Predicted label')\n",
    "    \n",
    "    plt.tight_layout()\n",
    "    plt.show()"
   ]
  },
  {
   "cell_type": "markdown",
   "metadata": {},
   "source": [
    "X data, always same"
   ]
  },
  {
   "cell_type": "code",
   "execution_count": 6,
   "metadata": {
    "collapsed": true
   },
   "outputs": [],
   "source": [
    "X = pd.DataFrame.copy(df.iloc[:, :-4]).astype(int)"
   ]
  },
  {
   "cell_type": "markdown",
   "metadata": {},
   "source": [
    "y: Top 10 percent"
   ]
  },
  {
   "cell_type": "code",
   "execution_count": 7,
   "metadata": {
    "collapsed": false
   },
   "outputs": [
    {
     "data": {
      "text/plain": [
       "array([ 0.9       ,  0.9       ,  0.9       ,  0.89230769,  0.89922481])"
      ]
     },
     "execution_count": 7,
     "metadata": {},
     "output_type": "execute_result"
    }
   ],
   "source": [
    "y = pd.DataFrame.copy(df.iloc[:, -4]).astype(int)\n",
    "\n",
    "logreg = linear_model.LogisticRegression()\n",
    "scores = cross_val_score(logreg, X, y, cv=5, scoring='accuracy')\n",
    "scores"
   ]
  },
  {
   "cell_type": "code",
   "execution_count": 8,
   "metadata": {
    "collapsed": false
   },
   "outputs": [
    {
     "data": {
      "text/plain": [
       "0.89830649970184862"
      ]
     },
     "execution_count": 8,
     "metadata": {},
     "output_type": "execute_result"
    }
   ],
   "source": [
    "scores.mean()"
   ]
  },
  {
   "cell_type": "code",
   "execution_count": 9,
   "metadata": {
    "collapsed": false
   },
   "outputs": [
    {
     "data": {
      "text/plain": [
       "0.90000000000000002"
      ]
     },
     "execution_count": 9,
     "metadata": {},
     "output_type": "execute_result"
    }
   ],
   "source": [
    "X_train, X_test, y_train, y_test= train_test_split(X, y, test_size= 0.4)\n",
    "\n",
    "logreg.fit(X_train, y_train) \n",
    "pred = logreg.predict(X_test)\n",
    "accuracy = accuracy_score(y_test, pred)\n",
    "accuracy"
   ]
  },
  {
   "cell_type": "code",
   "execution_count": 10,
   "metadata": {
    "collapsed": false
   },
   "outputs": [
    {
     "data": {
      "text/plain": [
       "<matplotlib.figure.Figure at 0x116bbc4a8>"
      ]
     },
     "metadata": {},
     "output_type": "display_data"
    },
    {
     "data": {
      "image/png": "[encoded data removed]",
      "text/plain": [
       "<matplotlib.figure.Figure at 0x116bbc390>"
      ]
     },
     "metadata": {},
     "output_type": "display_data"
    }
   ],
   "source": [
    "cnf_matrix = confusion_matrix(y_test, pred)\n",
    "plt.figure()\n",
    "plot_confusion_matrix(cnf_matrix, title='Confusion matrix for Logistic Regression')"
   ]
  },
  {
   "cell_type": "markdown",
   "metadata": {},
   "source": [
    "y: Bottom 10 percent"
   ]
  },
  {
   "cell_type": "code",
   "execution_count": 11,
   "metadata": {
    "collapsed": false
   },
   "outputs": [
    {
     "data": {
      "text/plain": [
       "array([ 0.85,  0.92,  0.93,  0.91,  0.91])"
      ]
     },
     "execution_count": 11,
     "metadata": {},
     "output_type": "execute_result"
    }
   ],
   "source": [
    "y = pd.DataFrame.copy(df.iloc[:, -3]).astype(int)\n",
    "\n",
    "logreg = linear_model.LogisticRegression()\n",
    "scores = cross_val_score(logreg, X, y, cv=5, scoring='accuracy')\n",
    "scores"
   ]
  },
  {
   "cell_type": "code",
   "execution_count": 12,
   "metadata": {
    "collapsed": false
   },
   "outputs": [
    {
     "data": {
      "text/plain": [
       "0.9013953488372094"
      ]
     },
     "execution_count": 12,
     "metadata": {},
     "output_type": "execute_result"
    }
   ],
   "source": [
    "scores.mean()"
   ]
  },
  {
   "cell_type": "code",
   "execution_count": 13,
   "metadata": {
    "collapsed": false
   },
   "outputs": [
    {
     "data": {
      "text/plain": [
       "0.92692307692307696"
      ]
     },
     "execution_count": 13,
     "metadata": {},
     "output_type": "execute_result"
    }
   ],
   "source": [
    "X_train, X_test, y_train, y_test= train_test_split(X, y, test_size= 0.4)\n",
    "\n",
    "logreg.fit(X_train, y_train) \n",
    "pred = logreg.predict(X_test)\n",
    "accuracy = accuracy_score(y_test, pred)\n",
    "accuracy"
   ]
  },
  {
   "cell_type": "code",
   "execution_count": 14,
   "metadata": {
    "collapsed": false
   },
   "outputs": [
    {
     "data": {
      "text/plain": [
       "<matplotlib.figure.Figure at 0x11a0b9048>"
      ]
     },
     "metadata": {},
     "output_type": "display_data"
    },
    {
     "data": {
      "image/png": "[encoded data removed]",
      "text/plain": [
       "<matplotlib.figure.Figure at 0x116bb4198>"
      ]
     },
     "metadata": {},
     "output_type": "display_data"
    }
   ],
   "source": [
    "cnf_matrix = confusion_matrix(y_test, pred)\n",
    "plt.figure()\n",
    "plot_confusion_matrix(cnf_matrix, title='Confusion matrix for Logistic Regression')"
   ]
  },
  {
   "cell_type": "markdown",
   "metadata": {},
   "source": [
    "y: Top 20 percent"
   ]
  },
  {
   "cell_type": "code",
   "execution_count": 15,
   "metadata": {
    "collapsed": false
   },
   "outputs": [
    {
     "data": {
      "text/plain": [
       "array([ 0.81,  0.8 ,  0.78,  0.77,  0.7 ])"
      ]
     },
     "execution_count": 15,
     "metadata": {},
     "output_type": "execute_result"
    }
   ],
   "source": [
    "y = pd.DataFrame.copy(df.iloc[:, -2]).astype(int)\n",
    "\n",
    "logreg = linear_model.LogisticRegression()\n",
    "scores = cross_val_score(logreg, X, y, cv=5, scoring='accuracy')\n",
    "scores"
   ]
  },
  {
   "cell_type": "code",
   "execution_count": 16,
   "metadata": {
    "collapsed": false
   },
   "outputs": [
    {
     "data": {
      "text/plain": [
       "0.77030411449016101"
      ]
     },
     "execution_count": 16,
     "metadata": {},
     "output_type": "execute_result"
    }
   ],
   "source": [
    "scores.mean()"
   ]
  },
  {
   "cell_type": "code",
   "execution_count": 17,
   "metadata": {
    "collapsed": false
   },
   "outputs": [
    {
     "data": {
      "text/plain": [
       "0.79230769230769227"
      ]
     },
     "execution_count": 17,
     "metadata": {},
     "output_type": "execute_result"
    }
   ],
   "source": [
    "X_train, X_test, y_train, y_test= train_test_split(X, y, test_size= 0.4)\n",
    "\n",
    "logreg.fit(X_train, y_train) \n",
    "pred = logreg.predict(X_test)\n",
    "accuracy = accuracy_score(y_test, pred)\n",
    "accuracy"
   ]
  },
  {
   "cell_type": "code",
   "execution_count": 18,
   "metadata": {
    "collapsed": false
   },
   "outputs": [
    {
     "data": {
      "text/plain": [
       "<matplotlib.figure.Figure at 0x11a7be5c0>"
      ]
     },
     "metadata": {},
     "output_type": "display_data"
    },
    {
     "data": {
      "image/png": "[encoded data removed]",
      "text/plain": [
       "<matplotlib.figure.Figure at 0x11aa009b0>"
      ]
     },
     "metadata": {},
     "output_type": "display_data"
    }
   ],
   "source": [
    "cnf_matrix = confusion_matrix(y_test, pred)\n",
    "plt.figure()\n",
    "plot_confusion_matrix(cnf_matrix, title='Confusion matrix for Logistic Regression')"
   ]
  },
  {
   "cell_type": "markdown",
   "metadata": {},
   "source": [
    "y: Bottom 20 percent"
   ]
  },
  {
   "cell_type": "code",
   "execution_count": 19,
   "metadata": {
    "collapsed": false
   },
   "outputs": [
    {
     "data": {
      "text/plain": [
       "array([ 0.75,  0.81,  0.83,  0.83,  0.84])"
      ]
     },
     "execution_count": 19,
     "metadata": {},
     "output_type": "execute_result"
    }
   ],
   "source": [
    "y = pd.DataFrame.copy(df.iloc[:, -1]).astype(int)\n",
    "\n",
    "logreg = linear_model.LogisticRegression()\n",
    "scores = cross_val_score(logreg, X, y, cv=5, scoring='accuracy')\n",
    "scores"
   ]
  },
  {
   "cell_type": "code",
   "execution_count": 20,
   "metadata": {
    "collapsed": false
   },
   "outputs": [
    {
     "data": {
      "text/plain": [
       "0.81206917113893851"
      ]
     },
     "execution_count": 20,
     "metadata": {},
     "output_type": "execute_result"
    }
   ],
   "source": [
    "scores.mean()"
   ]
  },
  {
   "cell_type": "code",
   "execution_count": 21,
   "metadata": {
    "collapsed": false
   },
   "outputs": [
    {
     "data": {
      "text/plain": [
       "0.83461538461538465"
      ]
     },
     "execution_count": 21,
     "metadata": {},
     "output_type": "execute_result"
    }
   ],
   "source": [
    "X_train, X_test, y_train, y_test= train_test_split(X, y, test_size= 0.4)\n",
    "\n",
    "logreg.fit(X_train, y_train) \n",
    "pred = logreg.predict(X_test)\n",
    "accuracy = accuracy_score(y_test, pred)\n",
    "accuracy"
   ]
  },
  {
   "cell_type": "code",
   "execution_count": 22,
   "metadata": {
    "collapsed": false
   },
   "outputs": [
    {
     "data": {
      "text/plain": [
       "<matplotlib.figure.Figure at 0x11ac4acc0>"
      ]
     },
     "metadata": {},
     "output_type": "display_data"
    },
    {
     "data": {
      "image/png": "[encoded data removed]",
      "text/plain": [
       "<matplotlib.figure.Figure at 0x11a7e1940>"
      ]
     },
     "metadata": {},
     "output_type": "display_data"
    }
   ],
   "source": [
    "cnf_matrix = confusion_matrix(y_test, pred)\n",
    "plt.figure()\n",
    "plot_confusion_matrix(cnf_matrix, title='Confusion matrix for Logistic Regression')"
   ]
  },
  {
   "cell_type": "code",
   "execution_count": null,
   "metadata": {
    "collapsed": true
   },
   "outputs": [],
   "source": []
  }
 ],
 "metadata": {
  "kernelspec": {
   "display_name": "Python 3",
   "language": "python",
   "name": "python3"
  },
  "language_info": {
   "codemirror_mode": {
    "name": "ipython",
    "version": 3
   },
   "file_extension": ".py",
   "mimetype": "text/x-python",
   "name": "python",
   "nbconvert_exporter": "python",
   "pygments_lexer": "ipython3",
   "version": "3.6.0"
  }
 },
 "nbformat": 4,
 "nbformat_minor": 2
}
