{
 "cells": [
  {
   "cell_type": "markdown",
   "metadata": {},
   "source": [
    "Import libraries"
   ]
  },
  {
   "cell_type": "code",
   "execution_count": 1,
   "metadata": {
    "collapsed": true
   },
   "outputs": [],
   "source": [
    "from matplotlib import pyplot as plt\n",
    "import numpy as np\n",
    "import pandas as pd"
   ]
  },
  {
   "cell_type": "markdown",
   "metadata": {},
   "source": [
    "Read data from .csv files"
   ]
  },
  {
   "cell_type": "code",
   "execution_count": 2,
   "metadata": {
    "collapsed": true
   },
   "outputs": [],
   "source": [
    "edu_spending_DF = pd.read_csv(\"../data/oecd_education_spending.csv\")\n",
    "edu_private_DF = pd.read_csv(\"../data/oecd_private_spending_on_education.csv\")\n",
    "edu_public_DF = pd.read_csv(\"../data/oecd_public_spending_on_education.csv\")\n",
    "edu_tertiary_DF = pd.read_csv(\"../data/oecd_spending_on_tertiary_education.csv\")\n",
    "\n",
    "pisa_reading_DF = pd.read_csv(\"../data/oecd_pisa_reading.csv\")\n",
    "pisa_math_DF = pd.read_csv(\"../data/oecd_pisa_math.csv\")\n",
    "pisa_science_DF = pd.read_csv(\"../data/oecd_pisa_science.csv\")\n",
    "\n",
    "researchers_rd_DF = pd.read_csv(\"../data/wb_researchers_in_rd.csv\")\n",
    "rd_expenditure_DF = pd.read_csv(\"../data/wb_rd_expenditure.csv\")\n",
    "\n",
    "high_tech_exports_DF = pd.read_csv(\"../data/wb_high_technology_exports.csv\")\n",
    "\n",
    "population_DF = pd.read_csv(\"../data/wb_population_total.csv\")\n",
    "\n",
    "patent_res_DF = pd.read_csv(\"../data/wb_patent_applications_residents.csv\")\n",
    "patent_nres_DF = pd.read_csv(\"../data/wb_patent_applications_nonresidents.csv\")\n",
    "\n",
    "gini_DF = pd.read_csv(\"../data/wb_gini_index.csv\")\n",
    "gdp_percapita_DF = pd.read_csv(\"../data/wb_gdp_per_capita.csv\")"
   ]
  },
  {
   "cell_type": "markdown",
   "metadata": {},
   "source": [
    "Convert data frames into lists"
   ]
  },
  {
   "cell_type": "code",
   "execution_count": 3,
   "metadata": {
    "collapsed": true
   },
   "outputs": [],
   "source": [
    "edu_spending = edu_spending_DF.values\n",
    "edu_private = edu_private_DF.values\n",
    "edu_public = edu_public_DF.values\n",
    "edu_tertiary = edu_tertiary_DF.values\n",
    "\n",
    "pisa_reading = pisa_reading_DF.values\n",
    "pisa_math = pisa_math_DF.values\n",
    "pisa_science = pisa_science_DF.values\n",
    "\n",
    "researchers_rd = researchers_rd_DF.values\n",
    "rd_expenditure = rd_expenditure_DF.values\n",
    "\n",
    "high_tech_exports = high_tech_exports_DF.values\n",
    "\n",
    "population = population_DF.values\n",
    "patent_res = patent_res_DF.values\n",
    "patent_nres = patent_nres_DF.values\n",
    "\n",
    "gini = gini_DF.values\n",
    "gdp_percapita = gdp_percapita_DF.values"
   ]
  },
  {
   "cell_type": "markdown",
   "metadata": {},
   "source": [
    "Education Spendings -- Primary to Non-tertiary (Latest)"
   ]
  },
  {
   "cell_type": "code",
   "execution_count": 4,
   "metadata": {
    "collapsed": true
   },
   "outputs": [],
   "source": [
    "edu_spending_pryntry = [[x[0], x[5], x[6]] for x in edu_spending if x[0] != \"OAVG\" and x[2] == \"PRY_NTRY\" and ~np.isnan(x[6])]\n",
    "\n",
    "### get latest data\n",
    "edu_spending_pryntry_latest = []\n",
    "for i in range(len(edu_spending_pryntry) - 1):\n",
    "    if edu_spending_pryntry[i][0] != edu_spending_pryntry[i + 1][0]:\n",
    "        edu_spending_pryntry_latest.append(edu_spending_pryntry[i])\n",
    "edu_spending_pryntry_latest.append(edu_spending_pryntry[-1])"
   ]
  },
  {
   "cell_type": "markdown",
   "metadata": {},
   "source": [
    "Education Spendings -- Tertiary (Latest)"
   ]
  },
  {
   "cell_type": "code",
   "execution_count": 5,
   "metadata": {
    "collapsed": true
   },
   "outputs": [],
   "source": [
    "edu_spending_try = [[x[0], x[5], x[6]] for x in edu_spending if x[0] != \"OAVG\" and x[2] == \"TRY\" and ~np.isnan(x[6])]\n",
    "\n",
    "### get latest data\n",
    "edu_spending_try_latest = []\n",
    "for i in range(len(edu_spending_try) - 1):\n",
    "    if edu_spending_try[i][0] != edu_spending_try[i + 1][0]:\n",
    "        edu_spending_try_latest.append(edu_spending_try[i])\n",
    "edu_spending_try_latest.append(edu_spending_try[-1])"
   ]
  },
  {
   "cell_type": "markdown",
   "metadata": {},
   "source": [
    "Create a data list"
   ]
  },
  {
   "cell_type": "markdown",
   "metadata": {},
   "source": [
    "Add pryntry, try into list"
   ]
  },
  {
   "cell_type": "code",
   "execution_count": 6,
   "metadata": {
    "collapsed": false
   },
   "outputs": [],
   "source": [
    "data = []\n",
    "header = [\"name\", \"year\", \"pryntry\", \"try\", \"total\"]\n",
    "\n",
    "for i in range(41):\n",
    "    name = edu_spending_pryntry_latest[i][0]\n",
    "    year = edu_spending_pryntry_latest[i][1]\n",
    "    \n",
    "    data_pryntry = round(edu_spending_pryntry_latest[i][2], 2)\n",
    "    data_try = round(edu_spending_try_latest[i][2], 2)\n",
    "    \n",
    "    data_total = round(data_pryntry + data_try, 2)\n",
    "    data.append([name, year, data_pryntry, data_try, data_total])   "
   ]
  },
  {
   "cell_type": "markdown",
   "metadata": {},
   "source": [
    "Create 2 additional lists for name and year"
   ]
  },
  {
   "cell_type": "code",
   "execution_count": 7,
   "metadata": {
    "collapsed": true
   },
   "outputs": [],
   "source": [
    "data_name = [];\n",
    "data_year = [];\n",
    "\n",
    "for i in range(41):\n",
    "    data_name.append(data[i][0])\n",
    "    data_year.append(data[i][1])"
   ]
  },
  {
   "cell_type": "markdown",
   "metadata": {},
   "source": [
    "Add tertiary_public into list"
   ]
  },
  {
   "cell_type": "code",
   "execution_count": 8,
   "metadata": {
    "collapsed": false
   },
   "outputs": [],
   "source": [
    "header.append(\"try_public\")\n",
    "\n",
    "edu_tertiary_public = [[x[0], x[5], x[6]] for x in edu_tertiary if x[0] != \"OAVG\" and x[2] == \"PUB\" and ~np.isnan(x[6])]\n",
    "\n",
    "for i in range(len(edu_tertiary_public)):\n",
    "    if edu_tertiary_public[i][0] in data_name:\n",
    "        index = data_name.index(edu_tertiary_public[i][0])\n",
    "        if edu_tertiary_public[i][1] == data_year[index]:\n",
    "            data[index].append(round(edu_tertiary_public[i][2], 2))\n",
    "\n",
    "for i in range(len(edu_tertiary_public)):\n",
    "    if edu_tertiary_public[i][0] in data_name:\n",
    "        index = data_name.index(edu_tertiary_public[i][0])\n",
    "        if len(data[index]) == 5 and edu_tertiary_public[i][1] == data_year[index] - 1:\n",
    "            data[index].append(round(edu_tertiary_public[i][2], 2))    \n",
    "            \n",
    "for i in range(len(edu_tertiary_public)):\n",
    "    if edu_tertiary_public[i][0] in data_name:\n",
    "        index = data_name.index(edu_tertiary_public[i][0])\n",
    "        if len(data[index]) == 5 and edu_tertiary_public[i][1] == data_year[index] + 1:\n",
    "            data[index].append(round(edu_tertiary_public[i][2], 2))    \n",
    "                    \n",
    "for x in data:\n",
    "    if len(x) == 5:\n",
    "        x.append(None)"
   ]
  },
  {
   "cell_type": "markdown",
   "metadata": {},
   "source": [
    "Add tertiary_private into list"
   ]
  },
  {
   "cell_type": "code",
   "execution_count": 9,
   "metadata": {
    "collapsed": true
   },
   "outputs": [],
   "source": [
    "header.append(\"try_private\")\n",
    "\n",
    "edu_tertiary_private = [[x[0], x[5], x[6]] for x in edu_tertiary if x[0] != \"OAVG\" and x[2] == \"PRIV\" and ~np.isnan(x[6])]\n",
    "\n",
    "for i in range(len(edu_tertiary_private)):\n",
    "    if edu_tertiary_private[i][0] in data_name:\n",
    "        index = data_name.index(edu_tertiary_private[i][0])\n",
    "        if edu_tertiary_private[i][1] == data_year[index]:\n",
    "            data[index].append(round(edu_tertiary_private[i][2], 2))\n",
    "\n",
    "for i in range(len(edu_tertiary_private)):\n",
    "    if edu_tertiary_private[i][0] in data_name:\n",
    "        index = data_name.index(edu_tertiary_private[i][0])\n",
    "        if len(data[index]) == 6 and edu_tertiary_private[i][1] == data_year[index] - 1:\n",
    "            data[index].append(round(edu_tertiary_private[i][2], 2))            \n",
    "            \n",
    "for i in range(len(edu_tertiary_private)):\n",
    "    if edu_tertiary_private[i][0] in data_name:\n",
    "        index = data_name.index(edu_tertiary_private[i][0])\n",
    "        if len(data[index]) == 6 and edu_tertiary_private[i][1] == data_year[index] + 1:\n",
    "            data[index].append(round(edu_tertiary_private[i][2], 2))      \n",
    "            \n",
    "for x in data:\n",
    "    if len(x) == 6:\n",
    "        x.append(None)"
   ]
  },
  {
   "cell_type": "markdown",
   "metadata": {},
   "source": [
    "Convert try_public / try into try_public\n",
    "Convert try_private / try into try_private"
   ]
  },
  {
   "cell_type": "code",
   "execution_count": 10,
   "metadata": {
    "collapsed": false
   },
   "outputs": [],
   "source": [
    "for x in data:\n",
    "    if x[5] is not None and x[6] is not None:\n",
    "        x[5] = round(x[5] * x[3] / 100, 2)\n",
    "        x[6] = round(x[6] * x[3] / 100, 2)"
   ]
  },
  {
   "cell_type": "markdown",
   "metadata": {},
   "source": [
    "Get latest PISA scores"
   ]
  },
  {
   "cell_type": "code",
   "execution_count": 11,
   "metadata": {
    "collapsed": true
   },
   "outputs": [],
   "source": [
    "pisa_read_total = [[x[0], x[5], x[6]] for x in pisa_reading if x[0] != \"OAVG\" and x[2] == \"TOT\" and ~np.isnan(x[6])]\n",
    "pisa_math_total = [[x[0], x[5], x[6]] for x in pisa_math if x[0] != \"OAVG\" and x[2] == \"TOT\" and ~np.isnan(x[6])]\n",
    "pisa_science_total = [[x[0], x[5], x[6]] for x in pisa_science if x[0] != \"OAVG\" and x[2] == \"TOT\" and ~np.isnan(x[6])]### get latest data\n",
    "\n",
    "### get latest data\n",
    "\n",
    "pisa_read_total_latest = []\n",
    "for i in range(len(pisa_read_total) - 1):\n",
    "    if pisa_read_total[i][0] != pisa_read_total[i + 1][0]:\n",
    "        pisa_read_total_latest.append(pisa_read_total[i])\n",
    "pisa_read_total_latest.append(pisa_read_total[-1])\n",
    "\n",
    "pisa_math_total_latest = []\n",
    "for i in range(len(pisa_math_total) - 1):\n",
    "    if pisa_math_total[i][0] != pisa_math_total[i + 1][0]:\n",
    "        pisa_math_total_latest.append(pisa_math_total[i])\n",
    "pisa_math_total_latest.append(pisa_math_total[-1])\n",
    "\n",
    "pisa_science_total_latest = []\n",
    "for i in range(len(pisa_science_total) - 1):\n",
    "    if pisa_science_total[i][0] != pisa_science_total[i + 1][0]:\n",
    "        pisa_science_total_latest.append(pisa_science_total[i])\n",
    "pisa_science_total_latest.append(pisa_science_total[-1])"
   ]
  },
  {
   "cell_type": "markdown",
   "metadata": {},
   "source": [
    "Add PISA scores into list"
   ]
  },
  {
   "cell_type": "code",
   "execution_count": 12,
   "metadata": {
    "collapsed": false
   },
   "outputs": [],
   "source": [
    "header.append(\"pisa_read\")\n",
    "header.append(\"pisa_math\")\n",
    "header.append(\"pisa_science\")\n",
    "\n",
    "for i in range(44):\n",
    "    name = pisa_read_total_latest[i][0]\n",
    "    \n",
    "    if name in data_name:\n",
    "        index = data_name.index(name)\n",
    "        \n",
    "        data[index].append(pisa_read_total_latest[i][2])\n",
    "        data[index].append(pisa_math_total_latest[i][2])\n",
    "        data[index].append(pisa_science_total_latest[i][2])\n",
    "\n",
    "for x in data:\n",
    "    if len(x) == 7:\n",
    "        x.append(None)\n",
    "        x.append(None)\n",
    "        x.append(None)"
   ]
  },
  {
   "cell_type": "markdown",
   "metadata": {},
   "source": [
    "Add rd_expenditure into list"
   ]
  },
  {
   "cell_type": "code",
   "execution_count": 13,
   "metadata": {
    "collapsed": true
   },
   "outputs": [],
   "source": [
    "header.append(\"rd_exp\")  \n",
    "\n",
    "for x in rd_expenditure:\n",
    "    if x[1] in data_name:\n",
    "        index = data_name.index(x[1])\n",
    "        year = data_year[index]\n",
    "        \n",
    "        if ~np.isnan(x[year-2018]):\n",
    "            data[index].append(round(x[year-2018], 2))\n",
    "        elif ~np.isnan(x[year-2017]):\n",
    "            data[index].append(round(x[year-2017], 2))\n",
    "        elif ~np.isnan(x[year-2019]):\n",
    "            data[index].append(round(x[year-2019], 2))   \n",
    "            \n",
    "for x in data:\n",
    "    if len(x) == 10:\n",
    "        x.append(None)"
   ]
  },
  {
   "cell_type": "markdown",
   "metadata": {},
   "source": [
    "Add researchers/population*1000000 into list"
   ]
  },
  {
   "cell_type": "code",
   "execution_count": 14,
   "metadata": {
    "collapsed": false
   },
   "outputs": [],
   "source": [
    "header.append(\"researchers_rd_permillionpeople\") \n",
    "\n",
    "for i, x in enumerate(researchers_rd):\n",
    "    if x[1] in data_name:\n",
    "        index = data_name.index(x[1])\n",
    "        year = data_year[index]\n",
    "        \n",
    "        if ~np.isnan(x[year-2018]):\n",
    "            data[index].append(round(x[year-2018]/population[i][year-2018]*1000000, 2))\n",
    "        elif ~np.isnan(x[year-2017]):\n",
    "            data[index].append(round(x[year-2017]/population[i][year-2017]*1000000, 2))\n",
    "        elif ~np.isnan(x[year-2019]):\n",
    "            data[index].append(round(x[year-2019]/population[i][year-2019]*1000000, 2))    \n",
    "        \n",
    "for x in data:\n",
    "    if len(x) == 11:\n",
    "        x.append(None)"
   ]
  },
  {
   "cell_type": "markdown",
   "metadata": {},
   "source": [
    "Add high_tech_exports into list"
   ]
  },
  {
   "cell_type": "code",
   "execution_count": 15,
   "metadata": {
    "collapsed": false
   },
   "outputs": [],
   "source": [
    "header.append(\"high_tech_exports\")\n",
    "\n",
    "for x in high_tech_exports:\n",
    "    if x[1] in data_name:\n",
    "        index = data_name.index(x[1])\n",
    "        year = data_year[index]\n",
    "        \n",
    "        if ~np.isnan(x[year-2018]):\n",
    "            data[index].append(round(x[year-2018], 2))\n",
    "        elif ~np.isnan(x[year-2017]):\n",
    "            data[index].append(round(x[year-2017], 2))\n",
    "        elif ~np.isnan(x[year-2019]):\n",
    "            data[index].append(round(x[year-2019], 2))              \n",
    "\n",
    "for x in data:\n",
    "    if len(x) == 12:\n",
    "        x.append(None)"
   ]
  },
  {
   "cell_type": "markdown",
   "metadata": {},
   "source": [
    "Add patent_res/population*100 into list"
   ]
  },
  {
   "cell_type": "code",
   "execution_count": 16,
   "metadata": {
    "collapsed": true
   },
   "outputs": [],
   "source": [
    "header.append(\"patent_res_per100people\")    \n",
    "\n",
    "for i, x in enumerate(patent_res):\n",
    "    if x[1] in data_name:\n",
    "        index = data_name.index(x[1])\n",
    "        year = data_year[index]\n",
    "        \n",
    "        if ~np.isnan(x[year-2018]):\n",
    "            data[index].append(round(x[year-2018]/population[i][year-2018]*1000, 2))\n",
    "        elif ~np.isnan(x[year-2017]):\n",
    "            data[index].append(round(x[year-2017]/population[i][year-2017]*1000, 2))\n",
    "        elif ~np.isnan(x[year-2019]):\n",
    "            data[index].append(round(x[year-2019]/population[i][year-2019]*1000, 2))    \n",
    "            \n",
    "for x in data:\n",
    "    if len(x) == 13:\n",
    "        x.append(None)"
   ]
  },
  {
   "cell_type": "markdown",
   "metadata": {},
   "source": [
    "Add patent_nres/population*100 into list"
   ]
  },
  {
   "cell_type": "code",
   "execution_count": 17,
   "metadata": {
    "collapsed": true
   },
   "outputs": [],
   "source": [
    "header.append(\"patent_nres_per100people\") \n",
    "\n",
    "for i, x in enumerate(patent_nres):\n",
    "    if x[1] in data_name:\n",
    "        index = data_name.index(x[1])\n",
    "        year = data_year[index]\n",
    "        \n",
    "        if ~np.isnan(x[year-2018]):\n",
    "            data[index].append(round(x[year-2018]/population[i][year-2018]*1000, 2))\n",
    "        elif ~np.isnan(x[year-2017]):\n",
    "            data[index].append(round(x[year-2017]/population[i][year-2017]*1000, 2))\n",
    "        elif ~np.isnan(x[year-2019]):\n",
    "            data[index].append(round(x[year-2019]/population[i][year-2019]*1000, 2))  \n",
    "    \n",
    "for x in data:\n",
    "    if len(x) == 14:\n",
    "        x.append(None)"
   ]
  },
  {
   "cell_type": "markdown",
   "metadata": {},
   "source": [
    "Add gdp_percapita/1000 into list"
   ]
  },
  {
   "cell_type": "code",
   "execution_count": 18,
   "metadata": {
    "collapsed": true
   },
   "outputs": [],
   "source": [
    "header.append(\"gdp_percapita_dividedby1000\") \n",
    "\n",
    "for x in gdp_percapita:\n",
    "    if x[1] in data_name:\n",
    "        index = data_name.index(x[1])\n",
    "        year = data_year[index]\n",
    "        \n",
    "        if ~np.isnan(x[year-2018]):\n",
    "            data[index].append(round(x[year-2018]/1000, 2))\n",
    "        elif ~np.isnan(x[year-2017]):\n",
    "            data[index].append(round(x[year-2017]/1000, 2))\n",
    "        elif ~np.isnan(x[year-2019]):\n",
    "            data[index].append(round(x[year-2019]/1000, 2)) \n",
    "        \n",
    "for x in data:\n",
    "    if len(x) == 15:\n",
    "        x.append(None)"
   ]
  },
  {
   "cell_type": "markdown",
   "metadata": {},
   "source": [
    "Add gini into list"
   ]
  },
  {
   "cell_type": "code",
   "execution_count": 19,
   "metadata": {
    "collapsed": true
   },
   "outputs": [],
   "source": [
    "header.append(\"gini_index\")  \n",
    "\n",
    "for x in gini:\n",
    "    if x[1] in data_name:\n",
    "        index = data_name.index(x[1])\n",
    "        year = data_year[index]\n",
    "        \n",
    "        if ~np.isnan(x[year-2018]):\n",
    "            data[index].append(round(x[year-2018], 2))\n",
    "        elif ~np.isnan(x[year-2017]):\n",
    "            data[index].append(round(x[year-2017], 2))\n",
    "        elif ~np.isnan(x[year-2019]):\n",
    "            data[index].append(round(x[year-2019], 2))\n",
    "        \n",
    "for x in data:\n",
    "    if len(x) == 16:\n",
    "        x.append(None)"
   ]
  },
  {
   "cell_type": "markdown",
   "metadata": {},
   "source": [
    "Sort data in alphabetical order"
   ]
  },
  {
   "cell_type": "code",
   "execution_count": 20,
   "metadata": {
    "collapsed": false
   },
   "outputs": [],
   "source": [
    "data = sorted(data, key=lambda data: data[0])"
   ]
  },
  {
   "cell_type": "markdown",
   "metadata": {},
   "source": [
    "Add full names"
   ]
  },
  {
   "cell_type": "code",
   "execution_count": 21,
   "metadata": {
    "collapsed": false
   },
   "outputs": [],
   "source": [
    "header.insert(1, \"full_name\")\n",
    "\n",
    "allnames = population[:, 0].tolist()\n",
    "allcodes = population[:, 1].tolist()\n",
    "\n",
    "for x in data:\n",
    "    index = allcodes.index(x[0])\n",
    "    x.insert(1, allnames[index])"
   ]
  },
  {
   "cell_type": "markdown",
   "metadata": {},
   "source": [
    "Convert list to matrix and then to data frame"
   ]
  },
  {
   "cell_type": "code",
   "execution_count": 22,
   "metadata": {
    "collapsed": false
   },
   "outputs": [],
   "source": [
    "dm = np.matrix(data)\n",
    "df = pd.DataFrame(dm, index = np.arange(1, 42), columns = header)"
   ]
  },
  {
   "cell_type": "markdown",
   "metadata": {},
   "source": [
    "Write data frame into a .csv file"
   ]
  },
  {
   "cell_type": "code",
   "execution_count": 23,
   "metadata": {
    "collapsed": true
   },
   "outputs": [],
   "source": [
    "df.to_csv(\"../data/alldata.csv\")"
   ]
  }
 ],
 "metadata": {
  "kernelspec": {
   "display_name": "Python 3",
   "language": "python",
   "name": "python3"
  },
  "language_info": {
   "codemirror_mode": {
    "name": "ipython",
    "version": 3
   },
   "file_extension": ".py",
   "mimetype": "text/x-python",
   "name": "python",
   "nbconvert_exporter": "python",
   "pygments_lexer": "ipython3",
   "version": "3.6.0"
  }
 },
 "nbformat": 4,
 "nbformat_minor": 2
}
