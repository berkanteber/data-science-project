{
 "cells": [
  {
   "cell_type": "code",
   "execution_count": 1,
   "metadata": {
    "collapsed": true
   },
   "outputs": [],
   "source": [
    "import numpy as np\n",
    "import pandas as pd\n",
    "import matplotlib.pyplot as plt"
   ]
  },
  {
   "cell_type": "code",
   "execution_count": 4,
   "metadata": {
    "collapsed": false
   },
   "outputs": [],
   "source": [
    "df = pd.read_csv(\"../data/minimizeddata_full.csv\", index_col = 0)"
   ]
  },
  {
   "cell_type": "code",
   "execution_count": 22,
   "metadata": {
    "collapsed": false
   },
   "outputs": [],
   "source": [
    "gdp_gini = df[['gdp_percapita_dividedby1000','gini_index']]"
   ]
  },
  {
   "cell_type": "code",
   "execution_count": 6,
   "metadata": {
    "collapsed": false
   },
   "outputs": [],
   "source": [
    "from sklearn.cluster.bicluster import SpectralCoclustering"
   ]
  },
  {
   "cell_type": "code",
   "execution_count": 38,
   "metadata": {
    "collapsed": true
   },
   "outputs": [],
   "source": [
    "model = SpectralCoclustering(n_clusters=2, random_state=0, ) # 6 clusters because there are 6 regions"
   ]
  },
  {
   "cell_type": "code",
   "execution_count": 39,
   "metadata": {
    "collapsed": false
   },
   "outputs": [
    {
     "data": {
      "text/plain": [
       "SpectralCoclustering(init='k-means++', mini_batch=False, n_clusters=2,\n",
       "           n_init=10, n_jobs=1, n_svd_vecs=None, random_state=0,\n",
       "           svd_method='randomized')"
      ]
     },
     "execution_count": 39,
     "metadata": {},
     "output_type": "execute_result"
    }
   ],
   "source": [
    "model.fit(gdp_gini)"
   ]
  },
  {
   "cell_type": "code",
   "execution_count": 40,
   "metadata": {
    "collapsed": false
   },
   "outputs": [
    {
     "data": {
      "text/plain": [
       "array([0, 0, 1, 1, 1, 0, 1, 1, 0, 0, 0, 1, 0, 0, 0, 0, 1, 0, 0, 1, 1, 1, 1,\n",
       "       0, 1, 0], dtype=int32)"
      ]
     },
     "execution_count": 40,
     "metadata": {},
     "output_type": "execute_result"
    }
   ],
   "source": [
    "model.row_labels_"
   ]
  },
  {
   "cell_type": "code",
   "execution_count": 41,
   "metadata": {
    "collapsed": false
   },
   "outputs": [
    {
     "data": {
      "text/plain": [
       "array([14, 12])"
      ]
     },
     "execution_count": 41,
     "metadata": {},
     "output_type": "execute_result"
    }
   ],
   "source": [
    "np.sum(model.rows_, axis=1)"
   ]
  },
  {
   "cell_type": "code",
   "execution_count": 42,
   "metadata": {
    "collapsed": true
   },
   "outputs": [],
   "source": [
    "df[\"group\"] = pd.Series(model.row_labels_, index=df.index) "
   ]
  },
  {
   "cell_type": "code",
   "execution_count": 45,
   "metadata": {
    "collapsed": false
   },
   "outputs": [
    {
     "data": {
      "text/html": [
       "<div>\n",
       "<table border=\"1\" class=\"dataframe\">\n",
       "  <thead>\n",
       "    <tr style=\"text-align: right;\">\n",
       "      <th></th>\n",
       "      <th>name</th>\n",
       "      <th>full_name</th>\n",
       "      <th>year</th>\n",
       "      <th>pryntry</th>\n",
       "      <th>try_public</th>\n",
       "      <th>try_private</th>\n",
       "      <th>pisa_read</th>\n",
       "      <th>pisa_math</th>\n",
       "      <th>pisa_science</th>\n",
       "      <th>rd_exp</th>\n",
       "      <th>researchers_rd_permillionpeople</th>\n",
       "      <th>high_tech_exports</th>\n",
       "      <th>patent_res_per100people</th>\n",
       "      <th>patent_nres_per100people</th>\n",
       "      <th>gdp_percapita_dividedby1000</th>\n",
       "      <th>gini_index</th>\n",
       "      <th>Group</th>\n",
       "      <th>group</th>\n",
       "    </tr>\n",
       "  </thead>\n",
       "  <tbody>\n",
       "    <tr>\n",
       "      <th>3</th>\n",
       "      <td>CHL</td>\n",
       "      <td>Chile</td>\n",
       "      <td>2014</td>\n",
       "      <td>3.1</td>\n",
       "      <td>0.86</td>\n",
       "      <td>1.44</td>\n",
       "      <td>459.0</td>\n",
       "      <td>423.0</td>\n",
       "      <td>447.0</td>\n",
       "      <td>0.38</td>\n",
       "      <td>24.09</td>\n",
       "      <td>6.17</td>\n",
       "      <td>0.03</td>\n",
       "      <td>0.15</td>\n",
       "      <td>14.57</td>\n",
       "      <td>50.45</td>\n",
       "      <td>1</td>\n",
       "      <td>1</td>\n",
       "    </tr>\n",
       "    <tr>\n",
       "      <th>4</th>\n",
       "      <td>COL</td>\n",
       "      <td>Colombia</td>\n",
       "      <td>2013</td>\n",
       "      <td>4.3</td>\n",
       "      <td>1.12</td>\n",
       "      <td>1.08</td>\n",
       "      <td>425.0</td>\n",
       "      <td>390.0</td>\n",
       "      <td>416.0</td>\n",
       "      <td>0.26</td>\n",
       "      <td>3.21</td>\n",
       "      <td>7.39</td>\n",
       "      <td>0.01</td>\n",
       "      <td>0.04</td>\n",
       "      <td>8.03</td>\n",
       "      <td>53.49</td>\n",
       "      <td>1</td>\n",
       "      <td>1</td>\n",
       "    </tr>\n",
       "    <tr>\n",
       "      <th>5</th>\n",
       "      <td>CZE</td>\n",
       "      <td>Czech Republic</td>\n",
       "      <td>2013</td>\n",
       "      <td>2.7</td>\n",
       "      <td>1.00</td>\n",
       "      <td>0.30</td>\n",
       "      <td>487.0</td>\n",
       "      <td>492.0</td>\n",
       "      <td>493.0</td>\n",
       "      <td>1.91</td>\n",
       "      <td>309.09</td>\n",
       "      <td>14.79</td>\n",
       "      <td>0.09</td>\n",
       "      <td>0.01</td>\n",
       "      <td>19.92</td>\n",
       "      <td>26.13</td>\n",
       "      <td>2</td>\n",
       "      <td>1</td>\n",
       "    </tr>\n",
       "    <tr>\n",
       "      <th>7</th>\n",
       "      <td>ESP</td>\n",
       "      <td>Spain</td>\n",
       "      <td>2013</td>\n",
       "      <td>3.0</td>\n",
       "      <td>0.90</td>\n",
       "      <td>0.40</td>\n",
       "      <td>496.0</td>\n",
       "      <td>486.0</td>\n",
       "      <td>493.0</td>\n",
       "      <td>1.26</td>\n",
       "      <td>56.90</td>\n",
       "      <td>7.67</td>\n",
       "      <td>0.06</td>\n",
       "      <td>0.00</td>\n",
       "      <td>29.37</td>\n",
       "      <td>35.89</td>\n",
       "      <td>2</td>\n",
       "      <td>1</td>\n",
       "    </tr>\n",
       "    <tr>\n",
       "      <th>8</th>\n",
       "      <td>EST</td>\n",
       "      <td>Estonia</td>\n",
       "      <td>2013</td>\n",
       "      <td>3.1</td>\n",
       "      <td>1.63</td>\n",
       "      <td>0.37</td>\n",
       "      <td>519.0</td>\n",
       "      <td>520.0</td>\n",
       "      <td>534.0</td>\n",
       "      <td>1.71</td>\n",
       "      <td>2533.02</td>\n",
       "      <td>10.55</td>\n",
       "      <td>0.02</td>\n",
       "      <td>0.01</td>\n",
       "      <td>19.03</td>\n",
       "      <td>33.15</td>\n",
       "      <td>2</td>\n",
       "      <td>1</td>\n",
       "    </tr>\n",
       "    <tr>\n",
       "      <th>12</th>\n",
       "      <td>HUN</td>\n",
       "      <td>Hungary</td>\n",
       "      <td>2013</td>\n",
       "      <td>2.5</td>\n",
       "      <td>0.82</td>\n",
       "      <td>0.48</td>\n",
       "      <td>470.0</td>\n",
       "      <td>477.0</td>\n",
       "      <td>477.0</td>\n",
       "      <td>1.40</td>\n",
       "      <td>255.01</td>\n",
       "      <td>16.34</td>\n",
       "      <td>0.06</td>\n",
       "      <td>0.01</td>\n",
       "      <td>13.61</td>\n",
       "      <td>30.55</td>\n",
       "      <td>1</td>\n",
       "      <td>1</td>\n",
       "    </tr>\n",
       "    <tr>\n",
       "      <th>17</th>\n",
       "      <td>LVA</td>\n",
       "      <td>Latvia</td>\n",
       "      <td>2013</td>\n",
       "      <td>3.1</td>\n",
       "      <td>0.95</td>\n",
       "      <td>0.45</td>\n",
       "      <td>488.0</td>\n",
       "      <td>482.0</td>\n",
       "      <td>490.0</td>\n",
       "      <td>0.61</td>\n",
       "      <td>895.25</td>\n",
       "      <td>13.01</td>\n",
       "      <td>0.11</td>\n",
       "      <td>0.00</td>\n",
       "      <td>15.03</td>\n",
       "      <td>35.48</td>\n",
       "      <td>1</td>\n",
       "      <td>1</td>\n",
       "    </tr>\n",
       "    <tr>\n",
       "      <th>20</th>\n",
       "      <td>POL</td>\n",
       "      <td>Poland</td>\n",
       "      <td>2013</td>\n",
       "      <td>3.4</td>\n",
       "      <td>1.13</td>\n",
       "      <td>0.27</td>\n",
       "      <td>506.0</td>\n",
       "      <td>504.0</td>\n",
       "      <td>501.0</td>\n",
       "      <td>0.87</td>\n",
       "      <td>48.65</td>\n",
       "      <td>7.81</td>\n",
       "      <td>0.11</td>\n",
       "      <td>0.00</td>\n",
       "      <td>13.78</td>\n",
       "      <td>32.55</td>\n",
       "      <td>1</td>\n",
       "      <td>1</td>\n",
       "    </tr>\n",
       "    <tr>\n",
       "      <th>21</th>\n",
       "      <td>PRT</td>\n",
       "      <td>Portugal</td>\n",
       "      <td>2013</td>\n",
       "      <td>4.7</td>\n",
       "      <td>0.81</td>\n",
       "      <td>0.59</td>\n",
       "      <td>498.0</td>\n",
       "      <td>492.0</td>\n",
       "      <td>501.0</td>\n",
       "      <td>1.33</td>\n",
       "      <td>345.71</td>\n",
       "      <td>4.31</td>\n",
       "      <td>0.06</td>\n",
       "      <td>0.00</td>\n",
       "      <td>21.62</td>\n",
       "      <td>36.04</td>\n",
       "      <td>2</td>\n",
       "      <td>1</td>\n",
       "    </tr>\n",
       "    <tr>\n",
       "      <th>22</th>\n",
       "      <td>RUS</td>\n",
       "      <td>Russian Federation</td>\n",
       "      <td>2013</td>\n",
       "      <td>2.3</td>\n",
       "      <td>0.91</td>\n",
       "      <td>0.49</td>\n",
       "      <td>495.0</td>\n",
       "      <td>494.0</td>\n",
       "      <td>487.0</td>\n",
       "      <td>1.13</td>\n",
       "      <td>21.41</td>\n",
       "      <td>10.01</td>\n",
       "      <td>0.20</td>\n",
       "      <td>0.11</td>\n",
       "      <td>15.55</td>\n",
       "      <td>41.59</td>\n",
       "      <td>1</td>\n",
       "      <td>1</td>\n",
       "    </tr>\n",
       "    <tr>\n",
       "      <th>23</th>\n",
       "      <td>SVK</td>\n",
       "      <td>Slovak Republic</td>\n",
       "      <td>2013</td>\n",
       "      <td>2.7</td>\n",
       "      <td>0.83</td>\n",
       "      <td>0.27</td>\n",
       "      <td>453.0</td>\n",
       "      <td>475.0</td>\n",
       "      <td>461.0</td>\n",
       "      <td>0.83</td>\n",
       "      <td>502.01</td>\n",
       "      <td>10.31</td>\n",
       "      <td>0.03</td>\n",
       "      <td>0.00</td>\n",
       "      <td>18.19</td>\n",
       "      <td>26.12</td>\n",
       "      <td>2</td>\n",
       "      <td>1</td>\n",
       "    </tr>\n",
       "    <tr>\n",
       "      <th>25</th>\n",
       "      <td>TUR</td>\n",
       "      <td>Turkey</td>\n",
       "      <td>2013</td>\n",
       "      <td>3.3</td>\n",
       "      <td>1.48</td>\n",
       "      <td>0.33</td>\n",
       "      <td>428.0</td>\n",
       "      <td>420.0</td>\n",
       "      <td>425.0</td>\n",
       "      <td>0.94</td>\n",
       "      <td>15.33</td>\n",
       "      <td>1.88</td>\n",
       "      <td>0.06</td>\n",
       "      <td>0.00</td>\n",
       "      <td>10.80</td>\n",
       "      <td>40.18</td>\n",
       "      <td>1</td>\n",
       "      <td>1</td>\n",
       "    </tr>\n",
       "  </tbody>\n",
       "</table>\n",
       "</div>"
      ],
      "text/plain": [
       "   name           full_name  year  pryntry  try_public  try_private  \\\n",
       "3   CHL               Chile  2014      3.1        0.86         1.44   \n",
       "4   COL            Colombia  2013      4.3        1.12         1.08   \n",
       "5   CZE      Czech Republic  2013      2.7        1.00         0.30   \n",
       "7   ESP               Spain  2013      3.0        0.90         0.40   \n",
       "8   EST             Estonia  2013      3.1        1.63         0.37   \n",
       "12  HUN             Hungary  2013      2.5        0.82         0.48   \n",
       "17  LVA              Latvia  2013      3.1        0.95         0.45   \n",
       "20  POL              Poland  2013      3.4        1.13         0.27   \n",
       "21  PRT            Portugal  2013      4.7        0.81         0.59   \n",
       "22  RUS  Russian Federation  2013      2.3        0.91         0.49   \n",
       "23  SVK     Slovak Republic  2013      2.7        0.83         0.27   \n",
       "25  TUR              Turkey  2013      3.3        1.48         0.33   \n",
       "\n",
       "    pisa_read  pisa_math  pisa_science  rd_exp  \\\n",
       "3       459.0      423.0         447.0    0.38   \n",
       "4       425.0      390.0         416.0    0.26   \n",
       "5       487.0      492.0         493.0    1.91   \n",
       "7       496.0      486.0         493.0    1.26   \n",
       "8       519.0      520.0         534.0    1.71   \n",
       "12      470.0      477.0         477.0    1.40   \n",
       "17      488.0      482.0         490.0    0.61   \n",
       "20      506.0      504.0         501.0    0.87   \n",
       "21      498.0      492.0         501.0    1.33   \n",
       "22      495.0      494.0         487.0    1.13   \n",
       "23      453.0      475.0         461.0    0.83   \n",
       "25      428.0      420.0         425.0    0.94   \n",
       "\n",
       "    researchers_rd_permillionpeople  high_tech_exports  \\\n",
       "3                             24.09               6.17   \n",
       "4                              3.21               7.39   \n",
       "5                            309.09              14.79   \n",
       "7                             56.90               7.67   \n",
       "8                           2533.02              10.55   \n",
       "12                           255.01              16.34   \n",
       "17                           895.25              13.01   \n",
       "20                            48.65               7.81   \n",
       "21                           345.71               4.31   \n",
       "22                            21.41              10.01   \n",
       "23                           502.01              10.31   \n",
       "25                            15.33               1.88   \n",
       "\n",
       "    patent_res_per100people  patent_nres_per100people  \\\n",
       "3                      0.03                      0.15   \n",
       "4                      0.01                      0.04   \n",
       "5                      0.09                      0.01   \n",
       "7                      0.06                      0.00   \n",
       "8                      0.02                      0.01   \n",
       "12                     0.06                      0.01   \n",
       "17                     0.11                      0.00   \n",
       "20                     0.11                      0.00   \n",
       "21                     0.06                      0.00   \n",
       "22                     0.20                      0.11   \n",
       "23                     0.03                      0.00   \n",
       "25                     0.06                      0.00   \n",
       "\n",
       "    gdp_percapita_dividedby1000  gini_index  Group  group  \n",
       "3                         14.57       50.45      1      1  \n",
       "4                          8.03       53.49      1      1  \n",
       "5                         19.92       26.13      2      1  \n",
       "7                         29.37       35.89      2      1  \n",
       "8                         19.03       33.15      2      1  \n",
       "12                        13.61       30.55      1      1  \n",
       "17                        15.03       35.48      1      1  \n",
       "20                        13.78       32.55      1      1  \n",
       "21                        21.62       36.04      2      1  \n",
       "22                        15.55       41.59      1      1  \n",
       "23                        18.19       26.12      2      1  \n",
       "25                        10.80       40.18      1      1  "
      ]
     },
     "execution_count": 45,
     "metadata": {},
     "output_type": "execute_result"
    }
   ],
   "source": [
    "df[df['group'] == 1]"
   ]
  },
  {
   "cell_type": "code",
   "execution_count": 29,
   "metadata": {
    "collapsed": false
   },
   "outputs": [],
   "source": [
    "correlations = df.iloc[:, 3:].T.corr()"
   ]
  },
  {
   "cell_type": "code",
   "execution_count": 31,
   "metadata": {
    "collapsed": false
   },
   "outputs": [],
   "source": [
    "correlations = np.array(correlations)"
   ]
  },
  {
   "cell_type": "code",
   "execution_count": 32,
   "metadata": {
    "collapsed": true
   },
   "outputs": [],
   "source": [
    "from bokeh.models import HoverTool, ColumnDataSource\n",
    "from bokeh.plotting import figure\n",
    "from bokeh.charts import Bar, output_file, show\n",
    "from bokeh.io import output_notebook, push_notebook, show"
   ]
  },
  {
   "cell_type": "code",
   "execution_count": null,
   "metadata": {
    "collapsed": true
   },
   "outputs": [],
   "source": []
  }
 ],
 "metadata": {
  "kernelspec": {
   "display_name": "Python 3",
   "language": "python",
   "name": "python3"
  },
  "language_info": {
   "codemirror_mode": {
    "name": "ipython",
    "version": 3
   },
   "file_extension": ".py",
   "mimetype": "text/x-python",
   "name": "python",
   "nbconvert_exporter": "python",
   "pygments_lexer": "ipython3",
   "version": "3.6.0"
  }
 },
 "nbformat": 4,
 "nbformat_minor": 2
}
