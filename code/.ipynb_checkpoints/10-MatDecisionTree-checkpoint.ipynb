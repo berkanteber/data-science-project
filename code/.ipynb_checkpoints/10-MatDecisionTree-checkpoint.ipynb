{
 "cells": [
  {
   "cell_type": "code",
   "execution_count": 56,
   "metadata": {
    "collapsed": false
   },
   "outputs": [],
   "source": [
    "import matplotlib.pyplot as plt\n",
    "\n",
    "import numpy as np\n",
    "import pandas as pd\n",
    "\n",
    "import itertools\n",
    "from sklearn import tree\n",
    "from sklearn.tree import DecisionTreeClassifier\n",
    "from sklearn.model_selection import train_test_split\n",
    "from sklearn.model_selection import cross_val_score\n",
    "from sklearn.metrics import confusion_matrix"
   ]
  },
  {
   "cell_type": "code",
   "execution_count": 57,
   "metadata": {
    "collapsed": false
   },
   "outputs": [],
   "source": [
    "df = pd.read_csv(\"../data/student/student-mat.csv\", delimiter = \";\")\n",
    "\n",
    "for i in range(len(df)):\n",
    "    if (df.get_value(i, 'age') <= 18): \n",
    "        df.set_value(i, 'age', 0)\n",
    "    else:                              \n",
    "        df.set_value(i, 'age', 1)\n",
    "\n",
    "for i in range(len(df)):     \n",
    "    if   (df.get_value(i, 'absences') < 20):\n",
    "        df.set_value(i, 'absences', 0)\n",
    "    elif (df.get_value(i, 'absences') < 40):\n",
    "        df.set_value(i, 'absences', 1)\n",
    "    elif (df.get_value(i, 'absences') < 60):\n",
    "        df.set_value(i, 'absences', 2)\n",
    "    elif (df.get_value(i, 'absences') < 80):\n",
    "        df.set_value(i, 'absences', 3)\n",
    "    else:\n",
    "        df.set_value(i, 'absences', 4)\n",
    "\n",
    "for i in range(len(df)):     \n",
    "    if   (df.get_value(i, 'G1') < 4):\n",
    "        df.set_value(i, 'G1', 0)\n",
    "    elif (df.get_value(i, 'G1') < 8):\n",
    "        df.set_value(i, 'G1', 1)\n",
    "    elif (df.get_value(i, 'G1') < 12):\n",
    "        df.set_value(i, 'G1', 2)\n",
    "    elif (df.get_value(i, 'G1') < 16):\n",
    "        df.set_value(i, 'G1', 3)\n",
    "    else:\n",
    "        df.set_value(i, 'G1', 4)\n",
    "        \n",
    "for i in range(len(df)):     \n",
    "    if   (df.get_value(i, 'G2') < 4):\n",
    "        df.set_value(i, 'G2', 0)\n",
    "    elif (df.get_value(i, 'G2') < 8):\n",
    "        df.set_value(i, 'G2', 1)\n",
    "    elif (df.get_value(i, 'G2') < 12):\n",
    "        df.set_value(i, 'G2', 2)\n",
    "    elif (df.get_value(i, 'G2') < 16):\n",
    "        df.set_value(i, 'G2', 3)\n",
    "    else:\n",
    "        df.set_value(i, 'G2', 4)        \n",
    "        \n",
    "for i in range(len(df)):     \n",
    "    if   (df.get_value(i, 'G3') < 4):\n",
    "        df.set_value(i, 'G3', 0)\n",
    "    elif (df.get_value(i, 'G3') < 8):\n",
    "        df.set_value(i, 'G3', 1)\n",
    "    elif (df.get_value(i, 'G3') < 12):\n",
    "        df.set_value(i, 'G3', 2)\n",
    "    elif (df.get_value(i, 'G3') < 16):\n",
    "        df.set_value(i, 'G3', 3)\n",
    "    else:\n",
    "        df.set_value(i, 'G3', 4)\n",
    "        \n",
    "header = list(df)"
   ]
  },
  {
   "cell_type": "code",
   "execution_count": 58,
   "metadata": {
    "collapsed": false
   },
   "outputs": [],
   "source": [
    "original = []\n",
    "for attr in header:\n",
    "    counts = df[attr].value_counts()\n",
    "    original.append(counts.index.tolist())\n",
    "    \n",
    "    for i in range(len(df)):\n",
    "        value = df.get_value(i, attr)\n",
    "        new = counts.index.tolist().index(value)\n",
    "        df.set_value(i, attr, new)"
   ]
  },
  {
   "cell_type": "code",
   "execution_count": 59,
   "metadata": {
    "collapsed": false
   },
   "outputs": [],
   "source": [
    "def calcScores(X, y):\n",
    "    dtc_1 = DecisionTreeClassifier(criterion='entropy', max_depth=1)\n",
    "    dtc_2 = DecisionTreeClassifier(criterion='entropy', max_depth=2)\n",
    "    dtc_3 = DecisionTreeClassifier(criterion='entropy', max_depth=3)\n",
    "    dtc_4 = DecisionTreeClassifier(criterion='entropy', max_depth=4)\n",
    "    dtc_5 = DecisionTreeClassifier(criterion='entropy', max_depth=5)\n",
    "    dtc_6 = DecisionTreeClassifier(criterion='entropy', max_depth=6)\n",
    "\n",
    "    scoresAcc_1 = cross_val_score(dtc_1, X, y, cv=5, scoring='accuracy').mean()\n",
    "    scoresAcc_2 = cross_val_score(dtc_2, X, y, cv=5, scoring='accuracy').mean()\n",
    "    scoresAcc_3 = cross_val_score(dtc_3, X, y, cv=5, scoring='accuracy').mean()\n",
    "    scoresAcc_4 = cross_val_score(dtc_4, X, y, cv=5, scoring='accuracy').mean()\n",
    "    scoresAcc_5 = cross_val_score(dtc_5, X, y, cv=5, scoring='accuracy').mean()\n",
    "    scoresAcc_6 = cross_val_score(dtc_6, X, y, cv=5, scoring='accuracy').mean()\n",
    "\n",
    "    scoresAcc = [{1 : scoresAcc_1}, {2 : scoresAcc_2}, {3 : scoresAcc_3}, {4 : scoresAcc_4}, {5 : scoresAcc_5}, {6 : scoresAcc_6}]\n",
    "    return scoresAcc"
   ]
  },
  {
   "cell_type": "code",
   "execution_count": 60,
   "metadata": {
    "collapsed": true
   },
   "outputs": [],
   "source": [
    "def plot_confusion_matrix(cm, classes, title='Confusion matrix', cmap=plt.cm.Blues):\n",
    "    \"\"\"\n",
    "    Print and plot the confusion matrix. Normalization can be applied by setting `normalize=True`.\n",
    "    \"\"\"\n",
    "    plt.imshow(cm, interpolation='nearest', cmap=cmap)\n",
    "    plt.title(title)\n",
    "    plt.colorbar()\n",
    "    tick_marks = np.arange(len(classes))\n",
    "    plt.xticks(tick_marks, classes)\n",
    "    plt.yticks(tick_marks, classes)\n",
    "    np.set_printoptions(precision=2)\n",
    "\n",
    "    thresh = cm.max() / 2.\n",
    "    for i, j in itertools.product(range(cm.shape[0]), range(cm.shape[1])):\n",
    "        plt.text(j, i, cm[i, j],\n",
    "                 horizontalalignment=\"center\",\n",
    "                 color=\"white\" if cm[i, j] > thresh else \"black\")\n",
    "\n",
    "    plt.tight_layout()\n",
    "    plt.ylabel('True label')\n",
    "    plt.xlabel('Predicted label')\n",
    "    plt.show()"
   ]
  },
  {
   "cell_type": "code",
   "execution_count": 61,
   "metadata": {
    "collapsed": true
   },
   "outputs": [],
   "source": [
    "y = pd.DataFrame.copy(df.iloc[:, -1])"
   ]
  },
  {
   "cell_type": "code",
   "execution_count": 62,
   "metadata": {
    "collapsed": false
   },
   "outputs": [
    {
     "data": {
      "text/plain": [
       "[{1: 0.41274103299419762},\n",
       " {2: 0.37936284687339539},\n",
       " {3: 0.38728981598179912},\n",
       " {4: 0.37696271535933984},\n",
       " {5: 0.37949436092896005},\n",
       " {6: 0.38118740144056601}]"
      ]
     },
     "execution_count": 62,
     "metadata": {},
     "output_type": "execute_result"
    }
   ],
   "source": [
    "X = pd.DataFrame.copy(df.iloc[:, :-3])\n",
    "calcScores(X, y)"
   ]
  },
  {
   "cell_type": "code",
   "execution_count": 63,
   "metadata": {
    "collapsed": false
   },
   "outputs": [
    {
     "data": {
      "image/png": "[encoded data removed]",
      "text/plain": [
       "<matplotlib.figure.Figure at 0x11c693400>"
      ]
     },
     "metadata": {},
     "output_type": "display_data"
    }
   ],
   "source": [
    "X_train, X_test, y_train, y_test= train_test_split(X, y, test_size= 0.4)\n",
    "dtc = DecisionTreeClassifier(criterion='entropy', max_depth=1)\n",
    "dtc.fit(X_train, y_train)\n",
    "pred = dtc.predict(X_test)\n",
    "cnf_matrix = confusion_matrix(y_test, pred)\n",
    "plot_confusion_matrix(cnf_matrix, classes=original[-1], title='Confusion matrix for DTC, without normalization')"
   ]
  },
  {
   "cell_type": "code",
   "execution_count": 64,
   "metadata": {
    "collapsed": false
   },
   "outputs": [
    {
     "data": {
      "text/plain": [
       "[{1: 0.49437472981776781},\n",
       " {2: 0.49171806471384522},\n",
       " {3: 0.64667044160715048},\n",
       " {4: 0.62842286639754996},\n",
       " {5: 0.5982834168488177},\n",
       " {6: 0.60328419822090695}]"
      ]
     },
     "execution_count": 64,
     "metadata": {},
     "output_type": "execute_result"
    }
   ],
   "source": [
    "X = pd.DataFrame.copy(df.iloc[:, :-2])\n",
    "calcScores(X, y)"
   ]
  },
  {
   "cell_type": "code",
   "execution_count": 65,
   "metadata": {
    "collapsed": false
   },
   "outputs": [
    {
     "data": {
      "image/png": "[encoded data removed]",
      "text/plain": [
       "<matplotlib.figure.Figure at 0x11c495828>"
      ]
     },
     "metadata": {},
     "output_type": "display_data"
    }
   ],
   "source": [
    "X_train, X_test, y_train, y_test= train_test_split(X, y, test_size= 0.4)\n",
    "dtc = DecisionTreeClassifier(criterion='entropy', max_depth=3)\n",
    "dtc.fit(X_train, y_train)\n",
    "pred = dtc.predict(X_test)\n",
    "cnf_matrix = confusion_matrix(y_test, pred)\n",
    "plot_confusion_matrix(cnf_matrix, classes=original[-1], title='Confusion matrix for DTC, without normalization')"
   ]
  },
  {
   "cell_type": "code",
   "execution_count": 66,
   "metadata": {
    "collapsed": false
   },
   "outputs": [
    {
     "data": {
      "text/plain": [
       "[{1: 0.63570850153128633},\n",
       " {2: 0.69117739581874604},\n",
       " {3: 0.76235897248555473},\n",
       " {4: 0.77976794263714089},\n",
       " {5: 0.7489246493465902},\n",
       " {6: 0.71579974955502379}]"
      ]
     },
     "execution_count": 66,
     "metadata": {},
     "output_type": "execute_result"
    }
   ],
   "source": [
    "X = pd.DataFrame.copy(df.iloc[:, :-1])\n",
    "calcScores(X, y)"
   ]
  },
  {
   "cell_type": "code",
   "execution_count": 67,
   "metadata": {
    "collapsed": false
   },
   "outputs": [
    {
     "data": {
      "image/png": "[encoded data removed]",
      "text/plain": [
       "<matplotlib.figure.Figure at 0x10e9fc6d8>"
      ]
     },
     "metadata": {},
     "output_type": "display_data"
    }
   ],
   "source": [
    "X_train, X_test, y_train, y_test= train_test_split(X, y, test_size= 0.4)\n",
    "dtc = DecisionTreeClassifier(criterion='entropy', max_depth=4)\n",
    "dtc.fit(X_train, y_train)\n",
    "pred = dtc.predict(X_test)\n",
    "cnf_matrix = confusion_matrix(y_test, pred)\n",
    "plot_confusion_matrix(cnf_matrix, classes=original[-1], title='Confusion matrix for DTC, without normalization')"
   ]
  }
 ],
 "metadata": {
  "kernelspec": {
   "display_name": "Python 3",
   "language": "python",
   "name": "python3"
  },
  "language_info": {
   "codemirror_mode": {
    "name": "ipython",
    "version": 3
   },
   "file_extension": ".py",
   "mimetype": "text/x-python",
   "name": "python",
   "nbconvert_exporter": "python",
   "pygments_lexer": "ipython3",
   "version": "3.6.0"
  }
 },
 "nbformat": 4,
 "nbformat_minor": 2
}
