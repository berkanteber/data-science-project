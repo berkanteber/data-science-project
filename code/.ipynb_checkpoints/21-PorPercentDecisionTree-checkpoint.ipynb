{
 "cells": [
  {
   "cell_type": "markdown",
   "metadata": {},
   "source": [
    "Import libraries"
   ]
  },
  {
   "cell_type": "code",
   "execution_count": 1,
   "metadata": {
    "collapsed": false
   },
   "outputs": [],
   "source": [
    "import matplotlib.pyplot as plt\n",
    "from mpl_toolkits.axes_grid1 import make_axes_locatable\n",
    "\n",
    "import numpy as np\n",
    "import pandas as pd\n",
    "\n",
    "import itertools\n",
    "from sklearn import tree\n",
    "from sklearn.tree import DecisionTreeClassifier\n",
    "from sklearn.model_selection import train_test_split\n",
    "from sklearn.model_selection import cross_val_score\n",
    "from sklearn.metrics import confusion_matrix"
   ]
  },
  {
   "cell_type": "markdown",
   "metadata": {},
   "source": [
    "Read data"
   ]
  },
  {
   "cell_type": "code",
   "execution_count": 2,
   "metadata": {
    "collapsed": false
   },
   "outputs": [],
   "source": [
    "df = pd.read_csv(\"../data/student/student-por-percentiled.csv\")\n",
    "\n",
    "header = list(df)"
   ]
  },
  {
   "cell_type": "markdown",
   "metadata": {},
   "source": [
    "Replace text with dummy variables"
   ]
  },
  {
   "cell_type": "code",
   "execution_count": 3,
   "metadata": {
    "collapsed": false
   },
   "outputs": [],
   "source": [
    "original = []\n",
    "for attr in header:\n",
    "    counts = df[attr].value_counts()\n",
    "    original.append(counts.index.tolist())\n",
    "    \n",
    "    for i in range(len(df)):\n",
    "        value = df.get_value(i, attr)\n",
    "        new = counts.index.tolist().index(value)\n",
    "        df.set_value(i, attr, new)"
   ]
  },
  {
   "cell_type": "markdown",
   "metadata": {},
   "source": [
    "To calculate scores"
   ]
  },
  {
   "cell_type": "code",
   "execution_count": 4,
   "metadata": {
    "collapsed": false
   },
   "outputs": [],
   "source": [
    "def calcScores(X, y):\n",
    "    dtc_1 = DecisionTreeClassifier(criterion='entropy', max_depth=1)\n",
    "    dtc_2 = DecisionTreeClassifier(criterion='entropy', max_depth=2)\n",
    "    dtc_3 = DecisionTreeClassifier(criterion='entropy', max_depth=3)\n",
    "    dtc_4 = DecisionTreeClassifier(criterion='entropy', max_depth=4)\n",
    "    dtc_5 = DecisionTreeClassifier(criterion='entropy', max_depth=5)\n",
    "    dtc_6 = DecisionTreeClassifier(criterion='entropy', max_depth=6)\n",
    "\n",
    "    scoresAcc_1 = cross_val_score(dtc_1, X, y, cv=5, scoring='accuracy').mean()\n",
    "    scoresAcc_2 = cross_val_score(dtc_2, X, y, cv=5, scoring='accuracy').mean()\n",
    "    scoresAcc_3 = cross_val_score(dtc_3, X, y, cv=5, scoring='accuracy').mean()\n",
    "    scoresAcc_4 = cross_val_score(dtc_4, X, y, cv=5, scoring='accuracy').mean()\n",
    "    scoresAcc_5 = cross_val_score(dtc_5, X, y, cv=5, scoring='accuracy').mean()\n",
    "    scoresAcc_6 = cross_val_score(dtc_6, X, y, cv=5, scoring='accuracy').mean()\n",
    "\n",
    "    scoresAcc = [{1 : scoresAcc_1}, {2 : scoresAcc_2}, {3 : scoresAcc_3}, {4 : scoresAcc_4}, {5 : scoresAcc_5}, {6 : scoresAcc_6}]\n",
    "    return scoresAcc"
   ]
  },
  {
   "cell_type": "markdown",
   "metadata": {},
   "source": [
    "To plot confusion matrix"
   ]
  },
  {
   "cell_type": "code",
   "execution_count": 5,
   "metadata": {
    "collapsed": false
   },
   "outputs": [],
   "source": [
    "def rearrangeMatrix(matrix):\n",
    "    matrix[:,[0, 1]] = matrix[:,[1, 0]]\n",
    "    matrix[[0, 1], :] = matrix[[1, 0], :]\n",
    "\n",
    "def plot_confusion_matrix(cm, classes=['yes', 'no'], title='Confusion matrix', cmap=plt.cm.Blues):\n",
    "    \"\"\"\n",
    "    Print and plot the confusion matrix. Normalization can be applied by setting `normalize=True`.\n",
    "    \"\"\"\n",
    "    \n",
    "    rearrangeMatrix(cm)\n",
    "    \n",
    "    fig = plt.figure(figsize=(12, 6))\n",
    "    \n",
    "    tick_marks = np.arange(len(classes))\n",
    "    \n",
    "    \"\"\"\n",
    "    Without Normalization\n",
    "    \"\"\"\n",
    "    \n",
    "    ax1 = fig.add_subplot(121)\n",
    "    \n",
    "    divider = make_axes_locatable(ax1)\n",
    "    cax = divider.append_axes('right', size='5%', pad=0.05)\n",
    "    im = ax1.imshow(cm, interpolation='nearest', cmap=cmap)\n",
    "    fig.colorbar(im, cax = cax, orientation='vertical')\n",
    "    \n",
    "    ax1.set_title(title + \", without normalization\")\n",
    "    ax1.set_xticks(np.arange(len(classes)))\n",
    "    ax1.set_xticklabels(classes)\n",
    "    ax1.set_yticks(np.arange(len(classes)))\n",
    "    ax1.set_yticklabels(classes)\n",
    "    np.set_printoptions(precision=2)\n",
    "    \n",
    "    thresh = cm.max() / 2.\n",
    "    for i, j in itertools.product(range(cm.shape[0]), range(cm.shape[1])):\n",
    "        val = cm[i, j]\n",
    "        ax1.annotate(val, xy=(j, i), ha=\"center\", color=\"white\" if val > thresh else \"black\")\n",
    "        \n",
    "    ax1.set_ylabel('True label')\n",
    "    ax1.set_xlabel('Predicted label')\n",
    "    \n",
    "   \n",
    "    \"\"\"\n",
    "    With Normalization\n",
    "    \"\"\"\n",
    "\n",
    "    ax2 = fig.add_subplot(122)\n",
    "    \n",
    "    cm = cm.astype('float') / cm.sum(axis=1)[:, np.newaxis]\n",
    "    \n",
    "    divider = make_axes_locatable(ax2)\n",
    "    cax = divider.append_axes('right', size='5%', pad=0.05)\n",
    "    im = ax2.imshow(cm, interpolation='nearest', cmap=cmap)\n",
    "    fig.colorbar(im, cax = cax, orientation='vertical')\n",
    "    \n",
    "    ax2.set_title(title + \", with normalization\")\n",
    "    ax2.set_xticks(np.arange(len(classes)))\n",
    "    ax2.set_xticklabels(classes)\n",
    "    ax2.set_yticks(np.arange(len(classes)))\n",
    "    ax2.set_yticklabels(classes)\n",
    "    np.set_printoptions(precision=2)\n",
    "    \n",
    "    thresh = cm.max() / 2.\n",
    "    for i, j in itertools.product(range(cm.shape[0]), range(cm.shape[1])):\n",
    "        val = round(cm[i, j], 2)\n",
    "        ax2.annotate(val, xy=(j, i), ha=\"center\", color=\"white\" if val > thresh else \"black\")\n",
    "        \n",
    "    ax2.set_ylabel('True label')\n",
    "    ax2.set_xlabel('Predicted label')\n",
    "    \n",
    "    plt.tight_layout()\n",
    "    plt.show()"
   ]
  },
  {
   "cell_type": "markdown",
   "metadata": {},
   "source": [
    "X data, always same"
   ]
  },
  {
   "cell_type": "code",
   "execution_count": 6,
   "metadata": {
    "collapsed": true
   },
   "outputs": [],
   "source": [
    "X = pd.DataFrame.copy(df.iloc[:, :-4]).astype(int)"
   ]
  },
  {
   "cell_type": "markdown",
   "metadata": {},
   "source": [
    "y: Top 10"
   ]
  },
  {
   "cell_type": "code",
   "execution_count": 7,
   "metadata": {
    "collapsed": false
   },
   "outputs": [
    {
     "data": {
      "text/plain": [
       "[{1: 0.9013953488372094},\n",
       " {2: 0.8998568872987478},\n",
       " {3: 0.9013953488372094},\n",
       " {4: 0.89831842576028631},\n",
       " {5: 0.88907573047107924},\n",
       " {6: 0.88907573047107924}]"
      ]
     },
     "execution_count": 7,
     "metadata": {},
     "output_type": "execute_result"
    }
   ],
   "source": [
    "y = pd.DataFrame.copy(df.iloc[:, -4]).astype(int)\n",
    "calcScores(X, y)"
   ]
  },
  {
   "cell_type": "code",
   "execution_count": 8,
   "metadata": {
    "collapsed": false
   },
   "outputs": [
    {
     "data": {
      "image/png": "[encoded data removed]",
      "text/plain": [
       "<matplotlib.figure.Figure at 0x1130494e0>"
      ]
     },
     "metadata": {},
     "output_type": "display_data"
    }
   ],
   "source": [
    "X_train, X_test, y_train, y_test= train_test_split(X, y, test_size= 0.4)\n",
    "dtc = DecisionTreeClassifier(criterion='entropy', max_depth=1)\n",
    "dtc = dtc.fit(X_train, y_train)\n",
    "tree.export_graphviz(dtc, out_file='../other/mat-top10percent.dot')  \n",
    "pred = dtc.predict(X_test)\n",
    "cnf_matrix = confusion_matrix(y_test, pred)\n",
    "plot_confusion_matrix(cnf_matrix, title='Confusion matrix for DTC')"
   ]
  },
  {
   "cell_type": "markdown",
   "metadata": {
    "collapsed": false
   },
   "source": [
    "y: Bottom 10"
   ]
  },
  {
   "cell_type": "code",
   "execution_count": 9,
   "metadata": {
    "collapsed": false
   },
   "outputs": [
    {
     "data": {
      "text/plain": [
       "[{1: 0.85522957662492549},\n",
       " {2: 0.87215265354800242},\n",
       " {3: 0.876768038163387},\n",
       " {4: 0.86908765652951703},\n",
       " {5: 0.87833035181872388},\n",
       " {6: 0.8737030411449016}]"
      ]
     },
     "execution_count": 9,
     "metadata": {},
     "output_type": "execute_result"
    }
   ],
   "source": [
    "y = pd.DataFrame.copy(df.iloc[:, -3]).astype(int)\n",
    "calcScores(X, y)"
   ]
  },
  {
   "cell_type": "code",
   "execution_count": 10,
   "metadata": {
    "collapsed": false
   },
   "outputs": [
    {
     "data": {
      "image/png": "[encoded data removed]",
      "text/plain": [
       "<matplotlib.figure.Figure at 0x108b62eb8>"
      ]
     },
     "metadata": {},
     "output_type": "display_data"
    }
   ],
   "source": [
    "X_train, X_test, y_train, y_test= train_test_split(X, y, test_size= 0.4)\n",
    "dtc = DecisionTreeClassifier(criterion='entropy', max_depth=3)\n",
    "dtc = dtc.fit(X_train, y_train)\n",
    "tree.export_graphviz(dtc, out_file='../other/mat-bottom10percent.dot')  \n",
    "pred = dtc.predict(X_test)\n",
    "cnf_matrix = confusion_matrix(y_test, pred)\n",
    "plot_confusion_matrix(cnf_matrix, title='Confusion matrix for DTC')"
   ]
  },
  {
   "cell_type": "markdown",
   "metadata": {
    "collapsed": true
   },
   "source": [
    "y: Top 20"
   ]
  },
  {
   "cell_type": "code",
   "execution_count": 11,
   "metadata": {
    "collapsed": false
   },
   "outputs": [
    {
     "data": {
      "text/plain": [
       "[{1: 0.80124031007751939},\n",
       " {2: 0.7997018485390579},\n",
       " {3: 0.7997018485390579},\n",
       " {4: 0.79508646392367321},\n",
       " {5: 0.75165175909361959},\n",
       " {6: 0.74406678592725106}]"
      ]
     },
     "execution_count": 11,
     "metadata": {},
     "output_type": "execute_result"
    }
   ],
   "source": [
    "y = pd.DataFrame.copy(df.iloc[:, -2]).astype(int)\n",
    "calcScores(X, y)"
   ]
  },
  {
   "cell_type": "code",
   "execution_count": 12,
   "metadata": {
    "collapsed": false
   },
   "outputs": [
    {
     "data": {
      "image/png": "[encoded data removed]",
      "text/plain": [
       "<matplotlib.figure.Figure at 0x113032940>"
      ]
     },
     "metadata": {},
     "output_type": "display_data"
    }
   ],
   "source": [
    "X_train, X_test, y_train, y_test= train_test_split(X, y, test_size= 0.4)\n",
    "dtc = DecisionTreeClassifier(criterion='entropy', max_depth=1)\n",
    "dtc = dtc.fit(X_train, y_train)\n",
    "tree.export_graphviz(dtc, out_file='../other/mat-top20percent.dot')  \n",
    "pred = dtc.predict(X_test)\n",
    "cnf_matrix = confusion_matrix(y_test, pred)\n",
    "plot_confusion_matrix(cnf_matrix, title='Confusion matrix for DTC')"
   ]
  },
  {
   "cell_type": "markdown",
   "metadata": {
    "collapsed": true
   },
   "source": [
    "y: Bottom 20"
   ]
  },
  {
   "cell_type": "code",
   "execution_count": 13,
   "metadata": {
    "collapsed": false
   },
   "outputs": [
    {
     "data": {
      "text/plain": [
       "[{1: 0.82436493738819316},\n",
       " {2: 0.78590339892665484},\n",
       " {3: 0.82127608825283238},\n",
       " {4: 0.80128801431127017},\n",
       " {5: 0.81053070960047702},\n",
       " {6: 0.78587954680977945}]"
      ]
     },
     "execution_count": 13,
     "metadata": {},
     "output_type": "execute_result"
    }
   ],
   "source": [
    "y = pd.DataFrame.copy(df.iloc[:, -1]).astype(int)\n",
    "calcScores(X, y)"
   ]
  },
  {
   "cell_type": "code",
   "execution_count": 14,
   "metadata": {
    "collapsed": false
   },
   "outputs": [
    {
     "data": {
      "image/png": "[encoded data removed]",
      "text/plain": [
       "<matplotlib.figure.Figure at 0x116d87ac8>"
      ]
     },
     "metadata": {},
     "output_type": "display_data"
    }
   ],
   "source": [
    "X_train, X_test, y_train, y_test= train_test_split(X, y, test_size= 0.4)\n",
    "dtc = DecisionTreeClassifier(criterion='entropy', max_depth=1)\n",
    "dtc = dtc.fit(X_train, y_train)\n",
    "tree.export_graphviz(dtc, out_file='../other/mat-bottom20percent.dot')  \n",
    "pred = dtc.predict(X_test)\n",
    "cnf_matrix = confusion_matrix(y_test, pred)\n",
    "plot_confusion_matrix(cnf_matrix, title='Confusion matrix for DTC')"
   ]
  },
  {
   "cell_type": "code",
   "execution_count": null,
   "metadata": {
    "collapsed": true
   },
   "outputs": [],
   "source": []
  }
 ],
 "metadata": {
  "kernelspec": {
   "display_name": "Python 3",
   "language": "python",
   "name": "python3"
  },
  "language_info": {
   "codemirror_mode": {
    "name": "ipython",
    "version": 3
   },
   "file_extension": ".py",
   "mimetype": "text/x-python",
   "name": "python",
   "nbconvert_exporter": "python",
   "pygments_lexer": "ipython3",
   "version": "3.6.0"
  }
 },
 "nbformat": 4,
 "nbformat_minor": 2
}
